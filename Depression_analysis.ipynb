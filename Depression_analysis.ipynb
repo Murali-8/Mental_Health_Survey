{
 "cells": [
  {
   "cell_type": "markdown",
   "id": "da96b67e",
   "metadata": {},
   "source": [
    "# 🧠 Mental Health Depression Prediction - Exploratory Data Analysis\n",
    "\n",
    "## Phase 2: Basic Data Exploration\n",
    "\n",
    "**Objective**: Understand dataset structure, identify data quality issues, and perform initial feature analysis\n",
    "\n",
    "**Dataset**: Mental health survey data with 140,700 training samples and 93,800 test samples\n",
    "\n",
    "**Target**: Depression (Binary: 0=No Depression, 1=Depression)"
   ]
  },
  {
   "cell_type": "code",
   "execution_count": 12,
   "id": "1062a920",
   "metadata": {},
   "outputs": [
    {
     "name": "stdout",
     "output_type": "stream",
     "text": [
      "✅ Libraries imported successfully!\n",
      "📊 Pandas version: 2.3.3\n",
      "🔢 NumPy version: 1.26.4\n"
     ]
    }
   ],
   "source": [
    "# Import required libraries\n",
    "import pandas as pd\n",
    "import numpy as np\n",
    "import matplotlib.pyplot as plt\n",
    "import seaborn as sns\n",
    "import plotly.express as px\n",
    "import plotly.graph_objects as go\n",
    "from plotly.subplots import make_subplots\n",
    "import joblib\n",
    "\n",
    "from scipy import stats\n",
    "from sklearn.preprocessing import StandardScaler, LabelEncoder\n",
    "from sklearn.utils.class_weight import compute_class_weight\n",
    "from sklearn.feature_selection import mutual_info_classif\n",
    "from imblearn.over_sampling import SMOTE\n",
    "from collections import Counter\n",
    "from scipy.stats import chi2_contingency\n",
    "import warnings\n",
    "# modeling libraries\n",
    "import torch\n",
    "import torch.nn as nn\n",
    "import torch.optim as optim\n",
    "from sklearn.model_selection import train_test_split\n",
    "from sklearn.metrics import accuracy_score, precision_score, recall_score, f1_score, confusion_matrix\n",
    "\n",
    "\n",
    "\n",
    "\n",
    "# Configure settings\n",
    "warnings.filterwarnings('ignore')\n",
    "pd.set_option('display.max_columns', None)\n",
    "pd.set_option('display.max_rows', 100)\n",
    "\n",
    "# Set plotting style\n",
    "plt.style.use('default')\n",
    "sns.set_palette(\"husl\")\n",
    "warnings.filterwarnings('ignore')\n",
    "plt.style.use('seaborn-v0_8')\n",
    "\n",
    "print(\"✅ Libraries imported successfully!\")\n",
    "print(f\"📊 Pandas version: {pd.__version__}\")\n",
    "print(f\"🔢 NumPy version: {np.__version__}\")"
   ]
  },
  {
   "cell_type": "markdown",
   "id": "f944b26e",
   "metadata": {},
   "source": [
    "## Compatability check"
   ]
  },
  {
   "cell_type": "code",
   "execution_count": 3,
   "id": "36080af1",
   "metadata": {},
   "outputs": [
    {
     "name": "stdout",
     "output_type": "stream",
     "text": [
      "🔢 Active NumPy version: 1.26.4\n",
      "\n",
      "✅ pandas     — version 2.3.3\n",
      "✅ scipy      — version 1.13.1\n",
      "✅ sklearn    — version 1.6.1\n",
      "✅ torch      — version 2.2.2\n",
      "✅ plotly     — version 6.3.0\n",
      "✅ imblearn   — version 0.12.4\n",
      "✅ matplotlib — version 3.9.4\n",
      "✅ seaborn    — version 0.13.2\n",
      "\n",
      "📦 Python executable: /Users/muralidharanv/Documents/GUVI /PROJECTS/Mental Health Survey/mental_health_env/bin/python\n",
      "\n",
      "🎯 All libraries imported successfully — your environment is consistent!\n"
     ]
    }
   ],
   "source": [
    "import importlib\n",
    "import numpy as np\n",
    "import sys\n",
    "\n",
    "print(f\"🔢 Active NumPy version: {np.__version__}\\n\")\n",
    "\n",
    "# List of commonly used data science / ML libraries\n",
    "libraries = [\n",
    "    \"pandas\",\n",
    "    \"scipy\",\n",
    "    \"sklearn\",\n",
    "    \"torch\",\n",
    "    \"plotly\",\n",
    "    \"imblearn\",\n",
    "    \"matplotlib\",\n",
    "    \"seaborn\"\n",
    "]\n",
    "\n",
    "incompatible = []\n",
    "\n",
    "for lib in libraries:\n",
    "    try:\n",
    "        module = importlib.import_module(lib)\n",
    "        # Try to print version\n",
    "        version = getattr(module, \"__version__\", \"unknown\")\n",
    "        print(f\"✅ {lib:10s} — version {version}\")\n",
    "    except Exception as e:\n",
    "        print(f\"❌ {lib:10s} — failed to import ({e.__class__.__name__})\")\n",
    "        incompatible.append(lib)\n",
    "\n",
    "print(\"\\n📦 Python executable:\", sys.executable)\n",
    "\n",
    "if incompatible:\n",
    "    print(\"\\n⚠️ Some libraries failed to import. You may need to reinstall them.\")\n",
    "else:\n",
    "    print(\"\\n🎯 All libraries imported successfully — your environment is consistent!\")\n"
   ]
  },
  {
   "cell_type": "code",
   "execution_count": null,
   "id": "9e1f5f56",
   "metadata": {},
   "outputs": [],
   "source": []
  },
  {
   "cell_type": "markdown",
   "id": "ad634929",
   "metadata": {},
   "source": [
    "##  Subtask 2.2.1: Load and Examine Dataset Structure"
   ]
  },
  {
   "cell_type": "code",
   "execution_count": 44,
   "id": "4aec9e6e",
   "metadata": {},
   "outputs": [
    {
     "name": "stdout",
     "output_type": "stream",
     "text": [
      " Loading training dataset...\n",
      " Training data loaded: (140700, 20)\n",
      " Loading test dataset...\n",
      " Test data loaded: (93800, 19)\n",
      "\n",
      " Dataset Overview:\n",
      "   Training samples: 140,700\n",
      "   Test samples: 93,800\n",
      "   Total features: 19 (excluding target)\n",
      "   Memory usage: 96.19 MB\n"
     ]
    }
   ],
   "source": [
    "# Load the datasets\n",
    "train_path = '../data/playground-series-s4e11/train.csv'\n",
    "test_path = '../data/playground-series-s4e11/test.csv'\n",
    "\n",
    "# Load training data\n",
    "print(\" Loading training dataset...\")\n",
    "train_df = pd.read_csv(train_path)\n",
    "print(f\" Training data loaded: {train_df.shape}\")\n",
    "\n",
    "# Load test data\n",
    "print(\" Loading test dataset...\")\n",
    "test_df = pd.read_csv(test_path)\n",
    "print(f\" Test data loaded: {test_df.shape}\")\n",
    "\n",
    "print(f\"\\n Dataset Overview:\")\n",
    "print(f\"   Training samples: {train_df.shape[0]:,}\")\n",
    "print(f\"   Test samples: {test_df.shape[0]:,}\")\n",
    "print(f\"   Total features: {train_df.shape[1]-1} (excluding target)\")\n",
    "print(f\"   Memory usage: {train_df.memory_usage(deep=True).sum() / 1024**2:.2f} MB\")"
   ]
  },
  {
   "cell_type": "code",
   "execution_count": 45,
   "id": "82775f37",
   "metadata": {},
   "outputs": [
    {
     "name": "stdout",
     "output_type": "stream",
     "text": [
      " First 5 rows of training data:\n"
     ]
    },
    {
     "data": {
      "text/html": [
       "<div>\n",
       "<style scoped>\n",
       "    .dataframe tbody tr th:only-of-type {\n",
       "        vertical-align: middle;\n",
       "    }\n",
       "\n",
       "    .dataframe tbody tr th {\n",
       "        vertical-align: top;\n",
       "    }\n",
       "\n",
       "    .dataframe thead th {\n",
       "        text-align: right;\n",
       "    }\n",
       "</style>\n",
       "<table border=\"1\" class=\"dataframe\">\n",
       "  <thead>\n",
       "    <tr style=\"text-align: right;\">\n",
       "      <th></th>\n",
       "      <th>id</th>\n",
       "      <th>Name</th>\n",
       "      <th>Gender</th>\n",
       "      <th>Age</th>\n",
       "      <th>City</th>\n",
       "      <th>Working Professional or Student</th>\n",
       "      <th>Profession</th>\n",
       "      <th>Academic Pressure</th>\n",
       "      <th>Work Pressure</th>\n",
       "      <th>CGPA</th>\n",
       "      <th>Study Satisfaction</th>\n",
       "      <th>Job Satisfaction</th>\n",
       "      <th>Sleep Duration</th>\n",
       "      <th>Dietary Habits</th>\n",
       "      <th>Degree</th>\n",
       "      <th>Have you ever had suicidal thoughts ?</th>\n",
       "      <th>Work/Study Hours</th>\n",
       "      <th>Financial Stress</th>\n",
       "      <th>Family History of Mental Illness</th>\n",
       "      <th>Depression</th>\n",
       "    </tr>\n",
       "  </thead>\n",
       "  <tbody>\n",
       "    <tr>\n",
       "      <th>0</th>\n",
       "      <td>0</td>\n",
       "      <td>Aaradhya</td>\n",
       "      <td>Female</td>\n",
       "      <td>49</td>\n",
       "      <td>Ludhiana</td>\n",
       "      <td>Working Professional</td>\n",
       "      <td>Chef</td>\n",
       "      <td>NaN</td>\n",
       "      <td>5.0</td>\n",
       "      <td>NaN</td>\n",
       "      <td>NaN</td>\n",
       "      <td>2.0</td>\n",
       "      <td>More than 8 hours</td>\n",
       "      <td>Healthy</td>\n",
       "      <td>BHM</td>\n",
       "      <td>No</td>\n",
       "      <td>1</td>\n",
       "      <td>2.0</td>\n",
       "      <td>No</td>\n",
       "      <td>0</td>\n",
       "    </tr>\n",
       "    <tr>\n",
       "      <th>1</th>\n",
       "      <td>1</td>\n",
       "      <td>Vivan</td>\n",
       "      <td>Male</td>\n",
       "      <td>26</td>\n",
       "      <td>Varanasi</td>\n",
       "      <td>Working Professional</td>\n",
       "      <td>Teacher</td>\n",
       "      <td>NaN</td>\n",
       "      <td>4.0</td>\n",
       "      <td>NaN</td>\n",
       "      <td>NaN</td>\n",
       "      <td>3.0</td>\n",
       "      <td>Less than 5 hours</td>\n",
       "      <td>Unhealthy</td>\n",
       "      <td>LLB</td>\n",
       "      <td>Yes</td>\n",
       "      <td>7</td>\n",
       "      <td>3.0</td>\n",
       "      <td>No</td>\n",
       "      <td>1</td>\n",
       "    </tr>\n",
       "    <tr>\n",
       "      <th>2</th>\n",
       "      <td>2</td>\n",
       "      <td>Yuvraj</td>\n",
       "      <td>Male</td>\n",
       "      <td>33</td>\n",
       "      <td>Visakhapatnam</td>\n",
       "      <td>Student</td>\n",
       "      <td>NaN</td>\n",
       "      <td>5.0</td>\n",
       "      <td>NaN</td>\n",
       "      <td>8.97</td>\n",
       "      <td>2.0</td>\n",
       "      <td>NaN</td>\n",
       "      <td>5-6 hours</td>\n",
       "      <td>Healthy</td>\n",
       "      <td>B.Pharm</td>\n",
       "      <td>Yes</td>\n",
       "      <td>3</td>\n",
       "      <td>1.0</td>\n",
       "      <td>No</td>\n",
       "      <td>1</td>\n",
       "    </tr>\n",
       "    <tr>\n",
       "      <th>3</th>\n",
       "      <td>3</td>\n",
       "      <td>Yuvraj</td>\n",
       "      <td>Male</td>\n",
       "      <td>22</td>\n",
       "      <td>Mumbai</td>\n",
       "      <td>Working Professional</td>\n",
       "      <td>Teacher</td>\n",
       "      <td>NaN</td>\n",
       "      <td>5.0</td>\n",
       "      <td>NaN</td>\n",
       "      <td>NaN</td>\n",
       "      <td>1.0</td>\n",
       "      <td>Less than 5 hours</td>\n",
       "      <td>Moderate</td>\n",
       "      <td>BBA</td>\n",
       "      <td>Yes</td>\n",
       "      <td>10</td>\n",
       "      <td>1.0</td>\n",
       "      <td>Yes</td>\n",
       "      <td>1</td>\n",
       "    </tr>\n",
       "    <tr>\n",
       "      <th>4</th>\n",
       "      <td>4</td>\n",
       "      <td>Rhea</td>\n",
       "      <td>Female</td>\n",
       "      <td>30</td>\n",
       "      <td>Kanpur</td>\n",
       "      <td>Working Professional</td>\n",
       "      <td>Business Analyst</td>\n",
       "      <td>NaN</td>\n",
       "      <td>1.0</td>\n",
       "      <td>NaN</td>\n",
       "      <td>NaN</td>\n",
       "      <td>1.0</td>\n",
       "      <td>5-6 hours</td>\n",
       "      <td>Unhealthy</td>\n",
       "      <td>BBA</td>\n",
       "      <td>Yes</td>\n",
       "      <td>9</td>\n",
       "      <td>4.0</td>\n",
       "      <td>Yes</td>\n",
       "      <td>0</td>\n",
       "    </tr>\n",
       "  </tbody>\n",
       "</table>\n",
       "</div>"
      ],
      "text/plain": [
       "   id      Name  Gender  Age           City Working Professional or Student  \\\n",
       "0   0  Aaradhya  Female   49       Ludhiana            Working Professional   \n",
       "1   1     Vivan    Male   26       Varanasi            Working Professional   \n",
       "2   2    Yuvraj    Male   33  Visakhapatnam                         Student   \n",
       "3   3    Yuvraj    Male   22         Mumbai            Working Professional   \n",
       "4   4      Rhea  Female   30         Kanpur            Working Professional   \n",
       "\n",
       "         Profession  Academic Pressure  Work Pressure  CGPA  \\\n",
       "0              Chef                NaN            5.0   NaN   \n",
       "1           Teacher                NaN            4.0   NaN   \n",
       "2               NaN                5.0            NaN  8.97   \n",
       "3           Teacher                NaN            5.0   NaN   \n",
       "4  Business Analyst                NaN            1.0   NaN   \n",
       "\n",
       "   Study Satisfaction  Job Satisfaction     Sleep Duration Dietary Habits  \\\n",
       "0                 NaN               2.0  More than 8 hours        Healthy   \n",
       "1                 NaN               3.0  Less than 5 hours      Unhealthy   \n",
       "2                 2.0               NaN          5-6 hours        Healthy   \n",
       "3                 NaN               1.0  Less than 5 hours       Moderate   \n",
       "4                 NaN               1.0          5-6 hours      Unhealthy   \n",
       "\n",
       "    Degree Have you ever had suicidal thoughts ?  Work/Study Hours  \\\n",
       "0      BHM                                    No                 1   \n",
       "1      LLB                                   Yes                 7   \n",
       "2  B.Pharm                                   Yes                 3   \n",
       "3      BBA                                   Yes                10   \n",
       "4      BBA                                   Yes                 9   \n",
       "\n",
       "   Financial Stress Family History of Mental Illness  Depression  \n",
       "0               2.0                               No           0  \n",
       "1               3.0                               No           1  \n",
       "2               1.0                               No           1  \n",
       "3               1.0                              Yes           1  \n",
       "4               4.0                              Yes           0  "
      ]
     },
     "metadata": {},
     "output_type": "display_data"
    },
    {
     "name": "stdout",
     "output_type": "stream",
     "text": [
      "\n",
      " Column names and data types:\n"
     ]
    },
    {
     "data": {
      "text/html": [
       "<div>\n",
       "<style scoped>\n",
       "    .dataframe tbody tr th:only-of-type {\n",
       "        vertical-align: middle;\n",
       "    }\n",
       "\n",
       "    .dataframe tbody tr th {\n",
       "        vertical-align: top;\n",
       "    }\n",
       "\n",
       "    .dataframe thead th {\n",
       "        text-align: right;\n",
       "    }\n",
       "</style>\n",
       "<table border=\"1\" class=\"dataframe\">\n",
       "  <thead>\n",
       "    <tr style=\"text-align: right;\">\n",
       "      <th></th>\n",
       "      <th>Column</th>\n",
       "      <th>Data Type</th>\n",
       "      <th>Non-Null Count</th>\n",
       "      <th>Null Count</th>\n",
       "      <th>Null %</th>\n",
       "    </tr>\n",
       "  </thead>\n",
       "  <tbody>\n",
       "    <tr>\n",
       "      <th>id</th>\n",
       "      <td>id</td>\n",
       "      <td>int64</td>\n",
       "      <td>140700</td>\n",
       "      <td>0</td>\n",
       "      <td>0.00</td>\n",
       "    </tr>\n",
       "    <tr>\n",
       "      <th>Name</th>\n",
       "      <td>Name</td>\n",
       "      <td>object</td>\n",
       "      <td>140700</td>\n",
       "      <td>0</td>\n",
       "      <td>0.00</td>\n",
       "    </tr>\n",
       "    <tr>\n",
       "      <th>Gender</th>\n",
       "      <td>Gender</td>\n",
       "      <td>object</td>\n",
       "      <td>140700</td>\n",
       "      <td>0</td>\n",
       "      <td>0.00</td>\n",
       "    </tr>\n",
       "    <tr>\n",
       "      <th>Age</th>\n",
       "      <td>Age</td>\n",
       "      <td>int64</td>\n",
       "      <td>140700</td>\n",
       "      <td>0</td>\n",
       "      <td>0.00</td>\n",
       "    </tr>\n",
       "    <tr>\n",
       "      <th>City</th>\n",
       "      <td>City</td>\n",
       "      <td>object</td>\n",
       "      <td>140700</td>\n",
       "      <td>0</td>\n",
       "      <td>0.00</td>\n",
       "    </tr>\n",
       "    <tr>\n",
       "      <th>Working Professional or Student</th>\n",
       "      <td>Working Professional or Student</td>\n",
       "      <td>object</td>\n",
       "      <td>140700</td>\n",
       "      <td>0</td>\n",
       "      <td>0.00</td>\n",
       "    </tr>\n",
       "    <tr>\n",
       "      <th>Profession</th>\n",
       "      <td>Profession</td>\n",
       "      <td>object</td>\n",
       "      <td>104062</td>\n",
       "      <td>36638</td>\n",
       "      <td>26.04</td>\n",
       "    </tr>\n",
       "    <tr>\n",
       "      <th>Academic Pressure</th>\n",
       "      <td>Academic Pressure</td>\n",
       "      <td>float64</td>\n",
       "      <td>27897</td>\n",
       "      <td>112803</td>\n",
       "      <td>80.17</td>\n",
       "    </tr>\n",
       "    <tr>\n",
       "      <th>Work Pressure</th>\n",
       "      <td>Work Pressure</td>\n",
       "      <td>float64</td>\n",
       "      <td>112782</td>\n",
       "      <td>27918</td>\n",
       "      <td>19.84</td>\n",
       "    </tr>\n",
       "    <tr>\n",
       "      <th>CGPA</th>\n",
       "      <td>CGPA</td>\n",
       "      <td>float64</td>\n",
       "      <td>27898</td>\n",
       "      <td>112802</td>\n",
       "      <td>80.17</td>\n",
       "    </tr>\n",
       "    <tr>\n",
       "      <th>Study Satisfaction</th>\n",
       "      <td>Study Satisfaction</td>\n",
       "      <td>float64</td>\n",
       "      <td>27897</td>\n",
       "      <td>112803</td>\n",
       "      <td>80.17</td>\n",
       "    </tr>\n",
       "    <tr>\n",
       "      <th>Job Satisfaction</th>\n",
       "      <td>Job Satisfaction</td>\n",
       "      <td>float64</td>\n",
       "      <td>112790</td>\n",
       "      <td>27910</td>\n",
       "      <td>19.84</td>\n",
       "    </tr>\n",
       "    <tr>\n",
       "      <th>Sleep Duration</th>\n",
       "      <td>Sleep Duration</td>\n",
       "      <td>object</td>\n",
       "      <td>140700</td>\n",
       "      <td>0</td>\n",
       "      <td>0.00</td>\n",
       "    </tr>\n",
       "    <tr>\n",
       "      <th>Dietary Habits</th>\n",
       "      <td>Dietary Habits</td>\n",
       "      <td>object</td>\n",
       "      <td>140696</td>\n",
       "      <td>4</td>\n",
       "      <td>0.00</td>\n",
       "    </tr>\n",
       "    <tr>\n",
       "      <th>Degree</th>\n",
       "      <td>Degree</td>\n",
       "      <td>object</td>\n",
       "      <td>140698</td>\n",
       "      <td>2</td>\n",
       "      <td>0.00</td>\n",
       "    </tr>\n",
       "    <tr>\n",
       "      <th>Have you ever had suicidal thoughts ?</th>\n",
       "      <td>Have you ever had suicidal thoughts ?</td>\n",
       "      <td>object</td>\n",
       "      <td>140700</td>\n",
       "      <td>0</td>\n",
       "      <td>0.00</td>\n",
       "    </tr>\n",
       "    <tr>\n",
       "      <th>Work/Study Hours</th>\n",
       "      <td>Work/Study Hours</td>\n",
       "      <td>int64</td>\n",
       "      <td>140700</td>\n",
       "      <td>0</td>\n",
       "      <td>0.00</td>\n",
       "    </tr>\n",
       "    <tr>\n",
       "      <th>Financial Stress</th>\n",
       "      <td>Financial Stress</td>\n",
       "      <td>float64</td>\n",
       "      <td>140696</td>\n",
       "      <td>4</td>\n",
       "      <td>0.00</td>\n",
       "    </tr>\n",
       "    <tr>\n",
       "      <th>Family History of Mental Illness</th>\n",
       "      <td>Family History of Mental Illness</td>\n",
       "      <td>object</td>\n",
       "      <td>140700</td>\n",
       "      <td>0</td>\n",
       "      <td>0.00</td>\n",
       "    </tr>\n",
       "    <tr>\n",
       "      <th>Depression</th>\n",
       "      <td>Depression</td>\n",
       "      <td>int64</td>\n",
       "      <td>140700</td>\n",
       "      <td>0</td>\n",
       "      <td>0.00</td>\n",
       "    </tr>\n",
       "  </tbody>\n",
       "</table>\n",
       "</div>"
      ],
      "text/plain": [
       "                                                                      Column  \\\n",
       "id                                                                        id   \n",
       "Name                                                                    Name   \n",
       "Gender                                                                Gender   \n",
       "Age                                                                      Age   \n",
       "City                                                                    City   \n",
       "Working Professional or Student              Working Professional or Student   \n",
       "Profession                                                        Profession   \n",
       "Academic Pressure                                          Academic Pressure   \n",
       "Work Pressure                                                  Work Pressure   \n",
       "CGPA                                                                    CGPA   \n",
       "Study Satisfaction                                        Study Satisfaction   \n",
       "Job Satisfaction                                            Job Satisfaction   \n",
       "Sleep Duration                                                Sleep Duration   \n",
       "Dietary Habits                                                Dietary Habits   \n",
       "Degree                                                                Degree   \n",
       "Have you ever had suicidal thoughts ?  Have you ever had suicidal thoughts ?   \n",
       "Work/Study Hours                                            Work/Study Hours   \n",
       "Financial Stress                                            Financial Stress   \n",
       "Family History of Mental Illness            Family History of Mental Illness   \n",
       "Depression                                                        Depression   \n",
       "\n",
       "                                      Data Type  Non-Null Count  Null Count  \\\n",
       "id                                        int64          140700           0   \n",
       "Name                                     object          140700           0   \n",
       "Gender                                   object          140700           0   \n",
       "Age                                       int64          140700           0   \n",
       "City                                     object          140700           0   \n",
       "Working Professional or Student          object          140700           0   \n",
       "Profession                               object          104062       36638   \n",
       "Academic Pressure                       float64           27897      112803   \n",
       "Work Pressure                           float64          112782       27918   \n",
       "CGPA                                    float64           27898      112802   \n",
       "Study Satisfaction                      float64           27897      112803   \n",
       "Job Satisfaction                        float64          112790       27910   \n",
       "Sleep Duration                           object          140700           0   \n",
       "Dietary Habits                           object          140696           4   \n",
       "Degree                                   object          140698           2   \n",
       "Have you ever had suicidal thoughts ?    object          140700           0   \n",
       "Work/Study Hours                          int64          140700           0   \n",
       "Financial Stress                        float64          140696           4   \n",
       "Family History of Mental Illness         object          140700           0   \n",
       "Depression                                int64          140700           0   \n",
       "\n",
       "                                       Null %  \n",
       "id                                       0.00  \n",
       "Name                                     0.00  \n",
       "Gender                                   0.00  \n",
       "Age                                      0.00  \n",
       "City                                     0.00  \n",
       "Working Professional or Student          0.00  \n",
       "Profession                              26.04  \n",
       "Academic Pressure                       80.17  \n",
       "Work Pressure                           19.84  \n",
       "CGPA                                    80.17  \n",
       "Study Satisfaction                      80.17  \n",
       "Job Satisfaction                        19.84  \n",
       "Sleep Duration                           0.00  \n",
       "Dietary Habits                           0.00  \n",
       "Degree                                   0.00  \n",
       "Have you ever had suicidal thoughts ?    0.00  \n",
       "Work/Study Hours                         0.00  \n",
       "Financial Stress                         0.00  \n",
       "Family History of Mental Illness         0.00  \n",
       "Depression                               0.00  "
      ]
     },
     "metadata": {},
     "output_type": "display_data"
    }
   ],
   "source": [
    "# Display first few rows\n",
    "print(\" First 5 rows of training data:\")\n",
    "display(train_df.head())\n",
    "\n",
    "print(\"\\n Column names and data types:\")\n",
    "column_info = pd.DataFrame({\n",
    "    'Column': train_df.columns,\n",
    "    'Data Type': train_df.dtypes,\n",
    "    'Non-Null Count': train_df.count(),\n",
    "    'Null Count': train_df.isnull().sum(),\n",
    "    'Null %': (train_df.isnull().sum() / len(train_df) * 100).round(2)\n",
    "})\n",
    "display(column_info)"
   ]
  },
  {
   "cell_type": "markdown",
   "id": "6fd7cb10",
   "metadata": {},
   "source": [
    "##  Subtask 2.2.2: Generate Basic Statistical Summaries"
   ]
  },
  {
   "cell_type": "code",
   "execution_count": 46,
   "id": "2d8e8603",
   "metadata": {},
   "outputs": [
    {
     "name": "stdout",
     "output_type": "stream",
     "text": [
      " Dataset Information:\n",
      "<class 'pandas.core.frame.DataFrame'>\n",
      "RangeIndex: 140700 entries, 0 to 140699\n",
      "Data columns (total 20 columns):\n",
      " #   Column                                 Non-Null Count   Dtype  \n",
      "---  ------                                 --------------   -----  \n",
      " 0   id                                     140700 non-null  int64  \n",
      " 1   Name                                   140700 non-null  object \n",
      " 2   Gender                                 140700 non-null  object \n",
      " 3   Age                                    140700 non-null  int64  \n",
      " 4   City                                   140700 non-null  object \n",
      " 5   Working Professional or Student        140700 non-null  object \n",
      " 6   Profession                             104062 non-null  object \n",
      " 7   Academic Pressure                      27897 non-null   float64\n",
      " 8   Work Pressure                          112782 non-null  float64\n",
      " 9   CGPA                                   27898 non-null   float64\n",
      " 10  Study Satisfaction                     27897 non-null   float64\n",
      " 11  Job Satisfaction                       112790 non-null  float64\n",
      " 12  Sleep Duration                         140700 non-null  object \n",
      " 13  Dietary Habits                         140696 non-null  object \n",
      " 14  Degree                                 140698 non-null  object \n",
      " 15  Have you ever had suicidal thoughts ?  140700 non-null  object \n",
      " 16  Work/Study Hours                       140700 non-null  int64  \n",
      " 17  Financial Stress                       140696 non-null  float64\n",
      " 18  Family History of Mental Illness       140700 non-null  object \n",
      " 19  Depression                             140700 non-null  int64  \n",
      "dtypes: float64(6), int64(4), object(10)\n",
      "memory usage: 21.5+ MB\n",
      "\n",
      " Numerical features summary:\n"
     ]
    },
    {
     "data": {
      "text/html": [
       "<div>\n",
       "<style scoped>\n",
       "    .dataframe tbody tr th:only-of-type {\n",
       "        vertical-align: middle;\n",
       "    }\n",
       "\n",
       "    .dataframe tbody tr th {\n",
       "        vertical-align: top;\n",
       "    }\n",
       "\n",
       "    .dataframe thead th {\n",
       "        text-align: right;\n",
       "    }\n",
       "</style>\n",
       "<table border=\"1\" class=\"dataframe\">\n",
       "  <thead>\n",
       "    <tr style=\"text-align: right;\">\n",
       "      <th></th>\n",
       "      <th>Age</th>\n",
       "      <th>Academic Pressure</th>\n",
       "      <th>Work Pressure</th>\n",
       "      <th>CGPA</th>\n",
       "      <th>Study Satisfaction</th>\n",
       "      <th>Job Satisfaction</th>\n",
       "      <th>Work/Study Hours</th>\n",
       "      <th>Financial Stress</th>\n",
       "      <th>Depression</th>\n",
       "    </tr>\n",
       "  </thead>\n",
       "  <tbody>\n",
       "    <tr>\n",
       "      <th>count</th>\n",
       "      <td>140700.000000</td>\n",
       "      <td>27897.000000</td>\n",
       "      <td>112782.000000</td>\n",
       "      <td>27898.000000</td>\n",
       "      <td>27897.000000</td>\n",
       "      <td>112790.000000</td>\n",
       "      <td>140700.000000</td>\n",
       "      <td>140696.000000</td>\n",
       "      <td>140700.000000</td>\n",
       "    </tr>\n",
       "    <tr>\n",
       "      <th>mean</th>\n",
       "      <td>40.388621</td>\n",
       "      <td>3.142273</td>\n",
       "      <td>2.998998</td>\n",
       "      <td>7.658636</td>\n",
       "      <td>2.944940</td>\n",
       "      <td>2.974404</td>\n",
       "      <td>6.252679</td>\n",
       "      <td>2.988983</td>\n",
       "      <td>0.181713</td>\n",
       "    </tr>\n",
       "    <tr>\n",
       "      <th>std</th>\n",
       "      <td>12.384099</td>\n",
       "      <td>1.380457</td>\n",
       "      <td>1.405771</td>\n",
       "      <td>1.464466</td>\n",
       "      <td>1.360197</td>\n",
       "      <td>1.416078</td>\n",
       "      <td>3.853615</td>\n",
       "      <td>1.413633</td>\n",
       "      <td>0.385609</td>\n",
       "    </tr>\n",
       "    <tr>\n",
       "      <th>min</th>\n",
       "      <td>18.000000</td>\n",
       "      <td>1.000000</td>\n",
       "      <td>1.000000</td>\n",
       "      <td>5.030000</td>\n",
       "      <td>1.000000</td>\n",
       "      <td>1.000000</td>\n",
       "      <td>0.000000</td>\n",
       "      <td>1.000000</td>\n",
       "      <td>0.000000</td>\n",
       "    </tr>\n",
       "    <tr>\n",
       "      <th>25%</th>\n",
       "      <td>29.000000</td>\n",
       "      <td>2.000000</td>\n",
       "      <td>2.000000</td>\n",
       "      <td>6.290000</td>\n",
       "      <td>2.000000</td>\n",
       "      <td>2.000000</td>\n",
       "      <td>3.000000</td>\n",
       "      <td>2.000000</td>\n",
       "      <td>0.000000</td>\n",
       "    </tr>\n",
       "    <tr>\n",
       "      <th>50%</th>\n",
       "      <td>42.000000</td>\n",
       "      <td>3.000000</td>\n",
       "      <td>3.000000</td>\n",
       "      <td>7.770000</td>\n",
       "      <td>3.000000</td>\n",
       "      <td>3.000000</td>\n",
       "      <td>6.000000</td>\n",
       "      <td>3.000000</td>\n",
       "      <td>0.000000</td>\n",
       "    </tr>\n",
       "    <tr>\n",
       "      <th>75%</th>\n",
       "      <td>51.000000</td>\n",
       "      <td>4.000000</td>\n",
       "      <td>4.000000</td>\n",
       "      <td>8.920000</td>\n",
       "      <td>4.000000</td>\n",
       "      <td>4.000000</td>\n",
       "      <td>10.000000</td>\n",
       "      <td>4.000000</td>\n",
       "      <td>0.000000</td>\n",
       "    </tr>\n",
       "    <tr>\n",
       "      <th>max</th>\n",
       "      <td>60.000000</td>\n",
       "      <td>5.000000</td>\n",
       "      <td>5.000000</td>\n",
       "      <td>10.000000</td>\n",
       "      <td>5.000000</td>\n",
       "      <td>5.000000</td>\n",
       "      <td>12.000000</td>\n",
       "      <td>5.000000</td>\n",
       "      <td>1.000000</td>\n",
       "    </tr>\n",
       "  </tbody>\n",
       "</table>\n",
       "</div>"
      ],
      "text/plain": [
       "                 Age  Academic Pressure  Work Pressure          CGPA  \\\n",
       "count  140700.000000       27897.000000  112782.000000  27898.000000   \n",
       "mean       40.388621           3.142273       2.998998      7.658636   \n",
       "std        12.384099           1.380457       1.405771      1.464466   \n",
       "min        18.000000           1.000000       1.000000      5.030000   \n",
       "25%        29.000000           2.000000       2.000000      6.290000   \n",
       "50%        42.000000           3.000000       3.000000      7.770000   \n",
       "75%        51.000000           4.000000       4.000000      8.920000   \n",
       "max        60.000000           5.000000       5.000000     10.000000   \n",
       "\n",
       "       Study Satisfaction  Job Satisfaction  Work/Study Hours  \\\n",
       "count        27897.000000     112790.000000     140700.000000   \n",
       "mean             2.944940          2.974404          6.252679   \n",
       "std              1.360197          1.416078          3.853615   \n",
       "min              1.000000          1.000000          0.000000   \n",
       "25%              2.000000          2.000000          3.000000   \n",
       "50%              3.000000          3.000000          6.000000   \n",
       "75%              4.000000          4.000000         10.000000   \n",
       "max              5.000000          5.000000         12.000000   \n",
       "\n",
       "       Financial Stress     Depression  \n",
       "count     140696.000000  140700.000000  \n",
       "mean           2.988983       0.181713  \n",
       "std            1.413633       0.385609  \n",
       "min            1.000000       0.000000  \n",
       "25%            2.000000       0.000000  \n",
       "50%            3.000000       0.000000  \n",
       "75%            4.000000       0.000000  \n",
       "max            5.000000       1.000000  "
      ]
     },
     "metadata": {},
     "output_type": "display_data"
    }
   ],
   "source": [
    "# Basic info about the dataset\n",
    "print(\" Dataset Information:\")\n",
    "train_df.info()\n",
    "\n",
    "print(\"\\n Numerical features summary:\")\n",
    "numerical_cols = train_df.select_dtypes(include=[np.number]).columns.tolist()\n",
    "if 'id' in numerical_cols:\n",
    "    numerical_cols.remove('id')\n",
    "    \n",
    "display(train_df[numerical_cols].describe())"
   ]
  },
  {
   "cell_type": "code",
   "execution_count": 47,
   "id": "fc8cc05e",
   "metadata": {},
   "outputs": [
    {
     "name": "stdout",
     "output_type": "stream",
     "text": [
      " Categorical features summary:\n",
      "\n",
      " Name:\n",
      "   Unique values: 422\n",
      "   Most frequent: Rohan\n",
      "   Top 5 values:\n",
      "Name\n",
      "Rohan       3178\n",
      "Aarav       2336\n",
      "Rupak       2176\n",
      "Aaradhya    2045\n",
      "Anvi        2035\n",
      "\n",
      " Gender:\n",
      "   Unique values: 2\n",
      "   Most frequent: Male\n",
      "   Value counts:\n",
      "Gender\n",
      "Male      77464\n",
      "Female    63236\n",
      "\n",
      " City:\n",
      "   Unique values: 98\n",
      "   Most frequent: Kalyan\n",
      "   Top 5 values:\n",
      "City\n",
      "Kalyan         6591\n",
      "Patna          5924\n",
      "Vasai-Virar    5765\n",
      "Kolkata        5689\n",
      "Ahmedabad      5613\n",
      "\n",
      " Working Professional or Student:\n",
      "   Unique values: 2\n",
      "   Most frequent: Working Professional\n",
      "   Value counts:\n",
      "Working Professional or Student\n",
      "Working Professional    112799\n",
      "Student                  27901\n",
      "\n",
      " Profession:\n",
      "   Unique values: 58\n",
      "   Most frequent: Teacher\n",
      "   Top 5 values:\n",
      "Profession\n",
      "Teacher           24906\n",
      "Content Writer     7814\n",
      "Architect          4370\n",
      "Consultant         4229\n",
      "HR Manager         4022\n",
      "\n",
      " Sleep Duration:\n",
      "   Unique values: 36\n",
      "   Most frequent: Less than 5 hours\n",
      "   Top 5 values:\n",
      "Sleep Duration\n",
      "Less than 5 hours    38784\n",
      "7-8 hours            36969\n",
      "More than 8 hours    32726\n",
      "5-6 hours            32142\n",
      "3-4 hours               12\n",
      "\n",
      " Dietary Habits:\n",
      "   Unique values: 23\n",
      "   Most frequent: Moderate\n",
      "   Top 5 values:\n",
      "Dietary Habits\n",
      "Moderate     49705\n",
      "Unhealthy    46227\n",
      "Healthy      44741\n",
      "Yes              2\n",
      "No               2\n",
      "\n",
      " Degree:\n",
      "   Unique values: 115\n",
      "   Most frequent: Class 12\n",
      "   Top 5 values:\n",
      "Degree\n",
      "Class 12    14729\n",
      "B.Ed        11691\n",
      "B.Arch       8742\n",
      "B.Com        8113\n",
      "B.Pharm      5856\n",
      "\n",
      " Have you ever had suicidal thoughts ?:\n",
      "   Unique values: 2\n",
      "   Most frequent: No\n",
      "   Value counts:\n",
      "Have you ever had suicidal thoughts ?\n",
      "No     71138\n",
      "Yes    69562\n",
      "\n",
      " Family History of Mental Illness:\n",
      "   Unique values: 2\n",
      "   Most frequent: No\n",
      "   Value counts:\n",
      "Family History of Mental Illness\n",
      "No     70758\n",
      "Yes    69942\n"
     ]
    }
   ],
   "source": [
    "# Categorical features summary\n",
    "print(\" Categorical features summary:\")\n",
    "categorical_cols = train_df.select_dtypes(include=['object']).columns.tolist()\n",
    "\n",
    "for col in categorical_cols:\n",
    "    print(f\"\\n {col}:\")\n",
    "    print(f\"   Unique values: {train_df[col].nunique()}\")\n",
    "    print(f\"   Most frequent: {train_df[col].mode().iloc[0]}\")\n",
    "    if train_df[col].nunique() <= 10:\n",
    "        print(f\"   Value counts:\")\n",
    "        print(train_df[col].value_counts().to_string())\n",
    "    else:\n",
    "        print(f\"   Top 5 values:\")\n",
    "        print(train_df[col].value_counts().head().to_string())"
   ]
  },
  {
   "cell_type": "markdown",
   "id": "03fdd934",
   "metadata": {},
   "source": [
    "##  Subtask 2.2.3: Identify Missing Values and Data Quality Issues"
   ]
  },
  {
   "cell_type": "code",
   "execution_count": 48,
   "id": "099347a6",
   "metadata": {},
   "outputs": [
    {
     "name": "stdout",
     "output_type": "stream",
     "text": [
      " Missing Values Analysis:\n"
     ]
    },
    {
     "data": {
      "text/html": [
       "<div>\n",
       "<style scoped>\n",
       "    .dataframe tbody tr th:only-of-type {\n",
       "        vertical-align: middle;\n",
       "    }\n",
       "\n",
       "    .dataframe tbody tr th {\n",
       "        vertical-align: top;\n",
       "    }\n",
       "\n",
       "    .dataframe thead th {\n",
       "        text-align: right;\n",
       "    }\n",
       "</style>\n",
       "<table border=\"1\" class=\"dataframe\">\n",
       "  <thead>\n",
       "    <tr style=\"text-align: right;\">\n",
       "      <th></th>\n",
       "      <th>Column</th>\n",
       "      <th>Missing Count</th>\n",
       "      <th>Missing %</th>\n",
       "    </tr>\n",
       "  </thead>\n",
       "  <tbody>\n",
       "    <tr>\n",
       "      <th>7</th>\n",
       "      <td>Academic Pressure</td>\n",
       "      <td>112803</td>\n",
       "      <td>80.172708</td>\n",
       "    </tr>\n",
       "    <tr>\n",
       "      <th>10</th>\n",
       "      <td>Study Satisfaction</td>\n",
       "      <td>112803</td>\n",
       "      <td>80.172708</td>\n",
       "    </tr>\n",
       "    <tr>\n",
       "      <th>9</th>\n",
       "      <td>CGPA</td>\n",
       "      <td>112802</td>\n",
       "      <td>80.171997</td>\n",
       "    </tr>\n",
       "    <tr>\n",
       "      <th>6</th>\n",
       "      <td>Profession</td>\n",
       "      <td>36638</td>\n",
       "      <td>26.039801</td>\n",
       "    </tr>\n",
       "    <tr>\n",
       "      <th>8</th>\n",
       "      <td>Work Pressure</td>\n",
       "      <td>27918</td>\n",
       "      <td>19.842217</td>\n",
       "    </tr>\n",
       "    <tr>\n",
       "      <th>11</th>\n",
       "      <td>Job Satisfaction</td>\n",
       "      <td>27910</td>\n",
       "      <td>19.836532</td>\n",
       "    </tr>\n",
       "    <tr>\n",
       "      <th>13</th>\n",
       "      <td>Dietary Habits</td>\n",
       "      <td>4</td>\n",
       "      <td>0.002843</td>\n",
       "    </tr>\n",
       "    <tr>\n",
       "      <th>17</th>\n",
       "      <td>Financial Stress</td>\n",
       "      <td>4</td>\n",
       "      <td>0.002843</td>\n",
       "    </tr>\n",
       "    <tr>\n",
       "      <th>14</th>\n",
       "      <td>Degree</td>\n",
       "      <td>2</td>\n",
       "      <td>0.001421</td>\n",
       "    </tr>\n",
       "  </tbody>\n",
       "</table>\n",
       "</div>"
      ],
      "text/plain": [
       "                Column  Missing Count  Missing %\n",
       "7    Academic Pressure         112803  80.172708\n",
       "10  Study Satisfaction         112803  80.172708\n",
       "9                 CGPA         112802  80.171997\n",
       "6           Profession          36638  26.039801\n",
       "8        Work Pressure          27918  19.842217\n",
       "11    Job Satisfaction          27910  19.836532\n",
       "13      Dietary Habits              4   0.002843\n",
       "17    Financial Stress              4   0.002843\n",
       "14              Degree              2   0.001421"
      ]
     },
     "metadata": {},
     "output_type": "display_data"
    },
    {
     "data": {
      "image/png": "[encoded data removed]",
      "text/plain": [
       "<Figure size 1200x600 with 1 Axes>"
      ]
     },
     "metadata": {},
     "output_type": "display_data"
    }
   ],
   "source": [
    "# Missing values analysis\n",
    "print(\" Missing Values Analysis:\")\n",
    "missing_data = train_df.isnull().sum()\n",
    "missing_percent = (missing_data / len(train_df)) * 100\n",
    "\n",
    "missing_df = pd.DataFrame({\n",
    "    'Column': missing_data.index,\n",
    "    'Missing Count': missing_data.values,\n",
    "    'Missing %': missing_percent.values\n",
    "})\n",
    "\n",
    "missing_df = missing_df[missing_df['Missing Count'] > 0].sort_values('Missing %', ascending=False)\n",
    "\n",
    "if len(missing_df) > 0:\n",
    "    display(missing_df)\n",
    "    \n",
    "    # Visualize missing values\n",
    "    plt.figure(figsize=(12, 6))\n",
    "    sns.barplot(data=missing_df, x='Column', y='Missing %')\n",
    "    plt.title('Missing Values by Feature')\n",
    "    plt.xticks(rotation=45)\n",
    "    plt.tight_layout()\n",
    "    plt.show()\n",
    "else:\n",
    "    print(\" No missing values found in the dataset!\")"
   ]
  },
  {
   "cell_type": "code",
   "execution_count": 49,
   "id": "e0c86bb2",
   "metadata": {},
   "outputs": [
    {
     "name": "stdout",
     "output_type": "stream",
     "text": [
      " Duplicate Analysis:\n",
      "   Total duplicate rows: 0\n",
      "   Duplicate percentage: 0.00%\n",
      "   Duplicate IDs: 0\n",
      "\n",
      " No duplicate rows found!\n"
     ]
    }
   ],
   "source": [
    "# Check for duplicates\n",
    "print(\" Duplicate Analysis:\")\n",
    "total_duplicates = train_df.duplicated().sum()\n",
    "print(f\"   Total duplicate rows: {total_duplicates}\")\n",
    "print(f\"   Duplicate percentage: {(total_duplicates/len(train_df)*100):.2f}%\")\n",
    "\n",
    "# Check for duplicate IDs\n",
    "duplicate_ids = train_df['id'].duplicated().sum()\n",
    "print(f\"   Duplicate IDs: {duplicate_ids}\")\n",
    "\n",
    "if total_duplicates > 0:\n",
    "    print(\"\\n Duplicate rows found! These will need to be handled.\")\n",
    "else:\n",
    "    print(\"\\n No duplicate rows found!\")"
   ]
  },
  {
   "cell_type": "markdown",
   "id": "bc0477a4",
   "metadata": {},
   "source": [
    "##  Subtask 2.2.4: Analyze Target Variable Distribution and Class Balance"
   ]
  },
  {
   "cell_type": "code",
   "execution_count": 50,
   "id": "5c3c5dfc",
   "metadata": {},
   "outputs": [
    {
     "name": "stdout",
     "output_type": "stream",
     "text": [
      " Target Variable Analysis (Depression):\n",
      "\n",
      " Class Distribution:\n",
      "   No Depression (Class 0): 115,133 samples (81.8%)\n",
      "   Depression (Class 1): 25,567 samples (18.2%)\n",
      "\n",
      " Class Imbalance Ratio: 4.50:1\n",
      " Significant class imbalance detected! Consider using techniques like SMOTE, class weights, or stratified sampling.\n"
     ]
    }
   ],
   "source": [
    "# Target variable analysis\n",
    "print(\" Target Variable Analysis (Depression):\")\n",
    "target_counts = train_df['Depression'].value_counts().sort_index()\n",
    "target_props = train_df['Depression'].value_counts(normalize=True).sort_index() * 100\n",
    "\n",
    "print(f\"\\n Class Distribution:\")\n",
    "for i, (count, prop) in enumerate(zip(target_counts, target_props)):\n",
    "    label = \"No Depression\" if i == 0 else \"Depression\"\n",
    "    print(f\"   {label} (Class {i}): {count:,} samples ({prop:.1f}%)\")\n",
    "\n",
    "# Calculate class imbalance ratio\n",
    "class_ratio = target_counts.max() / target_counts.min()\n",
    "print(f\"\\n Class Imbalance Ratio: {class_ratio:.2f}:1\")\n",
    "\n",
    "if class_ratio > 2:\n",
    "    print(\" Significant class imbalance detected! Consider using techniques like SMOTE, class weights, or stratified sampling.\")\n",
    "else:\n",
    "    print(\" Classes are reasonably balanced.\")"
   ]
  },
  {
   "cell_type": "code",
   "execution_count": 51,
   "id": "fcb30eb6",
   "metadata": {},
   "outputs": [
    {
     "data": {
      "image/png": "[encoded data removed]",
      "text/plain": [
       "<Figure size 1500x500 with 2 Axes>"
      ]
     },
     "metadata": {},
     "output_type": "display_data"
    }
   ],
   "source": [
    "# Visualize target distribution\n",
    "fig, axes = plt.subplots(1, 2, figsize=(15, 5))\n",
    "\n",
    "# Bar plot\n",
    "target_counts.plot(kind='bar', ax=axes[0], color=['skyblue', 'salmon'])\n",
    "axes[0].set_title('Depression Class Distribution (Count)')\n",
    "axes[0].set_xlabel('Depression Status')\n",
    "axes[0].set_ylabel('Count')\n",
    "axes[0].set_xticklabels(['No Depression', 'Depression'], rotation=0)\n",
    "\n",
    "# Pie chart\n",
    "axes[1].pie(target_counts.values, labels=['No Depression', 'Depression'], \n",
    "           autopct='%1.1f%%', colors=['skyblue', 'salmon'])\n",
    "axes[1].set_title('Depression Class Distribution (Proportion)')\n",
    "\n",
    "plt.tight_layout()\n",
    "plt.show()"
   ]
  },
  {
   "cell_type": "markdown",
   "id": "0b62aded",
   "metadata": {},
   "source": [
    "##  Subtask 2.2.5: Create Initial Data Overview Report"
   ]
  },
  {
   "cell_type": "code",
   "execution_count": 52,
   "id": "51dd946e",
   "metadata": {},
   "outputs": [
    {
     "name": "stdout",
     "output_type": "stream",
     "text": [
      " COMPREHENSIVE DATA OVERVIEW REPORT\n",
      "==================================================\n",
      "\n",
      " DATASET DIMENSIONS:\n",
      "   Training samples: 140,700\n",
      "   Test samples: 93,800\n",
      "   Total features: 19\n",
      "   Memory usage: 96.19 MB\n",
      "\n",
      " FEATURE TYPES:\n",
      "   Numerical features: 9\n",
      "   Categorical features: 10\n",
      "   ID column: 1\n",
      "\n",
      " TARGET VARIABLE:\n",
      "   Variable: Depression (Binary)\n",
      "   No Depression: 115,133 (81.8%)\n",
      "   Depression: 25,567 (18.2%)\n",
      "   Imbalance ratio: 4.50:1\n",
      "\n",
      " DATA QUALITY:\n",
      "   Missing values: 430,884 (15.31% of total data)\n",
      "   Duplicate rows: 0 (0.00%)\n",
      "\n",
      " FEATURE OVERVIEW:\n",
      "   Demographics: 3 features\n",
      "   Academic/Work: 8 features\n",
      "   Lifestyle: 3 features\n",
      "   Mental Health: 3 features\n",
      "\n",
      " DATA READINESS ASSESSMENT:\n",
      "    Missing values present (-10 points)\n",
      "    No duplicates (+25 points)\n",
      "    Class imbalance needs attention (+10 points)\n",
      "    Large dataset size (+25 points)\n",
      "\n",
      " OVERALL DATA READINESS SCORE: 50/100\n",
      "    Needs attention - Significant preprocessing required\n"
     ]
    }
   ],
   "source": [
    "# Comprehensive data overview report\n",
    "print(\" COMPREHENSIVE DATA OVERVIEW REPORT\")\n",
    "print(\"=\" * 50)\n",
    "\n",
    "print(f\"\\n DATASET DIMENSIONS:\")\n",
    "print(f\"   Training samples: {train_df.shape[0]:,}\")\n",
    "print(f\"   Test samples: {test_df.shape[0]:,}\")\n",
    "print(f\"   Total features: {train_df.shape[1]-1}\")\n",
    "print(f\"   Memory usage: {train_df.memory_usage(deep=True).sum() / 1024**2:.2f} MB\")\n",
    "\n",
    "print(f\"\\n FEATURE TYPES:\")\n",
    "numerical_features = train_df.select_dtypes(include=[np.number]).columns.tolist()\n",
    "categorical_features = train_df.select_dtypes(include=['object']).columns.tolist()\n",
    "if 'id' in numerical_features:\n",
    "    numerical_features.remove('id')\n",
    "\n",
    "print(f\"   Numerical features: {len(numerical_features)}\")\n",
    "print(f\"   Categorical features: {len(categorical_features)}\")\n",
    "print(f\"   ID column: 1\")\n",
    "\n",
    "print(f\"\\n TARGET VARIABLE:\")\n",
    "print(f\"   Variable: Depression (Binary)\")\n",
    "print(f\"   No Depression: {target_counts[0]:,} ({target_props[0]:.1f}%)\")\n",
    "print(f\"   Depression: {target_counts[1]:,} ({target_props[1]:.1f}%)\")\n",
    "print(f\"   Imbalance ratio: {class_ratio:.2f}:1\")\n",
    "\n",
    "print(f\"\\n DATA QUALITY:\")\n",
    "total_missing = train_df.isnull().sum().sum()\n",
    "total_duplicates = train_df.duplicated().sum()\n",
    "print(f\"   Missing values: {total_missing:,} ({(total_missing/(train_df.shape[0]*train_df.shape[1])*100):.2f}% of total data)\")\n",
    "print(f\"   Duplicate rows: {total_duplicates:,} ({(total_duplicates/len(train_df)*100):.2f}%)\")\n",
    "\n",
    "print(f\"\\n FEATURE OVERVIEW:\")\n",
    "feature_categories = {\n",
    "    'Demographics': ['Age', 'Gender', 'City'],\n",
    "    'Academic/Work': ['Working Professional or Student', 'Profession', 'Academic Pressure', \n",
    "                     'Work Pressure', 'CGPA', 'Study Satisfaction', 'Job Satisfaction', 'Work/Study Hours'],\n",
    "    'Lifestyle': ['Sleep Duration', 'Dietary Habits', 'Degree'],\n",
    "    'Mental Health': ['Have you ever had suicidal thoughts ?', 'Financial Stress', 'Family History of Mental Illness']\n",
    "}\n",
    "\n",
    "for category, features in feature_categories.items():\n",
    "    available_features = [f for f in features if f in train_df.columns]\n",
    "    print(f\"   {category}: {len(available_features)} features\")\n",
    "\n",
    "print(f\"\\n DATA READINESS ASSESSMENT:\")\n",
    "readiness_score = 0\n",
    "if total_missing == 0:\n",
    "    readiness_score += 25\n",
    "    print(\"   No missing values (+25 points)\")\n",
    "else:\n",
    "    print(f\"    Missing values present (-10 points)\")\n",
    "    readiness_score -= 10\n",
    "\n",
    "if total_duplicates == 0:\n",
    "    readiness_score += 25\n",
    "    print(\"    No duplicates (+25 points)\")\n",
    "else:\n",
    "    print(f\"    Duplicates present (-10 points)\")\n",
    "    readiness_score -= 10\n",
    "\n",
    "if class_ratio <= 3:\n",
    "    readiness_score += 25\n",
    "    print(\"    Acceptable class balance (+25 points)\")\n",
    "else:\n",
    "    readiness_score += 10\n",
    "    print(\"    Class imbalance needs attention (+10 points)\")\n",
    "\n",
    "if train_df.shape[0] > 100000:\n",
    "    readiness_score += 25\n",
    "    print(\"    Large dataset size (+25 points)\")\n",
    "else:\n",
    "    readiness_score += 15\n",
    "    print(\"    Adequate dataset size (+15 points)\")\n",
    "\n",
    "print(f\"\\n OVERALL DATA READINESS SCORE: {readiness_score}/100\")\n",
    "if readiness_score >= 80:\n",
    "    print(\"    Excellent - Ready for analysis!\")\n",
    "elif readiness_score >= 60:\n",
    "    print(\"    Good - Minor preprocessing needed\")\n",
    "else:\n",
    "    print(\"    Needs attention - Significant preprocessing required\")"
   ]
  },
  {
   "cell_type": "markdown",
   "id": "01f86e55",
   "metadata": {},
   "source": [
    "##  Summary of Basic Data Exploration\n",
    "\n",
    "**Key Findings:**\n",
    "- Dataset loaded successfully with training and test splits\n",
    "- Data quality assessment completed\n",
    "- Target variable distribution analyzed\n",
    "- Feature categorization established\n",
    "\n",
    "**Next Steps:**\n",
    "- Detailed feature distribution analysis\n",
    "- Correlation analysis between features\n",
    "- Advanced visualizations for insights"
   ]
  },
  {
   "cell_type": "markdown",
   "id": "ddec76a0",
   "metadata": {},
   "source": [
    "## Demographic Features Analysis"
   ]
  },
  {
   "cell_type": "code",
   "execution_count": 53,
   "id": "840c15bf",
   "metadata": {},
   "outputs": [
    {
     "name": "stdout",
     "output_type": "stream",
     "text": [
      " DEMOGRAPHIC FEATURES ANALYSIS\n",
      "==================================================\n",
      "Age Distribution:\n",
      "  Mean: 40.4 years\n",
      "  Median: 42.0 years\n",
      "  Range: 18 - 60 years\n",
      "  Standard Deviation: 12.4 years\n",
      "\n",
      "Gender vs Depression Rate:\n",
      "  Female: 17.8% (63,236 total)\n",
      "  Male: 18.5% (77,464 total)\n",
      "\n",
      "City Distribution:\n",
      "  Total unique cities: 98\n",
      "  Top 3 cities: ['Kalyan', 'Patna', 'Vasai-Virar']\n"
     ]
    }
   ],
   "source": [
    "print(' DEMOGRAPHIC FEATURES ANALYSIS')\n",
    "print('='*50)\n",
    "\n",
    "# Age analysis\n",
    "age_stats = train_df['Age'].describe()\n",
    "print(f'Age Distribution:')\n",
    "print(f'  Mean: {age_stats[\"mean\"]:.1f} years')\n",
    "print(f'  Median: {age_stats[\"50%\"]:.1f} years')\n",
    "print(f'  Range: {age_stats[\"min\"]:.0f} - {age_stats[\"max\"]:.0f} years')\n",
    "print(f'  Standard Deviation: {age_stats[\"std\"]:.1f} years')\n",
    "\n",
    "# Gender distribution and depression correlation\n",
    "print('\\nGender vs Depression Rate:')\n",
    "gender_depression = pd.crosstab(train_df['Gender'], train_df['Depression'], normalize='index') * 100\n",
    "for gender in gender_depression.index:\n",
    "    depression_rate = gender_depression.loc[gender, 1]\n",
    "    total_count = train_df[train_df['Gender'] == gender].shape[0]\n",
    "    print(f'  {gender}: {depression_rate:.1f}% ({total_count:,} total)')\n",
    "\n",
    "# City distribution summary\n",
    "city_counts = train_df['City'].value_counts()\n",
    "print(f'\\nCity Distribution:')\n",
    "print(f'  Total unique cities: {len(city_counts)}')\n",
    "print(f'  Top 3 cities: {list(city_counts.head(3).index)}')"
   ]
  },
  {
   "cell_type": "code",
   "execution_count": 54,
   "id": "35a24eda",
   "metadata": {},
   "outputs": [
    {
     "data": {
      "image/png": "[encoded data removed]",
      "text/plain": [
       "<Figure size 1500x1000 with 4 Axes>"
      ]
     },
     "metadata": {},
     "output_type": "display_data"
    }
   ],
   "source": [
    "# Visualize demographic features\n",
    "fig, axes = plt.subplots(2, 2, figsize=(15, 10))\n",
    "\n",
    "# Age distribution\n",
    "axes[0,0].hist(train_df['Age'], bins=20, alpha=0.7, color='skyblue', edgecolor='black')\n",
    "axes[0,0].set_title('Age Distribution')\n",
    "axes[0,0].set_xlabel('Age')\n",
    "axes[0,0].set_ylabel('Frequency')\n",
    "\n",
    "# Gender distribution\n",
    "train_df['Gender'].value_counts().plot(kind='bar', ax=axes[0,1], color=['lightcoral', 'lightblue'])\n",
    "axes[0,1].set_title('Gender Distribution')\n",
    "axes[0,1].set_xlabel('Gender')\n",
    "axes[0,1].set_ylabel('Count')\n",
    "axes[0,1].tick_params(axis='x', rotation=0)\n",
    "\n",
    "# Age vs Depression\n",
    "sns.boxplot(data=train_df, x='Depression', y='Age', ax=axes[1,0])\n",
    "axes[1,0].set_title('Age Distribution by Depression Status')\n",
    "axes[1,0].set_xlabel('Depression (0=No, 1=Yes)')\n",
    "\n",
    "# Gender vs Depression\n",
    "gender_depression.plot(kind='bar', ax=axes[1,1], stacked=False)\n",
    "axes[1,1].set_title('Depression Rate by Gender')\n",
    "axes[1,1].set_xlabel('Gender')\n",
    "axes[1,1].set_ylabel('Percentage')\n",
    "axes[1,1].legend(['No Depression', 'Depression'])\n",
    "axes[1,1].tick_params(axis='x', rotation=0)\n",
    "\n",
    "plt.tight_layout()\n",
    "plt.show()"
   ]
  },
  {
   "cell_type": "markdown",
   "id": "89441d06",
   "metadata": {},
   "source": [
    "## Academic/Work Features Analysis"
   ]
  },
  {
   "cell_type": "code",
   "execution_count": 55,
   "id": "a4bd58df",
   "metadata": {},
   "outputs": [
    {
     "name": "stdout",
     "output_type": "stream",
     "text": [
      "ACADEMIC/WORK FEATURES ANALYSIS\n",
      "==================================================\n",
      "Depression Rate by Status:\n",
      "  Student: 58.5% (27,901 total)\n",
      "  Working Professional: 8.2% (112,799 total)\n",
      "\n",
      "Work/Study Hours vs Depression:\n",
      "  No Depression: Mean=5.9h, Median=6h\n",
      "  Depression: Mean=7.8h, Median=9h\n",
      "\n",
      "CGPA vs Depression (Students only):\n",
      "  No Depression: Mean=7.62, Median=7.64 (11560 students)\n",
      "  Depression: Mean=7.69, Median=7.85 (16332 students)\n"
     ]
    }
   ],
   "source": [
    "print('ACADEMIC/WORK FEATURES ANALYSIS')\n",
    "print('='*50)\n",
    "\n",
    "# Working Professional vs Student analysis\n",
    "work_student_depression = pd.crosstab(train_df['Working Professional or Student'], \n",
    "                                     train_df['Depression'], normalize='index') * 100\n",
    "print('Depression Rate by Status:')\n",
    "for status in work_student_depression.index:\n",
    "    rate = work_student_depression.loc[status, 1]\n",
    "    count = train_df[train_df['Working Professional or Student'] == status].shape[0]\n",
    "    print(f'  {status}: {rate:.1f}% ({count:,} total)')\n",
    "\n",
    "# Work/Study Hours analysis\n",
    "print('\\nWork/Study Hours vs Depression:')\n",
    "hours_stats = train_df.groupby('Depression')['Work/Study Hours'].agg(['mean', 'median'])\n",
    "print(f'  No Depression: Mean={hours_stats.loc[0, \"mean\"]:.1f}h, Median={hours_stats.loc[0, \"median\"]:.0f}h')\n",
    "print(f'  Depression: Mean={hours_stats.loc[1, \"mean\"]:.1f}h, Median={hours_stats.loc[1, \"median\"]:.0f}h')\n",
    "\n",
    "# CGPA analysis (if available for students)\n",
    "if 'CGPA' in train_df.columns and train_df['CGPA'].notna().sum() > 0:\n",
    "    print('\\nCGPA vs Depression (Students only):')\n",
    "    student_data = train_df[train_df['Working Professional or Student'] == 'Student']\n",
    "    cgpa_stats = student_data.groupby('Depression')['CGPA'].agg(['mean', 'median', 'count'])\n",
    "    print(f'  No Depression: Mean={cgpa_stats.loc[0, \"mean\"]:.2f}, Median={cgpa_stats.loc[0, \"median\"]:.2f} ({cgpa_stats.loc[0, \"count\"]} students)')\n",
    "    print(f'  Depression: Mean={cgpa_stats.loc[1, \"mean\"]:.2f}, Median={cgpa_stats.loc[1, \"median\"]:.2f} ({cgpa_stats.loc[1, \"count\"]} students)')"
   ]
  },
  {
   "cell_type": "markdown",
   "id": "f68c1c14",
   "metadata": {},
   "source": [
    "## Lifestyle Features Analysis"
   ]
  },
  {
   "cell_type": "code",
   "execution_count": 56,
   "id": "e6ff0606",
   "metadata": {},
   "outputs": [
    {
     "name": "stdout",
     "output_type": "stream",
     "text": [
      "Subtask 2.3.3: LIFESTYLE FEATURES ANALYSIS\n",
      "==================================================\n",
      "Depression Rate by Sleep Duration:\n",
      "  40-45 hours: 100.0% (1 people)\n",
      "  8 hours: 100.0% (1 people)\n",
      "  55-66 hours: 100.0% (1 people)\n",
      "  10-11 hours: 100.0% (2 people)\n",
      "  8-9 hours: 50.0% (2 people)\n",
      "  6-7 hours: 25.0% (8 people)\n",
      "  Less than 5 hours: 23.5% (38,784 people)\n",
      "  2-3 hours: 20.0% (5 people)\n",
      "  4-6 hours: 20.0% (5 people)\n",
      "  7-8 hours: 17.8% (36,969 people)\n",
      "  5-6 hours: 16.6% (32,142 people)\n",
      "  4-5 hours: 14.3% (7 people)\n",
      "  More than 8 hours: 13.9% (32,726 people)\n",
      "  3-4 hours: 8.3% (12 people)\n",
      "  No: 0.0% (4 people)\n",
      "  9-5 hours: 0.0% (1 people)\n",
      "  Sleep_Duration: 0.0% (2 people)\n",
      "  Pune: 0.0% (1 people)\n",
      "  Unhealthy: 0.0% (2 people)\n",
      "  Indore: 0.0% (1 people)\n",
      "  9-6 hours: 0.0% (1 people)\n",
      "  Work_Study_Hours: 0.0% (1 people)\n",
      "  Moderate: 0.0% (1 people)\n",
      "  09-May: 0.0% (1 people)\n",
      "  9-11 hours: 0.0% (2 people)\n",
      "  6-8 hours: 0.0% (4 people)\n",
      "  1-2 hours: 0.0% (1 people)\n",
      "  49 hours: 0.0% (1 people)\n",
      "  45-48 hours: 0.0% (1 people)\n",
      "  45: 0.0% (2 people)\n",
      "  35-36 hours: 0.0% (1 people)\n",
      "  3-6 hours: 0.0% (1 people)\n",
      "  10-6 hours: 0.0% (1 people)\n",
      "  1-6 hours: 0.0% (4 people)\n",
      "  1-3 hours: 0.0% (1 people)\n",
      "  than 5 hours: 0.0% (1 people)\n",
      "\n",
      "Depression Rate by Dietary Habits:\n",
      "  Unhealthy: 26.1% (46,227 people)\n",
      "  Moderate: 16.6% (49,705 people)\n",
      "  Healthy: 11.8% (44,741 people)\n"
     ]
    }
   ],
   "source": [
    "print('Subtask 2.3.3: LIFESTYLE FEATURES ANALYSIS')\n",
    "print('='*50)\n",
    "\n",
    "# Sleep Duration analysis\n",
    "sleep_depression = pd.crosstab(train_df['Sleep Duration'], train_df['Depression'], normalize='index') * 100\n",
    "print('Depression Rate by Sleep Duration:')\n",
    "sleep_sorted = sleep_depression.sort_values(by=1, ascending=False)\n",
    "for sleep_type in sleep_sorted.index:\n",
    "    rate = sleep_sorted.loc[sleep_type, 1]\n",
    "    count = train_df[train_df['Sleep Duration'] == sleep_type].shape[0]\n",
    "    print(f'  {sleep_type}: {rate:.1f}% ({count:,} people)')\n",
    "\n",
    "# Dietary Habits analysis\n",
    "diet_depression = pd.crosstab(train_df['Dietary Habits'], train_df['Depression'], normalize='index') * 100\n",
    "print('\\nDepression Rate by Dietary Habits:')\n",
    "diet_sorted = diet_depression.sort_values(by=1, ascending=False)\n",
    "for diet_type in diet_sorted.index:\n",
    "    if diet_type in ['Healthy', 'Moderate', 'Unhealthy']:  # Filter main categories\n",
    "        rate = diet_sorted.loc[diet_type, 1]\n",
    "        count = train_df[train_df['Dietary Habits'] == diet_type].shape[0]\n",
    "        print(f'  {diet_type}: {rate:.1f}% ({count:,} people)')"
   ]
  },
  {
   "cell_type": "markdown",
   "id": "0a4f81cb",
   "metadata": {
    "tags": [
     "to be edited"
    ]
   },
   "source": [
    "# Visualize lifestyle features\n",
    "fig, axes = plt.subplots(1, 2, figsize=(15, 5))\n",
    "\n",
    "# Sleep Duration vs Depression\n",
    "sleep_depression.plot(kind='bar', ax=axes[0])\n",
    "axes[0].set_title('Depression Rate by Sleep Duration')\n",
    "axes[0].set_xlabel('Sleep Duration')\n",
    "axes[0].set_ylabel('Percentage')\n",
    "axes[0].legend(['No Depression', 'Depression'])\n",
    "axes[0].tick_params(axis='x', rotation=45)\n",
    "\n",
    "# Dietary Habits vs Depression (main categories only)\n",
    "main_diet_data = diet_depression.loc[['Healthy', 'Moderate', 'Unhealthy']]\n",
    "main_diet_data.plot(kind='bar', ax=axes[1])\n",
    "axes[1].set_title('Depression Rate by Dietary Habits')\n",
    "axes[1].set_xlabel('Dietary Habits')\n",
    "axes[1].set_ylabel('Percentage')\n",
    "axes[1].legend(['No Depression', 'Depression'])\n",
    "axes[1].tick_params(axis='x', rotation=0)\n",
    "\n",
    "plt.tight_layout()\n",
    "plt.show()"
   ]
  },
  {
   "cell_type": "markdown",
   "id": "241d95e3",
   "metadata": {},
   "source": [
    "## Subtask 2.3.4: Mental Health Indicators Analysis"
   ]
  },
  {
   "cell_type": "code",
   "execution_count": 57,
   "id": "62f8bbe8",
   "metadata": {},
   "outputs": [
    {
     "name": "stdout",
     "output_type": "stream",
     "text": [
      "Subtask 2.3.4: MENTAL HEALTH INDICATORS ANALYSIS\n",
      "==================================================\n",
      "Depression Rate by Suicidal Thoughts History:\n",
      "  No: 4.9% (71,138 people)\n",
      "  Yes: 31.8% (69,562 people)\n",
      "\n",
      "Depression Rate by Family History:\n",
      "  No: 17.5% (70,758 people)\n",
      "  Yes: 18.8% (69,942 people)\n",
      "\n",
      "Financial Stress vs Depression:\n",
      "  No Depression: Mean=2.84, Median=3\n",
      "  Depression: Mean=3.67, Median=4\n"
     ]
    }
   ],
   "source": [
    "print('Subtask 2.3.4: MENTAL HEALTH INDICATORS ANALYSIS')\n",
    "print('='*50)\n",
    "\n",
    "# Suicidal thoughts analysis\n",
    "suicidal_depression = pd.crosstab(train_df['Have you ever had suicidal thoughts ?'], \n",
    "                                 train_df['Depression'], normalize='index') * 100\n",
    "print('Depression Rate by Suicidal Thoughts History:')\n",
    "for response in suicidal_depression.index:\n",
    "    rate = suicidal_depression.loc[response, 1]\n",
    "    count = train_df[train_df['Have you ever had suicidal thoughts ?'] == response].shape[0]\n",
    "    print(f'  {response}: {rate:.1f}% ({count:,} people)')\n",
    "\n",
    "# Family history analysis\n",
    "family_depression = pd.crosstab(train_df['Family History of Mental Illness'], \n",
    "                               train_df['Depression'], normalize='index') * 100\n",
    "print('\\nDepression Rate by Family History:')\n",
    "for response in family_depression.index:\n",
    "    rate = family_depression.loc[response, 1]\n",
    "    count = train_df[train_df['Family History of Mental Illness'] == response].shape[0]\n",
    "    print(f'  {response}: {rate:.1f}% ({count:,} people)')\n",
    "\n",
    "# Financial stress analysis\n",
    "print('\\nFinancial Stress vs Depression:')\n",
    "stress_stats = train_df.groupby('Depression')['Financial Stress'].agg(['mean', 'median'])\n",
    "print(f'  No Depression: Mean={stress_stats.loc[0, \"mean\"]:.2f}, Median={stress_stats.loc[0, \"median\"]:.0f}')\n",
    "print(f'  Depression: Mean={stress_stats.loc[1, \"mean\"]:.2f}, Median={stress_stats.loc[1, \"median\"]:.0f}')"
   ]
  },
  {
   "cell_type": "markdown",
   "id": "6fdbddb4",
   "metadata": {},
   "source": [
    "## Subtask 2.3.5: Correlation Matrix and Feature Relationships"
   ]
  },
  {
   "cell_type": "code",
   "execution_count": 58,
   "id": "96d51aa4",
   "metadata": {},
   "outputs": [
    {
     "name": "stdout",
     "output_type": "stream",
     "text": [
      "Subtask 2.3.5: CORRELATION MATRIX AND FEATURE RELATIONSHIPS\n",
      "==================================================\n",
      "Correlation with Depression (numerical features):\n",
      "  Financial Stress: 0.227 (moderate positive)\n",
      "  Work/Study Hours: 0.192 (moderate positive)\n",
      "  Age: -0.565 (strong negative)\n"
     ]
    },
    {
     "data": {
      "image/png": "[encoded data removed]",
      "text/plain": [
       "<Figure size 800x600 with 2 Axes>"
      ]
     },
     "metadata": {},
     "output_type": "display_data"
    },
    {
     "name": "stdout",
     "output_type": "stream",
     "text": [
      "\n",
      "KEY FEATURE ANALYSIS INSIGHTS:\n",
      "1. Demographic patterns identified\n",
      "2. Academic/work relationship with depression analyzed\n",
      "3. Lifestyle factors impact assessed\n",
      "4. Mental health indicators strongly correlate with depression\n",
      "5. Feature relationships quantified for model development\n",
      "\n",
      "Task 2.3: Feature Analysis - COMPLETED\n"
     ]
    }
   ],
   "source": [
    "print('Subtask 2.3.5: CORRELATION MATRIX AND FEATURE RELATIONSHIPS')\n",
    "print('='*50)\n",
    "\n",
    "# Numerical features correlation\n",
    "numerical_cols = ['Age', 'Work/Study Hours', 'Financial Stress']\n",
    "available_cols = [col for col in numerical_cols if col in train_df.columns and train_df[col].notna().sum() > 0]\n",
    "\n",
    "if available_cols:\n",
    "    correlation_data = train_df[available_cols + ['Depression']].corr()['Depression'].sort_values(ascending=False)\n",
    "    print('Correlation with Depression (numerical features):')\n",
    "    for feature, corr in correlation_data.items():\n",
    "        if feature != 'Depression':\n",
    "            direction = 'positive' if corr > 0 else 'negative'\n",
    "            strength = 'strong' if abs(corr) > 0.3 else 'moderate' if abs(corr) > 0.1 else 'weak'\n",
    "            print(f'  {feature}: {corr:.3f} ({strength} {direction})')\n",
    "\n",
    "# Create correlation heatmap for numerical features\n",
    "if len(available_cols) > 1:\n",
    "    plt.figure(figsize=(8, 6))\n",
    "    correlation_matrix = train_df[available_cols + ['Depression']].corr()\n",
    "    sns.heatmap(correlation_matrix, annot=True, cmap='coolwarm', center=0, \n",
    "                square=True, fmt='.3f')\n",
    "    plt.title('Correlation Matrix - Numerical Features')\n",
    "    plt.tight_layout()\n",
    "    plt.show()\n",
    "\n",
    "print('\\nKEY FEATURE ANALYSIS INSIGHTS:')\n",
    "print('1. Demographic patterns identified')\n",
    "print('2. Academic/work relationship with depression analyzed')\n",
    "print('3. Lifestyle factors impact assessed')\n",
    "print('4. Mental health indicators strongly correlate with depression')\n",
    "print('5. Feature relationships quantified for model development')\n",
    "\n",
    "print('\\nTask 2.3: Feature Analysis - COMPLETED')"
   ]
  },
  {
   "cell_type": "markdown",
   "id": "26ef2649",
   "metadata": {},
   "source": [
    "## Summary\n",
    "\n",
    "**Task 2.3: Feature Analysis - COMPLETED**\n",
    "\n",
    "**Key Findings:**\n",
    "- Demographic analysis revealed age and gender patterns in depression rates\n",
    "- Academic/work features show relationship between status and depression\n",
    "- Lifestyle factors (sleep, diet) significantly impact depression rates\n",
    "- Mental health indicators are strong predictors of depression\n",
    "- Correlation analysis quantified feature relationships\n",
    "\n",
    "**Next Phase:** Task 3.1 - Data Insights Discovery Strategy"
   ]
  },
  {
   "cell_type": "markdown",
   "id": "ebcb654f",
   "metadata": {},
   "source": [
    "# TASK 3.1: INSIGHT DISCOVERY STRATEGY\n",
    "\n",
    "**Project**: Mental Health Depression Prediction  \n",
    "**Phase**: 3 - Data Insights Discovery  \n",
    "**Task**: 3.1 - Insight Discovery Strategy  \n",
    "\n",
    "**Objective**: Design interactive visualization approach and define key business questions for mental health insights\n",
    "\n",
    "**Implementation Guide Reference**: Task 3.1 (Lines 130-137)\n",
    "\n",
    "**Primary Libraries**: Plotly Express, Plotly Graph Objects, Seaborn\n",
    "\n",
    "**Subtasks:**\n",
    "- 3.1.1 Define key business questions for mental health insights\n",
    "- 3.1.2 Plan visualization types for different insight categories\n",
    "- 3.1.3 Identify demographic patterns to analyze for bias detection\n",
    "- 3.1.4 Design interactive visualization approach with Plotly"
   ]
  },
  {
   "cell_type": "markdown",
   "id": "c3a33585",
   "metadata": {},
   "source": [
    "## Subtask 3.1.1: Define Key Business Questions for Mental Health Insights\n"
   ]
  },
  {
   "cell_type": "code",
   "execution_count": 59,
   "id": "90c6847d",
   "metadata": {},
   "outputs": [
    {
     "name": "stdout",
     "output_type": "stream",
     "text": [
      "Subtask 3.1.1: KEY BUSINESS QUESTIONS FOR MENTAL HEALTH INSIGHTS\n",
      "======================================================================\n",
      "\n",
      "DEMOGRAPHIC INSIGHTS [High Priority]:\n",
      "  1. Which age groups have the highest depression rates?\n",
      "  2. Are there gender-based differences in depression prevalence?\n",
      "  3. Do certain cities show higher mental health risks?\n",
      "  4. How does depression vary across different professions?\n",
      "\n",
      "LIFESTYLE IMPACT [High Priority]:\n",
      "  1. How does sleep duration correlate with depression risk?\n",
      "  2. What role do dietary habits play in mental health?\n",
      "  3. Is there an optimal work/study hours range for mental wellbeing?\n",
      "  4. How do lifestyle combinations affect depression rates?\n",
      "\n",
      "ACADEMIC/PROFESSIONAL STRESS [Medium Priority]:\n",
      "  1. Do students or working professionals have higher depression rates?\n",
      "  2. How does academic pressure correlate with mental health?\n",
      "  3. What is the relationship between CGPA and depression in students?\n",
      "  4. How does job satisfaction impact mental health?\n",
      "\n",
      "RISK FACTORS [High Priority]:\n",
      "  1. What is the impact of family history on depression risk?\n",
      "  2. How does financial stress contribute to mental health issues?\n",
      "  3. What combinations of factors create highest risk profiles?\n",
      "  4. Are there protective factors that reduce depression risk?\n",
      "\n",
      "BIAS DETECTION [Critical Priority]:\n",
      "  1. Are there systematic biases in depression diagnosis across demographics?\n",
      "  2. Do certain groups have unequal representation in the data?\n",
      "  3. How might cultural factors influence reported depression rates?\n",
      "  4. What ethical considerations exist in predictive modeling?\n",
      "\n",
      "These questions will guide our visualization strategy and analysis approach.\n"
     ]
    }
   ],
   "source": [
    "print('Subtask 3.1.1: KEY BUSINESS QUESTIONS FOR MENTAL HEALTH INSIGHTS')\n",
    "print('='*70)\n",
    "\n",
    "# Define strategic business questions\n",
    "business_questions = {\n",
    "    \"Demographic Insights\": [\n",
    "        \"Which age groups have the highest depression rates?\",\n",
    "        \"Are there gender-based differences in depression prevalence?\",\n",
    "        \"Do certain cities show higher mental health risks?\",\n",
    "        \"How does depression vary across different professions?\"\n",
    "    ],\n",
    "    \"Lifestyle Impact\": [\n",
    "        \"How does sleep duration correlate with depression risk?\",\n",
    "        \"What role do dietary habits play in mental health?\",\n",
    "        \"Is there an optimal work/study hours range for mental wellbeing?\",\n",
    "        \"How do lifestyle combinations affect depression rates?\"\n",
    "    ],\n",
    "    \"Academic/Professional Stress\": [\n",
    "        \"Do students or working professionals have higher depression rates?\",\n",
    "        \"How does academic pressure correlate with mental health?\",\n",
    "        \"What is the relationship between CGPA and depression in students?\",\n",
    "        \"How does job satisfaction impact mental health?\"\n",
    "    ],\n",
    "    \"Risk Factors\": [\n",
    "        \"What is the impact of family history on depression risk?\",\n",
    "        \"How does financial stress contribute to mental health issues?\",\n",
    "        \"What combinations of factors create highest risk profiles?\",\n",
    "        \"Are there protective factors that reduce depression risk?\"\n",
    "    ],\n",
    "    \"Bias Detection\": [\n",
    "        \"Are there systematic biases in depression diagnosis across demographics?\",\n",
    "        \"Do certain groups have unequal representation in the data?\",\n",
    "        \"How might cultural factors influence reported depression rates?\",\n",
    "        \"What ethical considerations exist in predictive modeling?\"\n",
    "    ]\n",
    "}\n",
    "\n",
    "# Display business questions with priorities\n",
    "priority_levels = [\"High\", \"High\", \"Medium\", \"High\", \"Critical\"]\n",
    "\n",
    "for i, (category, questions) in enumerate(business_questions.items()):\n",
    "    print(f\"\\n{category.upper()} [{priority_levels[i]} Priority]:\")\n",
    "    for j, question in enumerate(questions, 1):\n",
    "        print(f\"  {j}. {question}\")\n",
    "\n",
    "print(\"\\nThese questions will guide our visualization strategy and analysis approach.\")"
   ]
  },
  {
   "cell_type": "markdown",
   "id": "3aa52fd7",
   "metadata": {},
   "source": [
    "## Subtask 3.1.2: Plan Visualization Types for Different Insight Categories\n"
   ]
  },
  {
   "cell_type": "code",
   "execution_count": 60,
   "id": "91e72158",
   "metadata": {},
   "outputs": [
    {
     "name": "stdout",
     "output_type": "stream",
     "text": [
      "Subtask 3.1.2: VISUALIZATION STRATEGY PLANNING\n",
      "==================================================\n",
      "\n",
      "DEMOGRAPHICS ANALYSIS:\n",
      "\n",
      "  Plotly Charts:\n",
      "    - Interactive bar charts for age group comparisons\n",
      "    - Sunburst charts for hierarchical demographic breakdown\n",
      "    - Geographic scatter maps for city-wise analysis\n",
      "    - Animated bubble charts for profession vs depression trends\n",
      "\n",
      "  Seaborn Charts:\n",
      "    - Statistical box plots for age distribution analysis\n",
      "    - Violin plots for demographic group comparisons\n",
      "    - Count plots with statistical annotations\n",
      "    - Pair plots for multi-demographic relationships\n",
      "\n",
      "LIFESTYLE PATTERNS:\n",
      "\n",
      "  Plotly Charts:\n",
      "    - Interactive heatmaps for sleep vs diet patterns\n",
      "    - 3D scatter plots for multi-lifestyle factor analysis\n",
      "    - Parallel coordinates for lifestyle profile comparison\n",
      "    - Radar charts for individual lifestyle profiles\n",
      "\n",
      "  Seaborn Charts:\n",
      "    - Correlation heatmaps with hierarchical clustering\n",
      "    - Ridge plots for sleep duration distributions\n",
      "    - Categorical scatter plots for lifestyle combinations\n",
      "    - Statistical regression plots with confidence intervals\n",
      "\n",
      "RISK FACTOR ANALYSIS:\n",
      "\n",
      "  Plotly Charts:\n",
      "    - Sankey diagrams for risk factor flow analysis\n",
      "    - Treemap charts for hierarchical risk categorization\n",
      "    - Interactive funnel charts for risk progression\n",
      "    - Dashboard-style multi-panel risk overview\n",
      "\n",
      "  Seaborn Charts:\n",
      "    - Cluster maps for risk factor correlation analysis\n",
      "    - Strip plots with jitter for individual risk scores\n",
      "    - Facet grids for multi-dimensional risk analysis\n",
      "    - Statistical distribution plots for risk quantification\n",
      "\n",
      "BIAS DETECTION:\n",
      "\n",
      "  Plotly Charts:\n",
      "    - Interactive fairness dashboard with multiple metrics\n",
      "    - Waterfall charts for bias impact analysis\n",
      "    - Group comparison parallel plots\n",
      "    - Bias monitoring time series (if applicable)\n",
      "\n",
      "  Seaborn Charts:\n",
      "    - Statistical equality plots across groups\n",
      "    - Residual plots for bias detection\n",
      "    - Q-Q plots for distribution equality testing\n",
      "    - Confidence interval comparisons across demographics\n",
      "\n",
      "Visualization strategy defined for comprehensive insights discovery!\n"
     ]
    }
   ],
   "source": [
    "print('Subtask 3.1.2: VISUALIZATION STRATEGY PLANNING')\n",
    "print('='*50)\n",
    "\n",
    "# Define visualization strategy mapping\n",
    "visualization_strategy = {\n",
    "    \"Demographics Analysis\": {\n",
    "        \"Plotly Charts\": [\n",
    "            \"Interactive bar charts for age group comparisons\",\n",
    "            \"Sunburst charts for hierarchical demographic breakdown\",\n",
    "            \"Geographic scatter maps for city-wise analysis\",\n",
    "            \"Animated bubble charts for profession vs depression trends\"\n",
    "        ],\n",
    "        \"Seaborn Charts\": [\n",
    "            \"Statistical box plots for age distribution analysis\",\n",
    "            \"Violin plots for demographic group comparisons\",\n",
    "            \"Count plots with statistical annotations\",\n",
    "            \"Pair plots for multi-demographic relationships\"\n",
    "        ]\n",
    "    },\n",
    "    \"Lifestyle Patterns\": {\n",
    "        \"Plotly Charts\": [\n",
    "            \"Interactive heatmaps for sleep vs diet patterns\",\n",
    "            \"3D scatter plots for multi-lifestyle factor analysis\",\n",
    "            \"Parallel coordinates for lifestyle profile comparison\",\n",
    "            \"Radar charts for individual lifestyle profiles\"\n",
    "        ],\n",
    "        \"Seaborn Charts\": [\n",
    "            \"Correlation heatmaps with hierarchical clustering\",\n",
    "            \"Ridge plots for sleep duration distributions\",\n",
    "            \"Categorical scatter plots for lifestyle combinations\",\n",
    "            \"Statistical regression plots with confidence intervals\"\n",
    "        ]\n",
    "    },\n",
    "    \"Risk Factor Analysis\": {\n",
    "        \"Plotly Charts\": [\n",
    "            \"Sankey diagrams for risk factor flow analysis\",\n",
    "            \"Treemap charts for hierarchical risk categorization\",\n",
    "            \"Interactive funnel charts for risk progression\",\n",
    "            \"Dashboard-style multi-panel risk overview\"\n",
    "        ],\n",
    "        \"Seaborn Charts\": [\n",
    "            \"Cluster maps for risk factor correlation analysis\",\n",
    "            \"Strip plots with jitter for individual risk scores\",\n",
    "            \"Facet grids for multi-dimensional risk analysis\",\n",
    "            \"Statistical distribution plots for risk quantification\"\n",
    "        ]\n",
    "    },\n",
    "    \"Bias Detection\": {\n",
    "        \"Plotly Charts\": [\n",
    "            \"Interactive fairness dashboard with multiple metrics\",\n",
    "            \"Waterfall charts for bias impact analysis\",\n",
    "            \"Group comparison parallel plots\",\n",
    "            \"Bias monitoring time series (if applicable)\"\n",
    "        ],\n",
    "        \"Seaborn Charts\": [\n",
    "            \"Statistical equality plots across groups\",\n",
    "            \"Residual plots for bias detection\",\n",
    "            \"Q-Q plots for distribution equality testing\",\n",
    "            \"Confidence interval comparisons across demographics\"\n",
    "        ]\n",
    "    }\n",
    "}\n",
    "\n",
    "# Display visualization strategy\n",
    "for category, viz_types in visualization_strategy.items():\n",
    "    print(f\"\\n{category.upper()}:\")\n",
    "    for lib, charts in viz_types.items():\n",
    "        print(f\"\\n  {lib}:\")\n",
    "        for chart in charts:\n",
    "            print(f\"    - {chart}\")\n",
    "\n",
    "print(\"\\nVisualization strategy defined for comprehensive insights discovery!\")"
   ]
  },
  {
   "cell_type": "markdown",
   "id": "168dc4f8",
   "metadata": {},
   "source": [
    "## Subtask 3.1.3: Identify Demographic Patterns for Bias Detection\n"
   ]
  },
  {
   "cell_type": "code",
   "execution_count": 61,
   "id": "0e49067c",
   "metadata": {},
   "outputs": [
    {
     "name": "stdout",
     "output_type": "stream",
     "text": [
      "Subtask 3.1.3: DEMOGRAPHIC PATTERNS FOR BIAS DETECTION\n",
      "============================================================\n",
      "DEMOGRAPHIC REPRESENTATION ANALYSIS:\n",
      "\n",
      "1. Gender Distribution:\n",
      "   Male: 55.1%\n",
      "   Female: 44.9%\n",
      "\n",
      "2. Age Group Distribution:\n",
      "   46-60: 40.6%\n",
      "   36-45: 23.8%\n",
      "   26-35: 18.5%\n",
      "   18-25: 17.1%\n",
      "\n",
      "3. Professional Status Distribution:\n",
      "   Working Professional: 80.2%\n",
      "   Student: 19.8%\n",
      "\n",
      "4. Geographic Distribution (Top 10 Cities):\n",
      "   Kalyan: 4.7%\n",
      "   Patna: 4.2%\n",
      "   Vasai-Virar: 4.1%\n",
      "   Kolkata: 4.0%\n",
      "   Ahmedabad: 4.0%\n",
      "   Meerut: 3.9%\n",
      "   Ludhiana: 3.7%\n",
      "   Pune: 3.7%\n",
      "   Rajkot: 3.7%\n",
      "   Visakhapatnam: 3.7%\n",
      "\n",
      "POTENTIAL BIAS PATTERNS TO MONITOR:\n",
      "   1. Depression rate disparities across age groups\n",
      "   2. Gender-based differences in diagnosis patterns\n",
      "   3. Urban vs rural representation gaps\n",
      "   4. Professional vs student treatment differences\n",
      "   5. Socioeconomic status proxy indicators\n",
      "   6. Cultural and regional reporting variations\n",
      "   7. Family history reporting consistency across demographics\n",
      "   8. Access to mental health resources variations\n",
      "\n",
      "These patterns will be visualized using interactive Plotly dashboards and Seaborn statistical plots.\n"
     ]
    }
   ],
   "source": [
    "\n",
    "print('Subtask 3.1.3: DEMOGRAPHIC PATTERNS FOR BIAS DETECTION')\n",
    "print('='*60)\n",
    "\n",
    "# Analyze demographic representation\n",
    "print(\"DEMOGRAPHIC REPRESENTATION ANALYSIS:\")\n",
    "print(\"\\n1. Gender Distribution:\")\n",
    "gender_dist = train_df['Gender'].value_counts(normalize=True) * 100\n",
    "for gender, pct in gender_dist.items():\n",
    "    print(f\"   {gender}: {pct:.1f}%\")\n",
    "\n",
    "print(\"\\n2. Age Group Distribution:\")\n",
    "train_df['Age_Group'] = pd.cut(train_df['Age'], \n",
    "                              bins=[0, 25, 35, 45, 60], \n",
    "                              labels=['18-25', '26-35', '36-45', '46-60'])\n",
    "age_dist = train_df['Age_Group'].value_counts(normalize=True) * 100\n",
    "for age_group, pct in age_dist.items():\n",
    "    print(f\"   {age_group}: {pct:.1f}%\")\n",
    "\n",
    "print(\"\\n3. Professional Status Distribution:\")\n",
    "work_dist = train_df['Working Professional or Student'].value_counts(normalize=True) * 100\n",
    "for status, pct in work_dist.items():\n",
    "    print(f\"   {status}: {pct:.1f}%\")\n",
    "\n",
    "print(\"\\n4. Geographic Distribution (Top 10 Cities):\")\n",
    "city_dist = train_df['City'].value_counts(normalize=True).head(10) * 100\n",
    "for city, pct in city_dist.items():\n",
    "    print(f\"   {city}: {pct:.1f}%\")\n",
    "\n",
    "# Identify potential bias patterns\n",
    "print(\"\\nPOTENTIAL BIAS PATTERNS TO MONITOR:\")\n",
    "bias_patterns = [\n",
    "    \"Depression rate disparities across age groups\",\n",
    "    \"Gender-based differences in diagnosis patterns\",\n",
    "    \"Urban vs rural representation gaps\",\n",
    "    \"Professional vs student treatment differences\",\n",
    "    \"Socioeconomic status proxy indicators\",\n",
    "    \"Cultural and regional reporting variations\",\n",
    "    \"Family history reporting consistency across demographics\",\n",
    "    \"Access to mental health resources variations\"\n",
    "]\n",
    "\n",
    "for i, pattern in enumerate(bias_patterns, 1):\n",
    "    print(f\"   {i}. {pattern}\")\n",
    "\n",
    "print(\"\\nThese patterns will be visualized using interactive Plotly dashboards and Seaborn statistical plots.\")\n",
    "\n"
   ]
  },
  {
   "cell_type": "markdown",
   "id": "03c2c5e2",
   "metadata": {},
   "source": [
    "## Subtask 3.1.4: Design Interactive Visualization Approach with Plotly\n"
   ]
  },
  {
   "cell_type": "code",
   "execution_count": 62,
   "id": "1770625c",
   "metadata": {},
   "outputs": [
    {
     "name": "stdout",
     "output_type": "stream",
     "text": [
      "Subtask 3.1.4: INTERACTIVE VISUALIZATION APPROACH WITH PLOTLY\n",
      "=================================================================\n",
      "\n",
      "EXECUTIVE SUMMARY DASHBOARD:\n",
      "Purpose: High-level KPIs and key insights overview\n",
      "\n",
      "Components:\n",
      "  - Overall depression rate gauge chart\n",
      "  - Top risk factors treemap\n",
      "  - Demographic breakdown sunburst\n",
      "  - Trend indicators (if temporal data available)\n",
      "\n",
      "Interactivity Features: Hover details, clickable drill-downs, filter controls\n",
      "\n",
      "DEMOGRAPHIC ANALYSIS DASHBOARD:\n",
      "Purpose: Deep dive into population characteristics\n",
      "\n",
      "Components:\n",
      "  - Age group comparison bar charts with animations\n",
      "  - Gender vs profession matrix heatmap\n",
      "  - Geographic distribution scatter map\n",
      "  - Cross-demographic correlation network\n",
      "\n",
      "Interactivity Features: Multi-select filters, zoom controls, comparison toggles\n",
      "\n",
      "RISK FACTOR EXPLORER:\n",
      "Purpose: Interactive exploration of mental health risk factors\n",
      "\n",
      "Components:\n",
      "  - Parallel coordinates plot for multi-factor analysis\n",
      "  - 3D scatter plot for lifestyle factor relationships\n",
      "  - Sankey diagram for risk factor flow\n",
      "  - Radar charts for individual risk profiles\n",
      "\n",
      "Interactivity Features: Parameter sliders, profile comparison, real-time updates\n",
      "\n",
      "BIAS DETECTION MONITOR:\n",
      "Purpose: Fairness and equity analysis across groups\n",
      "\n",
      "Components:\n",
      "  - Group parity comparison charts\n",
      "  - Statistical significance indicators\n",
      "  - Confidence interval visualizations\n",
      "  - Bias metrics dashboard\n",
      "\n",
      "Interactivity Features: Group selection, metric switching, statistical test results\n",
      "\n",
      "======================================================================\n",
      "PLOTLY IMPLEMENTATION FEATURES:\n",
      "- Responsive design for multiple screen sizes\n",
      "- Custom color schemes for accessibility\n",
      "- Export capabilities (PNG, PDF, HTML)\n",
      "- Integration with Streamlit for web deployment\n",
      "- Real-time data updates capability\n",
      "- Cross-filter interactions between charts\n",
      "- Statistical annotations and significance testing\n",
      "- Mobile-friendly touch interactions\n",
      "DEMONSTRATION: SAMPLE INTERACTIVE PLOTLY VISUALIZATION\n",
      "=======================================================\n"
     ]
    },
    {
     "data": {
      "application/vnd.plotly.v1+json": {
       "config": {
        "plotlyServerURL": "https://plot.ly"
       },
       "data": [
        {
         "customdata": {
          "bdata": "49N6PitBTkAAAAAAgKPEQFPiHoApxEFAAAAAAIDLxkAkE9ZkPMAKQAAAAAAArM1A1gpylEqH6z8AAAAAgDPZQMtLhEm8gU5AAAAAAIBcykC1zXNdrUhCQAAAAAAA68tAjw/bVQ/5CUAAAAAAAN7RQDkx/7L9eeg/AAAAAECk3kA=",
          "dtype": "f8",
          "shape": "8, 2"
         },
         "hovertemplate": "Gender=%{x}<br>Age_Group=%{y}<br>Total_Population=%{customdata[1]}<br>Depression_Rate=%{marker.color:.1f}<extra></extra>",
         "legendgroup": "",
         "marker": {
          "color": {
           "bdata": "49N6PitBTkBT4h6AKcRBQCQT1mQ8wApA1gpylEqH6z/LS4RJvIFOQLXNc12tSEJAjw/bVQ/5CUA5Mf+y/XnoPw==",
           "dtype": "f8"
          },
          "coloraxis": "coloraxis",
          "size": {
           "bdata": "RymXLVg7zmS5NNY3eEeReg==",
           "dtype": "i2"
          },
          "sizemode": "area",
          "sizeref": 8.715833333333334,
          "symbol": "circle"
         },
         "mode": "markers",
         "name": "",
         "orientation": "v",
         "showlegend": false,
         "type": "scatter",
         "x": [
          "Female",
          "Female",
          "Female",
          "Female",
          "Male",
          "Male",
          "Male",
          "Male"
         ],
         "xaxis": "x",
         "y": [
          "18-25",
          "26-35",
          "36-45",
          "46-60",
          "18-25",
          "26-35",
          "36-45",
          "46-60"
         ],
         "yaxis": "y"
        }
       ],
       "layout": {
        "coloraxis": {
         "colorbar": {
          "title": {
           "text": "Depression Rate (%)"
          }
         },
         "colorscale": [
          [
           0,
           "#440154"
          ],
          [
           0.1111111111111111,
           "#482878"
          ],
          [
           0.2222222222222222,
           "#3e4989"
          ],
          [
           0.3333333333333333,
           "#31688e"
          ],
          [
           0.4444444444444444,
           "#26828e"
          ],
          [
           0.5555555555555556,
           "#1f9e89"
          ],
          [
           0.6666666666666666,
           "#35b779"
          ],
          [
           0.7777777777777778,
           "#6ece58"
          ],
          [
           0.8888888888888888,
           "#b5de2b"
          ],
          [
           1,
           "#fde725"
          ]
         ]
        },
        "height": 500,
        "hovermode": "closest",
        "legend": {
         "itemsizing": "constant",
         "tracegroupgap": 0
        },
        "template": {
         "data": {
          "bar": [
           {
            "error_x": {
             "color": "#2a3f5f"
            },
            "error_y": {
             "color": "#2a3f5f"
            },
            "marker": {
             "line": {
              "color": "white",
              "width": 0.5
             },
             "pattern": {
              "fillmode": "overlay",
              "size": 10,
              "solidity": 0.2
             }
            },
            "type": "bar"
           }
          ],
          "barpolar": [
           {
            "marker": {
             "line": {
              "color": "white",
              "width": 0.5
             },
             "pattern": {
              "fillmode": "overlay",
              "size": 10,
              "solidity": 0.2
             }
            },
            "type": "barpolar"
           }
          ],
          "carpet": [
           {
            "aaxis": {
             "endlinecolor": "#2a3f5f",
             "gridcolor": "#C8D4E3",
             "linecolor": "#C8D4E3",
             "minorgridcolor": "#C8D4E3",
             "startlinecolor": "#2a3f5f"
            },
            "baxis": {
             "endlinecolor": "#2a3f5f",
             "gridcolor": "#C8D4E3",
             "linecolor": "#C8D4E3",
             "minorgridcolor": "#C8D4E3",
             "startlinecolor": "#2a3f5f"
            },
            "type": "carpet"
           }
          ],
          "choropleth": [
           {
            "colorbar": {
             "outlinewidth": 0,
             "ticks": ""
            },
            "type": "choropleth"
           }
          ],
          "contour": [
           {
            "colorbar": {
             "outlinewidth": 0,
             "ticks": ""
            },
            "colorscale": [
             [
              0,
              "#0d0887"
             ],
             [
              0.1111111111111111,
              "#46039f"
             ],
             [
              0.2222222222222222,
              "#7201a8"
             ],
             [
              0.3333333333333333,
              "#9c179e"
             ],
             [
              0.4444444444444444,
              "#bd3786"
             ],
             [
              0.5555555555555556,
              "#d8576b"
             ],
             [
              0.6666666666666666,
              "#ed7953"
             ],
             [
              0.7777777777777778,
              "#fb9f3a"
             ],
             [
              0.8888888888888888,
              "#fdca26"
             ],
             [
              1,
              "#f0f921"
             ]
            ],
            "type": "contour"
           }
          ],
          "contourcarpet": [
           {
            "colorbar": {
             "outlinewidth": 0,
             "ticks": ""
            },
            "type": "contourcarpet"
           }
          ],
          "heatmap": [
           {
            "colorbar": {
             "outlinewidth": 0,
             "ticks": ""
            },
            "colorscale": [
             [
              0,
              "#0d0887"
             ],
             [
              0.1111111111111111,
              "#46039f"
             ],
             [
              0.2222222222222222,
              "#7201a8"
             ],
             [
              0.3333333333333333,
              "#9c179e"
             ],
             [
              0.4444444444444444,
              "#bd3786"
             ],
             [
              0.5555555555555556,
              "#d8576b"
             ],
             [
              0.6666666666666666,
              "#ed7953"
             ],
             [
              0.7777777777777778,
              "#fb9f3a"
             ],
             [
              0.8888888888888888,
              "#fdca26"
             ],
             [
              1,
              "#f0f921"
             ]
            ],
            "type": "heatmap"
           }
          ],
          "histogram": [
           {
            "marker": {
             "pattern": {
              "fillmode": "overlay",
              "size": 10,
              "solidity": 0.2
             }
            },
            "type": "histogram"
           }
          ],
          "histogram2d": [
           {
            "colorbar": {
             "outlinewidth": 0,
             "ticks": ""
            },
            "colorscale": [
             [
              0,
              "#0d0887"
             ],
             [
              0.1111111111111111,
              "#46039f"
             ],
             [
              0.2222222222222222,
              "#7201a8"
             ],
             [
              0.3333333333333333,
              "#9c179e"
             ],
             [
              0.4444444444444444,
              "#bd3786"
             ],
             [
              0.5555555555555556,
              "#d8576b"
             ],
             [
              0.6666666666666666,
              "#ed7953"
             ],
             [
              0.7777777777777778,
              "#fb9f3a"
             ],
             [
              0.8888888888888888,
              "#fdca26"
             ],
             [
              1,
              "#f0f921"
             ]
            ],
            "type": "histogram2d"
           }
          ],
          "histogram2dcontour": [
           {
            "colorbar": {
             "outlinewidth": 0,
             "ticks": ""
            },
            "colorscale": [
             [
              0,
              "#0d0887"
             ],
             [
              0.1111111111111111,
              "#46039f"
             ],
             [
              0.2222222222222222,
              "#7201a8"
             ],
             [
              0.3333333333333333,
              "#9c179e"
             ],
             [
              0.4444444444444444,
              "#bd3786"
             ],
             [
              0.5555555555555556,
              "#d8576b"
             ],
             [
              0.6666666666666666,
              "#ed7953"
             ],
             [
              0.7777777777777778,
              "#fb9f3a"
             ],
             [
              0.8888888888888888,
              "#fdca26"
             ],
             [
              1,
              "#f0f921"
             ]
            ],
            "type": "histogram2dcontour"
           }
          ],
          "mesh3d": [
           {
            "colorbar": {
             "outlinewidth": 0,
             "ticks": ""
            },
            "type": "mesh3d"
           }
          ],
          "parcoords": [
           {
            "line": {
             "colorbar": {
              "outlinewidth": 0,
              "ticks": ""
             }
            },
            "type": "parcoords"
           }
          ],
          "pie": [
           {
            "automargin": true,
            "type": "pie"
           }
          ],
          "scatter": [
           {
            "fillpattern": {
             "fillmode": "overlay",
             "size": 10,
             "solidity": 0.2
            },
            "type": "scatter"
           }
          ],
          "scatter3d": [
           {
            "line": {
             "colorbar": {
              "outlinewidth": 0,
              "ticks": ""
             }
            },
            "marker": {
             "colorbar": {
              "outlinewidth": 0,
              "ticks": ""
             }
            },
            "type": "scatter3d"
           }
          ],
          "scattercarpet": [
           {
            "marker": {
             "colorbar": {
              "outlinewidth": 0,
              "ticks": ""
             }
            },
            "type": "scattercarpet"
           }
          ],
          "scattergeo": [
           {
            "marker": {
             "colorbar": {
              "outlinewidth": 0,
              "ticks": ""
             }
            },
            "type": "scattergeo"
           }
          ],
          "scattergl": [
           {
            "marker": {
             "colorbar": {
              "outlinewidth": 0,
              "ticks": ""
             }
            },
            "type": "scattergl"
           }
          ],
          "scattermap": [
           {
            "marker": {
             "colorbar": {
              "outlinewidth": 0,
              "ticks": ""
             }
            },
            "type": "scattermap"
           }
          ],
          "scattermapbox": [
           {
            "marker": {
             "colorbar": {
              "outlinewidth": 0,
              "ticks": ""
             }
            },
            "type": "scattermapbox"
           }
          ],
          "scatterpolar": [
           {
            "marker": {
             "colorbar": {
              "outlinewidth": 0,
              "ticks": ""
             }
            },
            "type": "scatterpolar"
           }
          ],
          "scatterpolargl": [
           {
            "marker": {
             "colorbar": {
              "outlinewidth": 0,
              "ticks": ""
             }
            },
            "type": "scatterpolargl"
           }
          ],
          "scatterternary": [
           {
            "marker": {
             "colorbar": {
              "outlinewidth": 0,
              "ticks": ""
             }
            },
            "type": "scatterternary"
           }
          ],
          "surface": [
           {
            "colorbar": {
             "outlinewidth": 0,
             "ticks": ""
            },
            "colorscale": [
             [
              0,
              "#0d0887"
             ],
             [
              0.1111111111111111,
              "#46039f"
             ],
             [
              0.2222222222222222,
              "#7201a8"
             ],
             [
              0.3333333333333333,
              "#9c179e"
             ],
             [
              0.4444444444444444,
              "#bd3786"
             ],
             [
              0.5555555555555556,
              "#d8576b"
             ],
             [
              0.6666666666666666,
              "#ed7953"
             ],
             [
              0.7777777777777778,
              "#fb9f3a"
             ],
             [
              0.8888888888888888,
              "#fdca26"
             ],
             [
              1,
              "#f0f921"
             ]
            ],
            "type": "surface"
           }
          ],
          "table": [
           {
            "cells": {
             "fill": {
              "color": "#EBF0F8"
             },
             "line": {
              "color": "white"
             }
            },
            "header": {
             "fill": {
              "color": "#C8D4E3"
             },
             "line": {
              "color": "white"
             }
            },
            "type": "table"
           }
          ]
         },
         "layout": {
          "annotationdefaults": {
           "arrowcolor": "#2a3f5f",
           "arrowhead": 0,
           "arrowwidth": 1
          },
          "autotypenumbers": "strict",
          "coloraxis": {
           "colorbar": {
            "outlinewidth": 0,
            "ticks": ""
           }
          },
          "colorscale": {
           "diverging": [
            [
             0,
             "#8e0152"
            ],
            [
             0.1,
             "#c51b7d"
            ],
            [
             0.2,
             "#de77ae"
            ],
            [
             0.3,
             "#f1b6da"
            ],
            [
             0.4,
             "#fde0ef"
            ],
            [
             0.5,
             "#f7f7f7"
            ],
            [
             0.6,
             "#e6f5d0"
            ],
            [
             0.7,
             "#b8e186"
            ],
            [
             0.8,
             "#7fbc41"
            ],
            [
             0.9,
             "#4d9221"
            ],
            [
             1,
             "#276419"
            ]
           ],
           "sequential": [
            [
             0,
             "#0d0887"
            ],
            [
             0.1111111111111111,
             "#46039f"
            ],
            [
             0.2222222222222222,
             "#7201a8"
            ],
            [
             0.3333333333333333,
             "#9c179e"
            ],
            [
             0.4444444444444444,
             "#bd3786"
            ],
            [
             0.5555555555555556,
             "#d8576b"
            ],
            [
             0.6666666666666666,
             "#ed7953"
            ],
            [
             0.7777777777777778,
             "#fb9f3a"
            ],
            [
             0.8888888888888888,
             "#fdca26"
            ],
            [
             1,
             "#f0f921"
            ]
           ],
           "sequentialminus": [
            [
             0,
             "#0d0887"
            ],
            [
             0.1111111111111111,
             "#46039f"
            ],
            [
             0.2222222222222222,
             "#7201a8"
            ],
            [
             0.3333333333333333,
             "#9c179e"
            ],
            [
             0.4444444444444444,
             "#bd3786"
            ],
            [
             0.5555555555555556,
             "#d8576b"
            ],
            [
             0.6666666666666666,
             "#ed7953"
            ],
            [
             0.7777777777777778,
             "#fb9f3a"
            ],
            [
             0.8888888888888888,
             "#fdca26"
            ],
            [
             1,
             "#f0f921"
            ]
           ]
          },
          "colorway": [
           "#636efa",
           "#EF553B",
           "#00cc96",
           "#ab63fa",
           "#FFA15A",
           "#19d3f3",
           "#FF6692",
           "#B6E880",
           "#FF97FF",
           "#FECB52"
          ],
          "font": {
           "color": "#2a3f5f"
          },
          "geo": {
           "bgcolor": "white",
           "lakecolor": "white",
           "landcolor": "white",
           "showlakes": true,
           "showland": true,
           "subunitcolor": "#C8D4E3"
          },
          "hoverlabel": {
           "align": "left"
          },
          "hovermode": "closest",
          "mapbox": {
           "style": "light"
          },
          "paper_bgcolor": "white",
          "plot_bgcolor": "white",
          "polar": {
           "angularaxis": {
            "gridcolor": "#EBF0F8",
            "linecolor": "#EBF0F8",
            "ticks": ""
           },
           "bgcolor": "white",
           "radialaxis": {
            "gridcolor": "#EBF0F8",
            "linecolor": "#EBF0F8",
            "ticks": ""
           }
          },
          "scene": {
           "xaxis": {
            "backgroundcolor": "white",
            "gridcolor": "#DFE8F3",
            "gridwidth": 2,
            "linecolor": "#EBF0F8",
            "showbackground": true,
            "ticks": "",
            "zerolinecolor": "#EBF0F8"
           },
           "yaxis": {
            "backgroundcolor": "white",
            "gridcolor": "#DFE8F3",
            "gridwidth": 2,
            "linecolor": "#EBF0F8",
            "showbackground": true,
            "ticks": "",
            "zerolinecolor": "#EBF0F8"
           },
           "zaxis": {
            "backgroundcolor": "white",
            "gridcolor": "#DFE8F3",
            "gridwidth": 2,
            "linecolor": "#EBF0F8",
            "showbackground": true,
            "ticks": "",
            "zerolinecolor": "#EBF0F8"
           }
          },
          "shapedefaults": {
           "line": {
            "color": "#2a3f5f"
           }
          },
          "ternary": {
           "aaxis": {
            "gridcolor": "#DFE8F3",
            "linecolor": "#A2B1C6",
            "ticks": ""
           },
           "baxis": {
            "gridcolor": "#DFE8F3",
            "linecolor": "#A2B1C6",
            "ticks": ""
           },
           "bgcolor": "white",
           "caxis": {
            "gridcolor": "#DFE8F3",
            "linecolor": "#A2B1C6",
            "ticks": ""
           }
          },
          "title": {
           "x": 0.05
          },
          "xaxis": {
           "automargin": true,
           "gridcolor": "#EBF0F8",
           "linecolor": "#EBF0F8",
           "ticks": "",
           "title": {
            "standoff": 15
           },
           "zerolinecolor": "#EBF0F8",
           "zerolinewidth": 2
          },
          "yaxis": {
           "automargin": true,
           "gridcolor": "#EBF0F8",
           "linecolor": "#EBF0F8",
           "ticks": "",
           "title": {
            "standoff": 15
           },
           "zerolinecolor": "#EBF0F8",
           "zerolinewidth": 2
          }
         }
        },
        "title": {
         "font": {
          "size": 18
         },
         "text": "Interactive Depression Rate Analysis by Demographics",
         "x": 0.5
        },
        "xaxis": {
         "anchor": "y",
         "domain": [
          0,
          1
         ],
         "title": {
          "text": "Gender"
         }
        },
        "yaxis": {
         "anchor": "x",
         "domain": [
          0,
          1
         ],
         "title": {
          "text": "Age Group"
         }
        }
       }
      }
     },
     "metadata": {},
     "output_type": "display_data"
    },
    {
     "name": "stdout",
     "output_type": "stream",
     "text": [
      "Sample interactive visualization created!\n",
      "This demonstrates the type of interactive insights we'll create in subsequent tasks.\n",
      "DEMONSTRATION: ADVANCED SEABORN STATISTICAL VISUALIZATION\n",
      "============================================================\n"
     ]
    },
    {
     "data": {
      "image/png": "[encoded data removed]",
      "text/plain": [
       "<Figure size 1600x1200 with 5 Axes>"
      ]
     },
     "metadata": {},
     "output_type": "display_data"
    },
    {
     "name": "stdout",
     "output_type": "stream",
     "text": [
      "Advanced Seaborn statistical visualizations created!\n",
      "These provide detailed statistical insights complementing Plotly's interactivity.\n"
     ]
    }
   ],
   "source": [
    "print('Subtask 3.1.4: INTERACTIVE VISUALIZATION APPROACH WITH PLOTLY')\n",
    "print('='*65)\n",
    "\n",
    "# Design interactive dashboard structure\n",
    "dashboard_structure = {\n",
    "    \"Executive Summary Dashboard\": {\n",
    "        \"Purpose\": \"High-level KPIs and key insights overview\",\n",
    "        \"Components\": [\n",
    "            \"Overall depression rate gauge chart\",\n",
    "            \"Top risk factors treemap\",\n",
    "            \"Demographic breakdown sunburst\",\n",
    "            \"Trend indicators (if temporal data available)\"\n",
    "        ],\n",
    "        \"Interactivity\": \"Hover details, clickable drill-downs, filter controls\"\n",
    "    },\n",
    "    \"Demographic Analysis Dashboard\": {\n",
    "        \"Purpose\": \"Deep dive into population characteristics\",\n",
    "        \"Components\": [\n",
    "            \"Age group comparison bar charts with animations\",\n",
    "            \"Gender vs profession matrix heatmap\",\n",
    "            \"Geographic distribution scatter map\",\n",
    "            \"Cross-demographic correlation network\"\n",
    "        ],\n",
    "        \"Interactivity\": \"Multi-select filters, zoom controls, comparison toggles\"\n",
    "    },\n",
    "    \"Risk Factor Explorer\": {\n",
    "        \"Purpose\": \"Interactive exploration of mental health risk factors\",\n",
    "        \"Components\": [\n",
    "            \"Parallel coordinates plot for multi-factor analysis\",\n",
    "            \"3D scatter plot for lifestyle factor relationships\",\n",
    "            \"Sankey diagram for risk factor flow\",\n",
    "            \"Radar charts for individual risk profiles\"\n",
    "        ],\n",
    "        \"Interactivity\": \"Parameter sliders, profile comparison, real-time updates\"\n",
    "    },\n",
    "    \"Bias Detection Monitor\": {\n",
    "        \"Purpose\": \"Fairness and equity analysis across groups\",\n",
    "        \"Components\": [\n",
    "            \"Group parity comparison charts\",\n",
    "            \"Statistical significance indicators\",\n",
    "            \"Confidence interval visualizations\",\n",
    "            \"Bias metrics dashboard\"\n",
    "        ],\n",
    "        \"Interactivity\": \"Group selection, metric switching, statistical test results\"\n",
    "    }\n",
    "}\n",
    "\n",
    "# Display dashboard structure\n",
    "for dashboard, details in dashboard_structure.items():\n",
    "    print(f\"\\n{dashboard.upper()}:\")\n",
    "    print(f\"Purpose: {details['Purpose']}\")\n",
    "    print(f\"\\nComponents:\")\n",
    "    for component in details['Components']:\n",
    "        print(f\"  - {component}\")\n",
    "    print(f\"\\nInteractivity Features: {details['Interactivity']}\")\n",
    "\n",
    "print(\"\\n\" + \"=\"*70)\n",
    "print(\"PLOTLY IMPLEMENTATION FEATURES:\")\n",
    "print(\"- Responsive design for multiple screen sizes\")\n",
    "print(\"- Custom color schemes for accessibility\")\n",
    "print(\"- Export capabilities (PNG, PDF, HTML)\")\n",
    "print(\"- Integration with Streamlit for web deployment\")\n",
    "print(\"- Real-time data updates capability\")\n",
    "print(\"- Cross-filter interactions between charts\")\n",
    "print(\"- Statistical annotations and significance testing\")\n",
    "print(\"- Mobile-friendly touch interactions\")\n",
    "# Demonstration: Create a sample interactive visualization\n",
    "print('DEMONSTRATION: SAMPLE INTERACTIVE PLOTLY VISUALIZATION')\n",
    "print('='*55)\n",
    "\n",
    "# Create sample interactive depression rate by demographics\n",
    "demo_data = train_df.groupby(['Gender', 'Age_Group'])['Depression'].agg(['count', 'sum']).reset_index()\n",
    "demo_data['Depression_Rate'] = (demo_data['sum'] / demo_data['count']) * 100\n",
    "demo_data['Total_Population'] = demo_data['count']\n",
    "\n",
    "# Interactive bubble chart\n",
    "fig = px.scatter(demo_data, \n",
    "                 x='Gender', \n",
    "                 y='Age_Group',\n",
    "                 size='Total_Population',\n",
    "                 color='Depression_Rate',\n",
    "                 hover_data={'Depression_Rate': ':.1f', 'Total_Population': True},\n",
    "                 title='Interactive Depression Rate Analysis by Demographics',\n",
    "                 color_continuous_scale='Viridis',\n",
    "                 size_max=60)\n",
    "\n",
    "fig.update_layout(\n",
    "    title={'x': 0.5, 'font': {'size': 18}},\n",
    "    xaxis_title='Gender',\n",
    "    yaxis_title='Age Group',\n",
    "    coloraxis_colorbar=dict(title=\"Depression Rate (%)\"),\n",
    "    height=500,\n",
    "    hovermode='closest'\n",
    ")\n",
    "\n",
    "fig.show()\n",
    "\n",
    "print(\"Sample interactive visualization created!\")\n",
    "print(\"This demonstrates the type of interactive insights we'll create in subsequent tasks.\")\n",
    "# Demonstration: Advanced Seaborn statistical visualization\n",
    "print('DEMONSTRATION: ADVANCED SEABORN STATISTICAL VISUALIZATION')\n",
    "print('='*60)\n",
    "\n",
    "# Create comprehensive statistical overview\n",
    "fig, axes = plt.subplots(2, 2, figsize=(16, 12))\n",
    "\n",
    "# 1. Violin plot for age distribution by depression status\n",
    "sns.violinplot(data=train_df, x='Depression', y='Age', ax=axes[0,0], palette='viridis')\n",
    "axes[0,0].set_title('Age Distribution by Depression Status\\n(Statistical Density)', fontsize=14)\n",
    "axes[0,0].set_xlabel('Depression Status (0=No, 1=Yes)')\n",
    "\n",
    "# 2. Count plot with statistical annotations\n",
    "sns.countplot(data=train_df, x='Gender', hue='Depression', ax=axes[0,1], palette='husl')\n",
    "axes[0,1].set_title('Gender Distribution with Depression Breakdown', fontsize=14)\n",
    "axes[0,1].legend(title='Depression', labels=['No', 'Yes'])\n",
    "\n",
    "# 3. Box plot for work/study hours\n",
    "sns.boxplot(data=train_df, x='Depression', y='Work/Study Hours', ax=axes[1,0], palette='coolwarm')\n",
    "axes[1,0].set_title('Work/Study Hours Distribution by Depression', fontsize=14)\n",
    "axes[1,0].set_xlabel('Depression Status (0=No, 1=Yes)')\n",
    "\n",
    "# 4. Correlation heatmap for numerical features\n",
    "numerical_cols = ['Age', 'Work/Study Hours', 'Financial Stress', 'Depression']\n",
    "available_cols = [col for col in numerical_cols if col in train_df.columns]\n",
    "corr_matrix = train_df[available_cols].corr()\n",
    "\n",
    "sns.heatmap(corr_matrix, annot=True, cmap='RdBu_r', center=0, \n",
    "            square=True, ax=axes[1,1], fmt='.3f')\n",
    "axes[1,1].set_title('Feature Correlation Matrix\\n(Statistical Relationships)', fontsize=14)\n",
    "\n",
    "plt.tight_layout()\n",
    "plt.show()\n",
    "\n",
    "print(\"Advanced Seaborn statistical visualizations created!\")\n",
    "print(\"These provide detailed statistical insights complementing Plotly's interactivity.\")\n",
    "\n",
    "\n"
   ]
  },
  {
   "cell_type": "markdown",
   "id": "9ff38e60",
   "metadata": {},
   "source": [
    "\n",
    "## Strategy Summary and Next Steps\n"
   ]
  },
  {
   "cell_type": "code",
   "execution_count": 63,
   "id": "082e9f65",
   "metadata": {},
   "outputs": [
    {
     "name": "stdout",
     "output_type": "stream",
     "text": [
      "TASK 3.1: INSIGHT DISCOVERY STRATEGY - SUMMARY\n",
      "==================================================\n",
      "IMPLEMENTATION CHECKLIST:\n",
      "\n",
      "✓ Business Questions Defined:\n",
      "   Status: COMPLETED\n",
      "   Details: 25 strategic questions across 5 categories identified\n",
      "\n",
      "✓ Visualization Strategy Planned:\n",
      "   Status: COMPLETED\n",
      "   Details: Plotly and Seaborn chart types mapped to insight categories\n",
      "\n",
      "✓ Bias Detection Framework:\n",
      "   Status: COMPLETED\n",
      "   Details: 8 bias patterns identified with monitoring approach\n",
      "\n",
      "✓ Interactive Dashboard Design:\n",
      "   Status: COMPLETED\n",
      "   Details: 4 dashboard concepts with Plotly implementation plan\n",
      "\n",
      "✓ Technology Implementation:\n",
      "   Status: READY\n",
      "   Details: Libraries configured, demo visualizations created\n",
      "\n",
      "NEXT STEPS:\n",
      "   1. Task 3.2: Implement business insights analysis using Plotly interactive charts\n",
      "   2. Task 3.3: Create advanced Seaborn statistical visualizations\n",
      "   3. Task 3.4: Develop comprehensive insight documentation with findings\n",
      "   4. Integration: Combine insights for Streamlit dashboard in Phase 9\n",
      "\n",
      "Task 3.1: Insight Discovery Strategy - COMPLETED\n",
      "Ready to proceed with Task 3.2: Business Insights Analysis using Plotly and Seaborn!\n"
     ]
    }
   ],
   "source": [
    "print('TASK 3.1: INSIGHT DISCOVERY STRATEGY - SUMMARY')\n",
    "print('='*50)\n",
    "\n",
    "# Strategy implementation checklist\n",
    "implementation_checklist = {\n",
    "    \"Business Questions Defined\": {\n",
    "        \"Status\": \"COMPLETED\",\n",
    "        \"Details\": \"25 strategic questions across 5 categories identified\"\n",
    "    },\n",
    "    \"Visualization Strategy Planned\": {\n",
    "        \"Status\": \"COMPLETED\",\n",
    "        \"Details\": \"Plotly and Seaborn chart types mapped to insight categories\"\n",
    "    },\n",
    "    \"Bias Detection Framework\": {\n",
    "        \"Status\": \"COMPLETED\",\n",
    "        \"Details\": \"8 bias patterns identified with monitoring approach\"\n",
    "    },\n",
    "    \"Interactive Dashboard Design\": {\n",
    "        \"Status\": \"COMPLETED\", \n",
    "        \"Details\": \"4 dashboard concepts with Plotly implementation plan\"\n",
    "    },\n",
    "    \"Technology Implementation\": {\n",
    "        \"Status\": \"READY\",\n",
    "        \"Details\": \"Libraries configured, demo visualizations created\"\n",
    "    }\n",
    "}\n",
    "\n",
    "print(\"IMPLEMENTATION CHECKLIST:\")\n",
    "for item, details in implementation_checklist.items():\n",
    "    status_icon = \"✓\" if details['Status'] in ['COMPLETED', 'READY'] else \"○\"\n",
    "    print(f\"\\n{status_icon} {item}:\")\n",
    "    print(f\"   Status: {details['Status']}\")\n",
    "    print(f\"   Details: {details['Details']}\")\n",
    "\n",
    "print(\"\\nNEXT STEPS:\")\n",
    "next_steps = [\n",
    "    \"Task 3.2: Implement business insights analysis using Plotly interactive charts\",\n",
    "    \"Task 3.3: Create advanced Seaborn statistical visualizations\",\n",
    "    \"Task 3.4: Develop comprehensive insight documentation with findings\",\n",
    "    \"Integration: Combine insights for Streamlit dashboard in Phase 9\"\n",
    "]\n",
    "\n",
    "for i, step in enumerate(next_steps, 1):\n",
    "    print(f\"   {i}. {step}\")\n",
    "\n",
    "print(\"\\nTask 3.1: Insight Discovery Strategy - COMPLETED\")\n",
    "print(\"Ready to proceed with Task 3.2: Business Insights Analysis using Plotly and Seaborn!\")"
   ]
  },
  {
   "cell_type": "markdown",
   "id": "2c0df5d0",
   "metadata": {},
   "source": [
    "# TASK 3.2: BUSINESS INSIGHTS ANALYSIS\n",
    "\n",
    "**Project**: Mental Health Depression Prediction  \n",
    "**Phase**: 3 - Data Insights Discovery  \n",
    "**Task**: 3.2 - Business Insights Analysis  \n",
    "\n",
    "**Objective**: Implement interactive Plotly visualizations and advanced Seaborn statistical analysis for comprehensive business insights\n",
    "\n",
    "**Implementation Guide Reference**: Task 3.2 (Lines 138-145)\n",
    "\n",
    "**Primary Libraries**: Plotly Express, Plotly Graph Objects, Seaborn\n",
    "\n",
    "**Subtasks:**\n",
    "- 3.2.1 Demographic Insights with Interactive Plotly Charts\n",
    "- 3.2.2 Lifestyle Impact Analysis using Advanced Visualizations\n",
    "- 3.2.3 Risk Factor Exploration with Multi-dimensional Plots\n",
    "- 3.2.4 Statistical Analysis with Seaborn Advanced Plots\n",
    "- 3.2.5 Bias Detection and Fairness Analysis Visualizations"
   ]
  },
  {
   "cell_type": "code",
   "execution_count": 64,
   "id": "4ccbc889",
   "metadata": {},
   "outputs": [
    {
     "name": "stdout",
     "output_type": "stream",
     "text": [
      "\n",
      "Dataset Overview:\n",
      "Total Samples: 140,700\n",
      "Overall Depression Rate: 18.2%\n",
      "No Depression: 115,133 (81.8%)\n",
      "Depression: 25,567 (18.2%)\n",
      "\n",
      "Data preprocessing completed for business insights analysis!\n"
     ]
    }
   ],
   "source": [
    "# Set visualization themes\n",
    "plt.style.use('default')\n",
    "sns.set_palette(\"husl\")\n",
    "px.defaults.template = \"plotly_white\"\n",
    "px.defaults.color_continuous_scale = \"viridis\"\n",
    "\n",
    "# Custom color palettes\n",
    "depression_colors = ['#2E86AB', '#A23B72']  # Blue for No, Pink for Yes\n",
    "continuous_palette = px.colors.sequential.Viridis\n",
    "\n",
    "\n",
    "# Data preprocessing for analysis\n",
    "# Create age groups\n",
    "train_df['Age_Group'] = pd.cut(train_df['Age'], \n",
    "                              bins=[0, 25, 35, 45, 60], \n",
    "                              labels=['18-25', '26-35', '36-45', '46-60'])\n",
    "\n",
    "# Create categorical mappings for better visualization\n",
    "train_df['Depression_Label'] = train_df['Depression'].map({0: 'No Depression', 1: 'Depression'})\n",
    "train_df['Gender_Clean'] = train_df['Gender'].str.title()\n",
    "\n",
    "# Calculate overall statistics\n",
    "total_samples = len(train_df)\n",
    "depression_rate = train_df['Depression'].mean() * 100\n",
    "no_depression_count = (train_df['Depression'] == 0).sum()\n",
    "depression_count = (train_df['Depression'] == 1).sum()\n",
    "\n",
    "print(f\"\\nDataset Overview:\")\n",
    "print(f\"Total Samples: {total_samples:,}\")\n",
    "print(f\"Overall Depression Rate: {depression_rate:.1f}%\")\n",
    "print(f\"No Depression: {no_depression_count:,} ({(no_depression_count/total_samples)*100:.1f}%)\")\n",
    "print(f\"Depression: {depression_count:,} ({(depression_count/total_samples)*100:.1f}%)\")\n",
    "print(\"\\nData preprocessing completed for business insights analysis!\")\n"
   ]
  },
  {
   "cell_type": "markdown",
   "id": "52846a8e",
   "metadata": {},
   "source": [
    "## Subtask 3.2.1: Demographic Insights with Interactive Plotly Charts\n"
   ]
  },
  {
   "cell_type": "code",
   "execution_count": 65,
   "id": "b9f17ef1",
   "metadata": {},
   "outputs": [
    {
     "name": "stdout",
     "output_type": "stream",
     "text": [
      "Subtask 3.2.1: DEMOGRAPHIC INSIGHTS WITH INTERACTIVE PLOTLY CHARTS\n",
      "======================================================================\n"
     ]
    },
    {
     "ename": "AttributeError",
     "evalue": "'PandasThen' object has no attribute '_evaluate_output_names'",
     "output_type": "error",
     "traceback": [
      "\u001b[0;31m---------------------------------------------------------------------------\u001b[0m",
      "\u001b[0;31mAttributeError\u001b[0m                            Traceback (most recent call last)",
      "Cell \u001b[0;32mIn[65], line 15\u001b[0m\n\u001b[1;32m      8\u001b[0m demo_hierarchy \u001b[38;5;241m=\u001b[39m (\n\u001b[1;32m      9\u001b[0m     train_df\u001b[38;5;241m.\u001b[39mgroupby([\u001b[38;5;124m'\u001b[39m\u001b[38;5;124mGender_Clean\u001b[39m\u001b[38;5;124m'\u001b[39m, \u001b[38;5;124m'\u001b[39m\u001b[38;5;124mAge_Group\u001b[39m\u001b[38;5;124m'\u001b[39m, \u001b[38;5;124m'\u001b[39m\u001b[38;5;124mDepression_Label\u001b[39m\u001b[38;5;124m'\u001b[39m])\n\u001b[1;32m     10\u001b[0m     \u001b[38;5;241m.\u001b[39msize()\n\u001b[1;32m     11\u001b[0m     \u001b[38;5;241m.\u001b[39mreset_index(name\u001b[38;5;241m=\u001b[39m\u001b[38;5;124m'\u001b[39m\u001b[38;5;124mCount\u001b[39m\u001b[38;5;124m'\u001b[39m)\n\u001b[1;32m     12\u001b[0m )\n\u001b[1;32m     14\u001b[0m \u001b[38;5;66;03m# Build sunburst\u001b[39;00m\n\u001b[0;32m---> 15\u001b[0m fig_sunburst \u001b[38;5;241m=\u001b[39m \u001b[43mpx\u001b[49m\u001b[38;5;241;43m.\u001b[39;49m\u001b[43msunburst\u001b[49m\u001b[43m(\u001b[49m\n\u001b[1;32m     16\u001b[0m \u001b[43m    \u001b[49m\u001b[43mdemo_hierarchy\u001b[49m\u001b[43m,\u001b[49m\n\u001b[1;32m     17\u001b[0m \u001b[43m    \u001b[49m\u001b[43mpath\u001b[49m\u001b[38;5;241;43m=\u001b[39;49m\u001b[43m[\u001b[49m\u001b[38;5;124;43m'\u001b[39;49m\u001b[38;5;124;43mGender_Clean\u001b[39;49m\u001b[38;5;124;43m'\u001b[39;49m\u001b[43m,\u001b[49m\u001b[43m \u001b[49m\u001b[38;5;124;43m'\u001b[39;49m\u001b[38;5;124;43mAge_Group\u001b[39;49m\u001b[38;5;124;43m'\u001b[39;49m\u001b[43m,\u001b[49m\u001b[43m \u001b[49m\u001b[38;5;124;43m'\u001b[39;49m\u001b[38;5;124;43mDepression_Label\u001b[39;49m\u001b[38;5;124;43m'\u001b[39;49m\u001b[43m]\u001b[49m\u001b[43m,\u001b[49m\n\u001b[1;32m     18\u001b[0m \u001b[43m    \u001b[49m\u001b[43mvalues\u001b[49m\u001b[38;5;241;43m=\u001b[39;49m\u001b[38;5;124;43m'\u001b[39;49m\u001b[38;5;124;43mCount\u001b[39;49m\u001b[38;5;124;43m'\u001b[39;49m\u001b[43m,\u001b[49m\n\u001b[1;32m     19\u001b[0m \u001b[43m    \u001b[49m\u001b[43mtitle\u001b[49m\u001b[38;5;241;43m=\u001b[39;49m\u001b[38;5;124;43m'\u001b[39;49m\u001b[38;5;124;43mInteractive Demographic Breakdown: Gender → Age Group → Depression Status\u001b[39;49m\u001b[38;5;124;43m'\u001b[39;49m\u001b[43m,\u001b[49m\n\u001b[1;32m     20\u001b[0m \u001b[43m    \u001b[49m\u001b[43mcolor\u001b[49m\u001b[38;5;241;43m=\u001b[39;49m\u001b[38;5;124;43m'\u001b[39;49m\u001b[38;5;124;43mCount\u001b[39;49m\u001b[38;5;124;43m'\u001b[39;49m\u001b[43m,\u001b[49m\n\u001b[1;32m     21\u001b[0m \u001b[43m    \u001b[49m\u001b[43mcolor_continuous_scale\u001b[49m\u001b[38;5;241;43m=\u001b[39;49m\u001b[38;5;124;43m'\u001b[39;49m\u001b[38;5;124;43mViridis\u001b[39;49m\u001b[38;5;124;43m'\u001b[39;49m\n\u001b[1;32m     22\u001b[0m \u001b[43m)\u001b[49m\n\u001b[1;32m     24\u001b[0m fig_sunburst\u001b[38;5;241m.\u001b[39mupdate_layout(\n\u001b[1;32m     25\u001b[0m     title\u001b[38;5;241m=\u001b[39m{\u001b[38;5;124m'\u001b[39m\u001b[38;5;124mx\u001b[39m\u001b[38;5;124m'\u001b[39m: \u001b[38;5;241m0.5\u001b[39m, \u001b[38;5;124m'\u001b[39m\u001b[38;5;124mfont\u001b[39m\u001b[38;5;124m'\u001b[39m: {\u001b[38;5;124m'\u001b[39m\u001b[38;5;124msize\u001b[39m\u001b[38;5;124m'\u001b[39m: \u001b[38;5;241m16\u001b[39m}},\n\u001b[1;32m     26\u001b[0m     font_size\u001b[38;5;241m=\u001b[39m\u001b[38;5;241m12\u001b[39m,\n\u001b[1;32m     27\u001b[0m     height\u001b[38;5;241m=\u001b[39m\u001b[38;5;241m600\u001b[39m\n\u001b[1;32m     28\u001b[0m )\n\u001b[1;32m     30\u001b[0m fig_sunburst\u001b[38;5;241m.\u001b[39mshow()\n",
      "File \u001b[0;32m~/Documents/GUVI /PROJECTS/Mental Health Survey/mental_health_env/lib/python3.9/site-packages/plotly/express/_chart_types.py:1781\u001b[0m, in \u001b[0;36msunburst\u001b[0;34m(data_frame, names, values, parents, path, ids, color, color_continuous_scale, range_color, color_continuous_midpoint, color_discrete_sequence, color_discrete_map, hover_name, hover_data, custom_data, labels, title, subtitle, template, width, height, branchvalues, maxdepth)\u001b[0m\n\u001b[1;32m   1779\u001b[0m \u001b[38;5;28;01mif\u001b[39;00m path \u001b[38;5;129;01mis\u001b[39;00m \u001b[38;5;129;01mnot\u001b[39;00m \u001b[38;5;28;01mNone\u001b[39;00m \u001b[38;5;129;01mand\u001b[39;00m branchvalues \u001b[38;5;129;01mis\u001b[39;00m \u001b[38;5;28;01mNone\u001b[39;00m:\n\u001b[1;32m   1780\u001b[0m     branchvalues \u001b[38;5;241m=\u001b[39m \u001b[38;5;124m\"\u001b[39m\u001b[38;5;124mtotal\u001b[39m\u001b[38;5;124m\"\u001b[39m\n\u001b[0;32m-> 1781\u001b[0m \u001b[38;5;28;01mreturn\u001b[39;00m \u001b[43mmake_figure\u001b[49m\u001b[43m(\u001b[49m\n\u001b[1;32m   1782\u001b[0m \u001b[43m    \u001b[49m\u001b[43margs\u001b[49m\u001b[38;5;241;43m=\u001b[39;49m\u001b[38;5;28;43mlocals\u001b[39;49m\u001b[43m(\u001b[49m\u001b[43m)\u001b[49m\u001b[43m,\u001b[49m\n\u001b[1;32m   1783\u001b[0m \u001b[43m    \u001b[49m\u001b[43mconstructor\u001b[49m\u001b[38;5;241;43m=\u001b[39;49m\u001b[43mgo\u001b[49m\u001b[38;5;241;43m.\u001b[39;49m\u001b[43mSunburst\u001b[49m\u001b[43m,\u001b[49m\n\u001b[1;32m   1784\u001b[0m \u001b[43m    \u001b[49m\u001b[43mtrace_patch\u001b[49m\u001b[38;5;241;43m=\u001b[39;49m\u001b[38;5;28;43mdict\u001b[39;49m\u001b[43m(\u001b[49m\u001b[43mbranchvalues\u001b[49m\u001b[38;5;241;43m=\u001b[39;49m\u001b[43mbranchvalues\u001b[49m\u001b[43m,\u001b[49m\u001b[43m \u001b[49m\u001b[43mmaxdepth\u001b[49m\u001b[38;5;241;43m=\u001b[39;49m\u001b[43mmaxdepth\u001b[49m\u001b[43m)\u001b[49m\u001b[43m,\u001b[49m\n\u001b[1;32m   1785\u001b[0m \u001b[43m    \u001b[49m\u001b[43mlayout_patch\u001b[49m\u001b[38;5;241;43m=\u001b[39;49m\u001b[43mlayout_patch\u001b[49m\u001b[43m,\u001b[49m\n\u001b[1;32m   1786\u001b[0m \u001b[43m\u001b[49m\u001b[43m)\u001b[49m\n",
      "File \u001b[0;32m~/Documents/GUVI /PROJECTS/Mental Health Survey/mental_health_env/lib/python3.9/site-packages/plotly/express/_core.py:2493\u001b[0m, in \u001b[0;36mmake_figure\u001b[0;34m(args, constructor, trace_patch, layout_patch)\u001b[0m\n\u001b[1;32m   2491\u001b[0m args \u001b[38;5;241m=\u001b[39m build_dataframe(args, constructor)\n\u001b[1;32m   2492\u001b[0m \u001b[38;5;28;01mif\u001b[39;00m constructor \u001b[38;5;129;01min\u001b[39;00m [go\u001b[38;5;241m.\u001b[39mTreemap, go\u001b[38;5;241m.\u001b[39mSunburst, go\u001b[38;5;241m.\u001b[39mIcicle] \u001b[38;5;129;01mand\u001b[39;00m args[\u001b[38;5;124m\"\u001b[39m\u001b[38;5;124mpath\u001b[39m\u001b[38;5;124m\"\u001b[39m] \u001b[38;5;129;01mis\u001b[39;00m \u001b[38;5;129;01mnot\u001b[39;00m \u001b[38;5;28;01mNone\u001b[39;00m:\n\u001b[0;32m-> 2493\u001b[0m     args \u001b[38;5;241m=\u001b[39m \u001b[43mprocess_dataframe_hierarchy\u001b[49m\u001b[43m(\u001b[49m\u001b[43margs\u001b[49m\u001b[43m)\u001b[49m\n\u001b[1;32m   2494\u001b[0m \u001b[38;5;28;01mif\u001b[39;00m constructor \u001b[38;5;129;01min\u001b[39;00m [go\u001b[38;5;241m.\u001b[39mPie]:\n\u001b[1;32m   2495\u001b[0m     args, trace_patch \u001b[38;5;241m=\u001b[39m process_dataframe_pie(args, trace_patch)\n",
      "File \u001b[0;32m~/Documents/GUVI /PROJECTS/Mental Health Survey/mental_health_env/lib/python3.9/site-packages/plotly/express/_core.py:2051\u001b[0m, in \u001b[0;36mprocess_dataframe_hierarchy\u001b[0;34m(args)\u001b[0m\n\u001b[1;32m   2036\u001b[0m     \u001b[38;5;28;01mreturn\u001b[39;00m dframe\u001b[38;5;241m.\u001b[39mwith_columns(\n\u001b[1;32m   2037\u001b[0m         \u001b[38;5;241m*\u001b[39m[nw\u001b[38;5;241m.\u001b[39mcol(col) \u001b[38;5;241m/\u001b[39m nw\u001b[38;5;241m.\u001b[39mcol(count_colname) \u001b[38;5;28;01mfor\u001b[39;00m col \u001b[38;5;129;01min\u001b[39;00m continuous_aggs],\n\u001b[1;32m   2038\u001b[0m         \u001b[38;5;241m*\u001b[39m[\n\u001b[0;32m   (...)\u001b[0m\n\u001b[1;32m   2046\u001b[0m         ],\n\u001b[1;32m   2047\u001b[0m     )\u001b[38;5;241m.\u001b[39mdrop([\u001b[38;5;124mf\u001b[39m\u001b[38;5;124m\"\u001b[39m\u001b[38;5;132;01m{\u001b[39;00mcol\u001b[38;5;132;01m}\u001b[39;00m\u001b[38;5;132;01m{\u001b[39;00mn_unique_token\u001b[38;5;132;01m}\u001b[39;00m\u001b[38;5;124m\"\u001b[39m \u001b[38;5;28;01mfor\u001b[39;00m col \u001b[38;5;129;01min\u001b[39;00m discrete_aggs])\n\u001b[1;32m   2049\u001b[0m \u001b[38;5;28;01mfor\u001b[39;00m i, level \u001b[38;5;129;01min\u001b[39;00m \u001b[38;5;28menumerate\u001b[39m(path):\n\u001b[1;32m   2050\u001b[0m     dfg \u001b[38;5;241m=\u001b[39m (\n\u001b[0;32m-> 2051\u001b[0m         \u001b[43mdf\u001b[49m\u001b[38;5;241;43m.\u001b[39;49m\u001b[43mgroup_by\u001b[49m\u001b[43m(\u001b[49m\u001b[43mpath\u001b[49m\u001b[43m[\u001b[49m\u001b[43mi\u001b[49m\u001b[43m:\u001b[49m\u001b[43m]\u001b[49m\u001b[43m,\u001b[49m\u001b[43m \u001b[49m\u001b[43mdrop_null_keys\u001b[49m\u001b[38;5;241;43m=\u001b[39;49m\u001b[38;5;28;43;01mTrue\u001b[39;49;00m\u001b[43m)\u001b[49m\n\u001b[1;32m   2052\u001b[0m \u001b[43m        \u001b[49m\u001b[38;5;241;43m.\u001b[39;49m\u001b[43magg\u001b[49m\u001b[43m(\u001b[49m\u001b[38;5;241;43m*\u001b[39;49m\u001b[38;5;241;43m*\u001b[39;49m\u001b[43magg_f\u001b[49m\u001b[43m)\u001b[49m\n\u001b[1;32m   2053\u001b[0m \u001b[43m        \u001b[49m\u001b[38;5;241;43m.\u001b[39;49m\u001b[43mpipe\u001b[49m\u001b[43m(\u001b[49m\u001b[43mpost_agg\u001b[49m\u001b[43m,\u001b[49m\u001b[43m \u001b[49m\u001b[43mcontinuous_aggs\u001b[49m\u001b[43m,\u001b[49m\u001b[43m \u001b[49m\u001b[43mdiscrete_aggs\u001b[49m\u001b[43m)\u001b[49m\n\u001b[1;32m   2054\u001b[0m     )\n\u001b[1;32m   2056\u001b[0m     \u001b[38;5;66;03m# Path label massaging\u001b[39;00m\n\u001b[1;32m   2057\u001b[0m     df_tree \u001b[38;5;241m=\u001b[39m dfg\u001b[38;5;241m.\u001b[39mwith_columns(\n\u001b[1;32m   2058\u001b[0m         \u001b[38;5;241m*\u001b[39mcols,\n\u001b[1;32m   2059\u001b[0m         labels\u001b[38;5;241m=\u001b[39mnw\u001b[38;5;241m.\u001b[39mcol(level)\u001b[38;5;241m.\u001b[39mcast(nw\u001b[38;5;241m.\u001b[39mString()),\n\u001b[1;32m   2060\u001b[0m         parent\u001b[38;5;241m=\u001b[39mnw\u001b[38;5;241m.\u001b[39mlit(\u001b[38;5;124m\"\u001b[39m\u001b[38;5;124m\"\u001b[39m),\n\u001b[1;32m   2061\u001b[0m         \u001b[38;5;28mid\u001b[39m\u001b[38;5;241m=\u001b[39mnw\u001b[38;5;241m.\u001b[39mcol(level)\u001b[38;5;241m.\u001b[39mcast(nw\u001b[38;5;241m.\u001b[39mString()),\n\u001b[1;32m   2062\u001b[0m     )\n",
      "File \u001b[0;32m~/Documents/GUVI /PROJECTS/Mental Health Survey/mental_health_env/lib/python3.9/site-packages/narwhals/dataframe.py:2464\u001b[0m, in \u001b[0;36mLazyFrame.pipe\u001b[0;34m(self, function, *args, **kwargs)\u001b[0m\n\u001b[1;32m   2437\u001b[0m \u001b[38;5;28;01mdef\u001b[39;00m\u001b[38;5;250m \u001b[39m\u001b[38;5;21mpipe\u001b[39m(\n\u001b[1;32m   2438\u001b[0m     \u001b[38;5;28mself\u001b[39m,\n\u001b[1;32m   2439\u001b[0m     function: Callable[Concatenate[Self, PS], R],\n\u001b[1;32m   2440\u001b[0m     \u001b[38;5;241m*\u001b[39margs: PS\u001b[38;5;241m.\u001b[39margs,\n\u001b[1;32m   2441\u001b[0m     \u001b[38;5;241m*\u001b[39m\u001b[38;5;241m*\u001b[39mkwargs: PS\u001b[38;5;241m.\u001b[39mkwargs,\n\u001b[1;32m   2442\u001b[0m ) \u001b[38;5;241m-\u001b[39m\u001b[38;5;241m>\u001b[39m R:\n\u001b[1;32m   2443\u001b[0m \u001b[38;5;250m    \u001b[39m\u001b[38;5;124;03m\"\"\"Pipe function call.\u001b[39;00m\n\u001b[1;32m   2444\u001b[0m \n\u001b[1;32m   2445\u001b[0m \u001b[38;5;124;03m    Arguments:\u001b[39;00m\n\u001b[0;32m   (...)\u001b[0m\n\u001b[1;32m   2462\u001b[0m \u001b[38;5;124;03m        <BLANKLINE>\u001b[39;00m\n\u001b[1;32m   2463\u001b[0m \u001b[38;5;124;03m    \"\"\"\u001b[39;00m\n\u001b[0;32m-> 2464\u001b[0m     \u001b[38;5;28;01mreturn\u001b[39;00m \u001b[38;5;28;43msuper\u001b[39;49m\u001b[43m(\u001b[49m\u001b[43m)\u001b[49m\u001b[38;5;241;43m.\u001b[39;49m\u001b[43mpipe\u001b[49m\u001b[43m(\u001b[49m\u001b[43mfunction\u001b[49m\u001b[43m,\u001b[49m\u001b[43m \u001b[49m\u001b[38;5;241;43m*\u001b[39;49m\u001b[43margs\u001b[49m\u001b[43m,\u001b[49m\u001b[43m \u001b[49m\u001b[38;5;241;43m*\u001b[39;49m\u001b[38;5;241;43m*\u001b[39;49m\u001b[43mkwargs\u001b[49m\u001b[43m)\u001b[49m\n",
      "File \u001b[0;32m~/Documents/GUVI /PROJECTS/Mental Health Survey/mental_health_env/lib/python3.9/site-packages/narwhals/dataframe.py:188\u001b[0m, in \u001b[0;36mBaseFrame.pipe\u001b[0;34m(self, function, *args, **kwargs)\u001b[0m\n\u001b[1;32m    182\u001b[0m \u001b[38;5;28;01mdef\u001b[39;00m\u001b[38;5;250m \u001b[39m\u001b[38;5;21mpipe\u001b[39m(\n\u001b[1;32m    183\u001b[0m     \u001b[38;5;28mself\u001b[39m,\n\u001b[1;32m    184\u001b[0m     function: Callable[Concatenate[Self, PS], R],\n\u001b[1;32m    185\u001b[0m     \u001b[38;5;241m*\u001b[39margs: PS\u001b[38;5;241m.\u001b[39margs,\n\u001b[1;32m    186\u001b[0m     \u001b[38;5;241m*\u001b[39m\u001b[38;5;241m*\u001b[39mkwargs: PS\u001b[38;5;241m.\u001b[39mkwargs,\n\u001b[1;32m    187\u001b[0m ) \u001b[38;5;241m-\u001b[39m\u001b[38;5;241m>\u001b[39m R:\n\u001b[0;32m--> 188\u001b[0m     \u001b[38;5;28;01mreturn\u001b[39;00m \u001b[43mfunction\u001b[49m\u001b[43m(\u001b[49m\u001b[38;5;28;43mself\u001b[39;49m\u001b[43m,\u001b[49m\u001b[43m \u001b[49m\u001b[38;5;241;43m*\u001b[39;49m\u001b[43margs\u001b[49m\u001b[43m,\u001b[49m\u001b[43m \u001b[49m\u001b[38;5;241;43m*\u001b[39;49m\u001b[38;5;241;43m*\u001b[39;49m\u001b[43mkwargs\u001b[49m\u001b[43m)\u001b[49m\n",
      "File \u001b[0;32m~/Documents/GUVI /PROJECTS/Mental Health Survey/mental_health_env/lib/python3.9/site-packages/plotly/express/_core.py:2036\u001b[0m, in \u001b[0;36mprocess_dataframe_hierarchy.<locals>.post_agg\u001b[0;34m(dframe, continuous_aggs, discrete_aggs)\u001b[0m\n\u001b[1;32m   2031\u001b[0m \u001b[38;5;28;01mdef\u001b[39;00m\u001b[38;5;250m \u001b[39m\u001b[38;5;21mpost_agg\u001b[39m(dframe: nw\u001b[38;5;241m.\u001b[39mLazyFrame, continuous_aggs, discrete_aggs) \u001b[38;5;241m-\u001b[39m\u001b[38;5;241m>\u001b[39m nw\u001b[38;5;241m.\u001b[39mLazyFrame:\n\u001b[1;32m   2032\u001b[0m \u001b[38;5;250m    \u001b[39m\u001b[38;5;124;03m\"\"\"\u001b[39;00m\n\u001b[1;32m   2033\u001b[0m \u001b[38;5;124;03m    - continuous_aggs is either [] or [args[\"color\"]]\u001b[39;00m\n\u001b[1;32m   2034\u001b[0m \u001b[38;5;124;03m    - discrete_aggs is either [args[\"color\"], <rest_of_cols>] or [<rest_of cols>]\u001b[39;00m\n\u001b[1;32m   2035\u001b[0m \u001b[38;5;124;03m    \"\"\"\u001b[39;00m\n\u001b[0;32m-> 2036\u001b[0m     \u001b[38;5;28;01mreturn\u001b[39;00m \u001b[43mdframe\u001b[49m\u001b[38;5;241;43m.\u001b[39;49m\u001b[43mwith_columns\u001b[49m\u001b[43m(\u001b[49m\n\u001b[1;32m   2037\u001b[0m \u001b[43m        \u001b[49m\u001b[38;5;241;43m*\u001b[39;49m\u001b[43m[\u001b[49m\u001b[43mnw\u001b[49m\u001b[38;5;241;43m.\u001b[39;49m\u001b[43mcol\u001b[49m\u001b[43m(\u001b[49m\u001b[43mcol\u001b[49m\u001b[43m)\u001b[49m\u001b[43m \u001b[49m\u001b[38;5;241;43m/\u001b[39;49m\u001b[43m \u001b[49m\u001b[43mnw\u001b[49m\u001b[38;5;241;43m.\u001b[39;49m\u001b[43mcol\u001b[49m\u001b[43m(\u001b[49m\u001b[43mcount_colname\u001b[49m\u001b[43m)\u001b[49m\u001b[43m \u001b[49m\u001b[38;5;28;43;01mfor\u001b[39;49;00m\u001b[43m \u001b[49m\u001b[43mcol\u001b[49m\u001b[43m \u001b[49m\u001b[38;5;129;43;01min\u001b[39;49;00m\u001b[43m \u001b[49m\u001b[43mcontinuous_aggs\u001b[49m\u001b[43m]\u001b[49m\u001b[43m,\u001b[49m\n\u001b[1;32m   2038\u001b[0m \u001b[43m        \u001b[49m\u001b[38;5;241;43m*\u001b[39;49m\u001b[43m[\u001b[49m\n\u001b[1;32m   2039\u001b[0m \u001b[43m            \u001b[49m\u001b[43m(\u001b[49m\n\u001b[1;32m   2040\u001b[0m \u001b[43m                \u001b[49m\u001b[43mnw\u001b[49m\u001b[38;5;241;43m.\u001b[39;49m\u001b[43mwhen\u001b[49m\u001b[43m(\u001b[49m\u001b[43mnw\u001b[49m\u001b[38;5;241;43m.\u001b[39;49m\u001b[43mcol\u001b[49m\u001b[43m(\u001b[49m\u001b[38;5;124;43mf\u001b[39;49m\u001b[38;5;124;43m\"\u001b[39;49m\u001b[38;5;132;43;01m{\u001b[39;49;00m\u001b[43mcol\u001b[49m\u001b[38;5;132;43;01m}\u001b[39;49;00m\u001b[38;5;132;43;01m{\u001b[39;49;00m\u001b[43mn_unique_token\u001b[49m\u001b[38;5;132;43;01m}\u001b[39;49;00m\u001b[38;5;124;43m\"\u001b[39;49m\u001b[43m)\u001b[49m\u001b[43m \u001b[49m\u001b[38;5;241;43m==\u001b[39;49m\u001b[43m \u001b[49m\u001b[38;5;241;43m1\u001b[39;49m\u001b[43m)\u001b[49m\n\u001b[1;32m   2041\u001b[0m \u001b[43m                \u001b[49m\u001b[38;5;241;43m.\u001b[39;49m\u001b[43mthen\u001b[49m\u001b[43m(\u001b[49m\u001b[43mnw\u001b[49m\u001b[38;5;241;43m.\u001b[39;49m\u001b[43mcol\u001b[49m\u001b[43m(\u001b[49m\u001b[43mcol\u001b[49m\u001b[43m)\u001b[49m\u001b[43m)\u001b[49m\n\u001b[1;32m   2042\u001b[0m \u001b[43m                \u001b[49m\u001b[38;5;241;43m.\u001b[39;49m\u001b[43motherwise\u001b[49m\u001b[43m(\u001b[49m\u001b[43mnw\u001b[49m\u001b[38;5;241;43m.\u001b[39;49m\u001b[43mlit\u001b[49m\u001b[43m(\u001b[49m\u001b[38;5;124;43m\"\u001b[39;49m\u001b[38;5;124;43m(?)\u001b[39;49m\u001b[38;5;124;43m\"\u001b[39;49m\u001b[43m)\u001b[49m\u001b[43m)\u001b[49m\n\u001b[1;32m   2043\u001b[0m \u001b[43m                \u001b[49m\u001b[38;5;241;43m.\u001b[39;49m\u001b[43malias\u001b[49m\u001b[43m(\u001b[49m\u001b[43mcol\u001b[49m\u001b[43m)\u001b[49m\n\u001b[1;32m   2044\u001b[0m \u001b[43m            \u001b[49m\u001b[43m)\u001b[49m\n\u001b[1;32m   2045\u001b[0m \u001b[43m            \u001b[49m\u001b[38;5;28;43;01mfor\u001b[39;49;00m\u001b[43m \u001b[49m\u001b[43mcol\u001b[49m\u001b[43m \u001b[49m\u001b[38;5;129;43;01min\u001b[39;49;00m\u001b[43m \u001b[49m\u001b[43mdiscrete_aggs\u001b[49m\n\u001b[1;32m   2046\u001b[0m \u001b[43m        \u001b[49m\u001b[43m]\u001b[49m\u001b[43m,\u001b[49m\n\u001b[1;32m   2047\u001b[0m \u001b[43m    \u001b[49m\u001b[43m)\u001b[49m\u001b[38;5;241m.\u001b[39mdrop([\u001b[38;5;124mf\u001b[39m\u001b[38;5;124m\"\u001b[39m\u001b[38;5;132;01m{\u001b[39;00mcol\u001b[38;5;132;01m}\u001b[39;00m\u001b[38;5;132;01m{\u001b[39;00mn_unique_token\u001b[38;5;132;01m}\u001b[39;00m\u001b[38;5;124m\"\u001b[39m \u001b[38;5;28;01mfor\u001b[39;00m col \u001b[38;5;129;01min\u001b[39;00m discrete_aggs])\n",
      "File \u001b[0;32m~/Documents/GUVI /PROJECTS/Mental Health Survey/mental_health_env/lib/python3.9/site-packages/narwhals/dataframe.py:2623\u001b[0m, in \u001b[0;36mLazyFrame.with_columns\u001b[0;34m(self, *exprs, **named_exprs)\u001b[0m\n\u001b[1;32m   2621\u001b[0m     msg \u001b[38;5;241m=\u001b[39m \u001b[38;5;124m\"\u001b[39m\u001b[38;5;124mAt least one expression must be passed to LazyFrame.with_columns\u001b[39m\u001b[38;5;124m\"\u001b[39m\n\u001b[1;32m   2622\u001b[0m     \u001b[38;5;28;01mraise\u001b[39;00m \u001b[38;5;167;01mValueError\u001b[39;00m(msg)\n\u001b[0;32m-> 2623\u001b[0m \u001b[38;5;28;01mreturn\u001b[39;00m \u001b[38;5;28;43msuper\u001b[39;49m\u001b[43m(\u001b[49m\u001b[43m)\u001b[49m\u001b[38;5;241;43m.\u001b[39;49m\u001b[43mwith_columns\u001b[49m\u001b[43m(\u001b[49m\u001b[38;5;241;43m*\u001b[39;49m\u001b[43mexprs\u001b[49m\u001b[43m,\u001b[49m\u001b[43m \u001b[49m\u001b[38;5;241;43m*\u001b[39;49m\u001b[38;5;241;43m*\u001b[39;49m\u001b[43mnamed_exprs\u001b[49m\u001b[43m)\u001b[49m\n",
      "File \u001b[0;32m~/Documents/GUVI /PROJECTS/Mental Health Survey/mental_health_env/lib/python3.9/site-packages/narwhals/dataframe.py:206\u001b[0m, in \u001b[0;36mBaseFrame.with_columns\u001b[0;34m(self, *exprs, **named_exprs)\u001b[0m\n\u001b[1;32m    201\u001b[0m compliant_exprs, kinds \u001b[38;5;241m=\u001b[39m \u001b[38;5;28mself\u001b[39m\u001b[38;5;241m.\u001b[39m_flatten_and_extract(\u001b[38;5;241m*\u001b[39mexprs, \u001b[38;5;241m*\u001b[39m\u001b[38;5;241m*\u001b[39mnamed_exprs)\n\u001b[1;32m    202\u001b[0m compliant_exprs \u001b[38;5;241m=\u001b[39m [\n\u001b[1;32m    203\u001b[0m     compliant_expr\u001b[38;5;241m.\u001b[39mbroadcast(kind) \u001b[38;5;28;01mif\u001b[39;00m is_scalar_like(kind) \u001b[38;5;28;01melse\u001b[39;00m compliant_expr\n\u001b[1;32m    204\u001b[0m     \u001b[38;5;28;01mfor\u001b[39;00m compliant_expr, kind \u001b[38;5;129;01min\u001b[39;00m zip_strict(compliant_exprs, kinds)\n\u001b[1;32m    205\u001b[0m ]\n\u001b[0;32m--> 206\u001b[0m \u001b[38;5;28;01mreturn\u001b[39;00m \u001b[38;5;28mself\u001b[39m\u001b[38;5;241m.\u001b[39m_with_compliant(\u001b[38;5;28;43mself\u001b[39;49m\u001b[38;5;241;43m.\u001b[39;49m\u001b[43m_compliant_frame\u001b[49m\u001b[38;5;241;43m.\u001b[39;49m\u001b[43mwith_columns\u001b[49m\u001b[43m(\u001b[49m\u001b[38;5;241;43m*\u001b[39;49m\u001b[43mcompliant_exprs\u001b[49m\u001b[43m)\u001b[49m)\n",
      "File \u001b[0;32m~/Documents/GUVI /PROJECTS/Mental Health Survey/mental_health_env/lib/python3.9/site-packages/narwhals/_pandas_like/dataframe.py:451\u001b[0m, in \u001b[0;36mPandasLikeDataFrame.with_columns\u001b[0;34m(self, *exprs)\u001b[0m\n\u001b[1;32m    450\u001b[0m \u001b[38;5;28;01mdef\u001b[39;00m\u001b[38;5;250m \u001b[39m\u001b[38;5;21mwith_columns\u001b[39m(\u001b[38;5;28mself\u001b[39m, \u001b[38;5;241m*\u001b[39mexprs: PandasLikeExpr) \u001b[38;5;241m-\u001b[39m\u001b[38;5;241m>\u001b[39m Self:\n\u001b[0;32m--> 451\u001b[0m     columns \u001b[38;5;241m=\u001b[39m \u001b[38;5;28;43mself\u001b[39;49m\u001b[38;5;241;43m.\u001b[39;49m\u001b[43m_evaluate_into_exprs\u001b[49m\u001b[43m(\u001b[49m\u001b[38;5;241;43m*\u001b[39;49m\u001b[43mexprs\u001b[49m\u001b[43m)\u001b[49m\n\u001b[1;32m    452\u001b[0m     \u001b[38;5;28;01mif\u001b[39;00m \u001b[38;5;129;01mnot\u001b[39;00m columns \u001b[38;5;129;01mand\u001b[39;00m \u001b[38;5;28mlen\u001b[39m(\u001b[38;5;28mself\u001b[39m) \u001b[38;5;241m==\u001b[39m \u001b[38;5;241m0\u001b[39m:\n\u001b[1;32m    453\u001b[0m         \u001b[38;5;28;01mreturn\u001b[39;00m \u001b[38;5;28mself\u001b[39m\n",
      "File \u001b[0;32m~/Documents/GUVI /PROJECTS/Mental Health Survey/mental_health_env/lib/python3.9/site-packages/narwhals/_compliant/dataframe.py:346\u001b[0m, in \u001b[0;36mEagerDataFrame._evaluate_into_exprs\u001b[0;34m(self, *exprs)\u001b[0m\n\u001b[1;32m    342\u001b[0m \u001b[38;5;28;01mdef\u001b[39;00m\u001b[38;5;250m \u001b[39m\u001b[38;5;21m_evaluate_into_exprs\u001b[39m(\u001b[38;5;28mself\u001b[39m, \u001b[38;5;241m*\u001b[39mexprs: EagerExprT) \u001b[38;5;241m-\u001b[39m\u001b[38;5;241m>\u001b[39m Sequence[EagerSeriesT]:\n\u001b[1;32m    343\u001b[0m     \u001b[38;5;66;03m# NOTE: Ignore intermittent [False Negative]\u001b[39;00m\n\u001b[1;32m    344\u001b[0m     \u001b[38;5;66;03m# Argument of type \"EagerExprT@EagerDataFrame\" cannot be assigned to parameter \"expr\" of type \"EagerExprT@EagerDataFrame\" in function \"_evaluate_into_expr\"\u001b[39;00m\n\u001b[1;32m    345\u001b[0m     \u001b[38;5;66;03m#  Type \"EagerExprT@EagerDataFrame\" is not assignable to type \"EagerExprT@EagerDataFrame\"\u001b[39;00m\n\u001b[0;32m--> 346\u001b[0m     \u001b[38;5;28;01mreturn\u001b[39;00m \u001b[38;5;28;43mlist\u001b[39;49m\u001b[43m(\u001b[49m\u001b[43mchain\u001b[49m\u001b[38;5;241;43m.\u001b[39;49m\u001b[43mfrom_iterable\u001b[49m\u001b[43m(\u001b[49m\u001b[38;5;28;43mself\u001b[39;49m\u001b[38;5;241;43m.\u001b[39;49m\u001b[43m_evaluate_into_expr\u001b[49m\u001b[43m(\u001b[49m\u001b[43mexpr\u001b[49m\u001b[43m)\u001b[49m\u001b[43m \u001b[49m\u001b[38;5;28;43;01mfor\u001b[39;49;00m\u001b[43m \u001b[49m\u001b[43mexpr\u001b[49m\u001b[43m \u001b[49m\u001b[38;5;129;43;01min\u001b[39;49;00m\u001b[43m \u001b[49m\u001b[43mexprs\u001b[49m\u001b[43m)\u001b[49m\u001b[43m)\u001b[49m\n",
      "File \u001b[0;32m~/Documents/GUVI /PROJECTS/Mental Health Survey/mental_health_env/lib/python3.9/site-packages/narwhals/_compliant/dataframe.py:346\u001b[0m, in \u001b[0;36m<genexpr>\u001b[0;34m(.0)\u001b[0m\n\u001b[1;32m    342\u001b[0m \u001b[38;5;28;01mdef\u001b[39;00m\u001b[38;5;250m \u001b[39m\u001b[38;5;21m_evaluate_into_exprs\u001b[39m(\u001b[38;5;28mself\u001b[39m, \u001b[38;5;241m*\u001b[39mexprs: EagerExprT) \u001b[38;5;241m-\u001b[39m\u001b[38;5;241m>\u001b[39m Sequence[EagerSeriesT]:\n\u001b[1;32m    343\u001b[0m     \u001b[38;5;66;03m# NOTE: Ignore intermittent [False Negative]\u001b[39;00m\n\u001b[1;32m    344\u001b[0m     \u001b[38;5;66;03m# Argument of type \"EagerExprT@EagerDataFrame\" cannot be assigned to parameter \"expr\" of type \"EagerExprT@EagerDataFrame\" in function \"_evaluate_into_expr\"\u001b[39;00m\n\u001b[1;32m    345\u001b[0m     \u001b[38;5;66;03m#  Type \"EagerExprT@EagerDataFrame\" is not assignable to type \"EagerExprT@EagerDataFrame\"\u001b[39;00m\n\u001b[0;32m--> 346\u001b[0m     \u001b[38;5;28;01mreturn\u001b[39;00m \u001b[38;5;28mlist\u001b[39m(chain\u001b[38;5;241m.\u001b[39mfrom_iterable(\u001b[38;5;28;43mself\u001b[39;49m\u001b[38;5;241;43m.\u001b[39;49m\u001b[43m_evaluate_into_expr\u001b[49m\u001b[43m(\u001b[49m\u001b[43mexpr\u001b[49m\u001b[43m)\u001b[49m \u001b[38;5;28;01mfor\u001b[39;00m expr \u001b[38;5;129;01min\u001b[39;00m exprs))\n",
      "File \u001b[0;32m~/Documents/GUVI /PROJECTS/Mental Health Survey/mental_health_env/lib/python3.9/site-packages/narwhals/_compliant/dataframe.py:358\u001b[0m, in \u001b[0;36mEagerDataFrame._evaluate_into_expr\u001b[0;34m(self, expr)\u001b[0m\n\u001b[1;32m    348\u001b[0m \u001b[38;5;28;01mdef\u001b[39;00m\u001b[38;5;250m \u001b[39m\u001b[38;5;21m_evaluate_into_expr\u001b[39m(\u001b[38;5;28mself\u001b[39m, expr: EagerExprT, \u001b[38;5;241m/\u001b[39m) \u001b[38;5;241m-\u001b[39m\u001b[38;5;241m>\u001b[39m Sequence[EagerSeriesT]:\n\u001b[1;32m    349\u001b[0m \u001b[38;5;250m    \u001b[39m\u001b[38;5;124;03m\"\"\"Return list of raw columns.\u001b[39;00m\n\u001b[1;32m    350\u001b[0m \n\u001b[1;32m    351\u001b[0m \u001b[38;5;124;03m    For eager backends we alias operations at each step.\u001b[39;00m\n\u001b[0;32m   (...)\u001b[0m\n\u001b[1;32m    356\u001b[0m \u001b[38;5;124;03m    Note that for PySpark / DuckDB, we are less free to liberally set aliases whenever we want.\u001b[39;00m\n\u001b[1;32m    357\u001b[0m \u001b[38;5;124;03m    \"\"\"\u001b[39;00m\n\u001b[0;32m--> 358\u001b[0m     aliases \u001b[38;5;241m=\u001b[39m \u001b[43mexpr\u001b[49m\u001b[38;5;241;43m.\u001b[39;49m\u001b[43m_evaluate_aliases\u001b[49m\u001b[43m(\u001b[49m\u001b[38;5;28;43mself\u001b[39;49m\u001b[43m)\u001b[49m\n\u001b[1;32m    359\u001b[0m     result \u001b[38;5;241m=\u001b[39m expr(\u001b[38;5;28mself\u001b[39m)\n\u001b[1;32m    360\u001b[0m     \u001b[38;5;28;01mif\u001b[39;00m \u001b[38;5;28mlist\u001b[39m(aliases) \u001b[38;5;241m!=\u001b[39m (\n\u001b[1;32m    361\u001b[0m         result_aliases \u001b[38;5;241m:=\u001b[39m [s\u001b[38;5;241m.\u001b[39mname \u001b[38;5;28;01mfor\u001b[39;00m s \u001b[38;5;129;01min\u001b[39;00m result]\n\u001b[1;32m    362\u001b[0m     ):  \u001b[38;5;66;03m# pragma: no cover\u001b[39;00m\n",
      "File \u001b[0;32m~/Documents/GUVI /PROJECTS/Mental Health Survey/mental_health_env/lib/python3.9/site-packages/narwhals/_compliant/expr.py:165\u001b[0m, in \u001b[0;36mImplExpr._evaluate_aliases\u001b[0;34m(self, frame)\u001b[0m\n\u001b[1;32m    161\u001b[0m \u001b[38;5;28;01mdef\u001b[39;00m\u001b[38;5;250m \u001b[39m\u001b[38;5;21m_evaluate_aliases\u001b[39m(\u001b[38;5;28mself\u001b[39m, frame: CompliantFrameT, \u001b[38;5;241m/\u001b[39m) \u001b[38;5;241m-\u001b[39m\u001b[38;5;241m>\u001b[39m Sequence[\u001b[38;5;28mstr\u001b[39m]:\n\u001b[1;32m    162\u001b[0m     \u001b[38;5;66;03m# NOTE: Ignore intermittent [False Negative]\u001b[39;00m\n\u001b[1;32m    163\u001b[0m     \u001b[38;5;66;03m# Argument of type \"CompliantFrameT@ImplExpr\" cannot be assigned to parameter of type \"CompliantFrameT@ImplExpr\"\u001b[39;00m\n\u001b[1;32m    164\u001b[0m     \u001b[38;5;66;03m#  Type \"CompliantFrameT@ImplExpr\" is not assignable to type \"CompliantFrameT@ImplExpr\"\u001b[39;00m\n\u001b[0;32m--> 165\u001b[0m     names \u001b[38;5;241m=\u001b[39m \u001b[38;5;28;43mself\u001b[39;49m\u001b[38;5;241;43m.\u001b[39;49m\u001b[43m_evaluate_output_names\u001b[49m(frame)  \u001b[38;5;66;03m# pyright: ignore[reportArgumentType]\u001b[39;00m\n\u001b[1;32m    166\u001b[0m     \u001b[38;5;28;01mreturn\u001b[39;00m alias(names) \u001b[38;5;28;01mif\u001b[39;00m (alias \u001b[38;5;241m:=\u001b[39m \u001b[38;5;28mself\u001b[39m\u001b[38;5;241m.\u001b[39m_alias_output_names) \u001b[38;5;28;01melse\u001b[39;00m names\n",
      "\u001b[0;31mAttributeError\u001b[0m: 'PandasThen' object has no attribute '_evaluate_output_names'"
     ]
    }
   ],
   "source": [
    "print('Subtask 3.2.1: DEMOGRAPHIC INSIGHTS WITH INTERACTIVE PLOTLY CHARTS')\n",
    "print('='*70)\n",
    "\n",
    "# 1. Interactive Sunburst Chart for Hierarchical Demographic Breakdown\n",
    "train_df = pd.DataFrame(train_df)\n",
    "\n",
    "# Group and reset index\n",
    "demo_hierarchy = (\n",
    "    train_df.groupby(['Gender_Clean', 'Age_Group', 'Depression_Label'])\n",
    "    .size()\n",
    "    .reset_index(name='Count')\n",
    ")\n",
    "\n",
    "# Build sunburst\n",
    "fig_sunburst = px.sunburst(\n",
    "    demo_hierarchy,\n",
    "    path=['Gender_Clean', 'Age_Group', 'Depression_Label'],\n",
    "    values='Count',\n",
    "    title='Interactive Demographic Breakdown: Gender → Age Group → Depression Status',\n",
    "    color='Count',\n",
    "    color_continuous_scale='Viridis'\n",
    ")\n",
    "\n",
    "fig_sunburst.update_layout(\n",
    "    title={'x': 0.5, 'font': {'size': 16}},\n",
    "    font_size=12,\n",
    "    height=600\n",
    ")\n",
    "\n",
    "fig_sunburst.show()\n",
    "print(\"\\n Interactive Sunburst Chart: Hierarchical demographic analysis with drill-down capability\")\n",
    "# 2. Geographic Analysis - Top Cities Depression Rates\n",
    "city_stats = train_df.groupby('City').agg({\n",
    "    'Depression': ['count', 'sum', 'mean']\n",
    "}).round(3)\n",
    "\n",
    "city_stats.columns = ['Total_Population', 'Depression_Cases', 'Depression_Rate']\n",
    "city_stats = city_stats.reset_index()\n",
    "city_stats['Depression_Rate'] = city_stats['Depression_Rate'] * 100\n",
    "\n",
    "# Filter cities with significant population (top 20)\n",
    "top_cities = city_stats.nlargest(20, 'Total_Population')\n",
    "\n",
    "fig_cities = px.scatter(top_cities, \n",
    "                       x='Total_Population', \n",
    "                       y='Depression_Rate',\n",
    "                       size='Depression_Cases',\n",
    "                       color='Depression_Rate',\n",
    "                       hover_name='City',\n",
    "                       title='City-wise Depression Analysis: Population vs Depression Rate',\n",
    "                       labels={'Total_Population': 'Total Population in Dataset',\n",
    "                              'Depression_Rate': 'Depression Rate (%)'},\n",
    "                       color_continuous_scale='RdYlBu_r',\n",
    "                       size_max=30)\n",
    "\n",
    "fig_cities.update_layout(\n",
    "    title={'x': 0.5, 'font': {'size': 16}},\n",
    "    height=500,\n",
    "    coloraxis_colorbar=dict(title=\"Depression Rate (%)\")\n",
    ")\n",
    "\n",
    "fig_cities.show()\n",
    "print(\"\\n Geographic Scatter Plot: City-wise depression analysis\")"
   ]
  },
  {
   "cell_type": "markdown",
   "id": "a4abdc97",
   "metadata": {},
   "source": [
    "## Subtask 3.2.2: Lifestyle Impact Analysis using Advanced Visualizations\n"
   ]
  },
  {
   "cell_type": "code",
   "execution_count": 66,
   "id": "32872f7d",
   "metadata": {},
   "outputs": [
    {
     "name": "stdout",
     "output_type": "stream",
     "text": [
      "Subtask 3.2.2: LIFESTYLE IMPACT ANALYSIS USING ADVANCED VISUALIZATIONS\n",
      "======================================================================\n"
     ]
    },
    {
     "data": {
      "application/vnd.plotly.v1+json": {
       "config": {
        "plotlyServerURL": "https://plot.ly"
       },
       "data": [
        {
         "hovertemplate": "Depression_Label=No Depression<br>Sleep Duration=More than 8 hours<br>Age (years)=%{x}<br>Work/Study Hours per day=%{y}<br>Financial Stress Level=%{z}<extra></extra>",
         "legendgroup": "No Depression, More than 8 hours",
         "marker": {
          "color": "#2E86AB",
          "opacity": 0.7,
          "symbol": "circle"
         },
         "mode": "markers",
         "name": "No Depression, More than 8 hours",
         "scene": "scene",
         "showlegend": true,
         "type": "scatter3d",
         "x": {
          "bdata": "LBMtLjQyNzotMxcrMRcvODMvORspLy8WKis4Fy8sJjQtOywnNTg7IS4zJywoJSYtJSQeNisqNxgxGiEzJBc7JDgZLh8xLTsyHBcsHhQrITgZMSobMRMpLRs8Jh08MDk1Myw1Hi8uGCgiPCoULRkrMhw2JiYvNTM1GyolJx02NDEtMTYgKDIyPCkyKzIpIBo6MzE3LS0tOiw0ORwmKCkfPDgSNxIuMiQxIysdFjwlHCQ3Ii43LjE6HR0mOCIvIzs7NTw5Ji0pMyQ0KhwmOC4ZMDsZKzIyMS8pLyc5GjwyLTEzMjY8IDETKhUUOjklOSo3NSonITMrMxstJzgYMDkvJTMgOxIYOTUyJzcuLCkoJzYdLykuPDs2ODksMCMpMSIYIjwwMDY0GzcqMzkqHisrJzggJik7Miw4NyUlOzk7OzszKy8eJSY7JzImLSMyKhwxJjE3Jy4xICcfJyohOTs1OBcWOjk7Ox0kLxUvJCoWOx4hOjgwGyc5Mh8nMTAyOTYcExk7Gy8pJjwzLyU1OCwzIDokKS4sICUjGDAtGjotNjopJx8xMB0bODM1OxwrJDwuOywfLg==",
          "dtype": "i1"
         },
         "y": {
          "bdata": "AAoABQAHAAwCAAUGBgMHAQUECwgMBQEGDAUECwAAAwkEAgoBAQIMBwEFBAEEBAYJAwkGAgkGBAwIAAMDBgAJCwcLBgMDAgYACgoKAwcDBwYDAwMLBgYEAwYGCAAABQEMBAcLAwwFBgoEAAkACggLBwIMCQIDAgkBCgEMAQIDAQoIBQcGCgcLBQALCQwKCgoJAAkKAQsJAwsHBgkGBgwJBgkLCwsHAwoDCQAJAAkMDAsJAQAABQQEAgoBCAkDCAEKBAALCAUBAQgLAAcABQEFAwABAAAMDAkDAgIDBAIGAwcDCgYLBAUKDAIBBgsIAAAJAwkCAQoBAgAFBwEAAAoLCQoDBwUKCQMHAQoBAQkDAAICCgcDCgYGBwEHDAICBAgJBAELAAQACAAFCwAABgYBCAMBCgkCDAwDDAkHAgsFBgoJCQgGBQcBCQAAAAYGAwwLCQcIAAAJAAAKBAoHBwQDBAkACwMAAgAAAwEBBgQCCAsHCwEAAgQBBwgKAgkBCwUCAAMBBAMLBQEGCQsLCggCCQgEAgYLAgIBAQcBCggGAAMACQQJAQgICQQKBAYGAwYAAQkDCQ==",
          "dtype": "i1"
         },
         "z": {
          "bdata": "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",
          "dtype": "f8"
         }
        },
        {
         "hovertemplate": "Depression_Label=No Depression<br>Sleep Duration=5-6 hours<br>Age (years)=%{x}<br>Work/Study Hours per day=%{y}<br>Financial Stress Level=%{z}<extra></extra>",
         "legendgroup": "No Depression, 5-6 hours",
         "marker": {
          "color": "#2E86AB",
          "opacity": 0.7,
          "symbol": "diamond"
         },
         "mode": "markers",
         "name": "No Depression, 5-6 hours",
         "scene": "scene",
         "showlegend": true,
         "type": "scatter3d",
         "x": {
          "bdata": "HDwlHB0sIykuPDomNy04KyYUITA7LiEvJxk5JDovLzcoNy02KC4kLiM0LhsxOTYoHTgmIjIzKzslNDY1KRgTNSg5KRkdJi06ISYsISglLygwJicwGzwzNxsUIhUvLiwnKzgqNzQjNDo5OSszLjYvMC8mJiImKzIoMyEwOR40LiY5NCc4LCc5Nzg6MyomFyE0FC8mFSUvJi8tJjcsLC4YLDowMS81FxIpNCUdIzssOSA0MzQoNjkTKRwmNyojLjEwOSE1Jyg7LSM2LR86GSUlMTg7KjMqKzIxNTMbORYyIyYiLSQoOhwrHTMeKTEvLy4tFCUfNScrGxgXNSQjICgmMjQnORUYJyofJTIuLiA0MCw1OCgvJikvNDEmLzI2LS0lODg2KDQsJTQ1OTYhNTknNCovNDY6KDwcJzEvNjwwMiMyOyw1IigmJTMpJjY1MiU6Njg5Kyg2FSk2EiwXMio2Nx8eOzYvOy4kISEqLCwpJzYvNTMrMxoyKzouEiMsMzYnJSEqLCE6FA==",
          "dtype": "i1"
         },
         "y": {
          "bdata": "CQgJAgoHCgQJCQUKCAYMCQEJAQwLBAMJBAgKCwMKDAwMCwkKCgMKAwIICQYMAQgICwkGBAQIBgcDCAQLCwMHAwAEBwMCCwoKCwoDAwIFBgcCCQAKCQoDBQwKDAoGDAsJCQYACAcKBgkABwYEAgADAQMKAAoGAAEGCwoJCwwBDAkBCwUEBgoGCAoDAgMCBgYJAgsIAAkKBgkFCgEKAwsHAQABAAkCAgcADAUGDAIFBQADBAMIAQwCCAMJBgUFBwYACQsHDAIHAwALAAwJBAALBgILCgwDCwACAwoKBQMLCwAHCgYGBAIEBAABBAoCCgMBCQsMBgsMAAAIBAcDCAQABQsFAwsJBgoECwALCwUKAwwBAgsJCQIBAwQIAAoJAAMKAAEFBgkLBQIKAAYMAQMKBwcLCQsCAAgHCgAFAAEECwAAAQEFAQAGCQELAwYDBgoBAAwDBAIBCQQLCAkMAQQKDAQLAAsDCgcAAgoCBAkMCwoGBAwIDAgCBAYJCAALAQcDAwkDCgUIAA==",
          "dtype": "i1"
         },
         "z": {
          "bdata": "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",
          "dtype": "f8"
         }
        },
        {
         "hovertemplate": "Depression_Label=No Depression<br>Sleep Duration=7-8 hours<br>Age (years)=%{x}<br>Work/Study Hours per day=%{y}<br>Financial Stress Level=%{z}<extra></extra>",
         "legendgroup": "No Depression, 7-8 hours",
         "marker": {
          "color": "#2E86AB",
          "opacity": 0.7,
          "symbol": "square"
         },
         "mode": "markers",
         "name": "No Depression, 7-8 hours",
         "scene": "scene",
         "showlegend": true,
         "type": "scatter3d",
         "x": {
          "bdata": "PCszIzQ2Ny81NzEZNB07Jx02MDIqHjEzMSwyJjUsNDI6Li8xLiwbLzUtOC8tLzMxGRcmMTQ4LiMlGTQfHTQWMyUsOyQuMC0nNCgtMyUtKCkdLiQ4MyguNTk6LSU6KSoxJzgpNTUmKS8ZIC8wMDk6OS0mNyklKjIzNCE7KjYjEzEWHCQnJjQqMSsWISUvMy8qKS4aOjo6Jy4lKDM7EyI6LyEtIyodOh87Ky0VJjI0LC0VMjs8KygfLTQrGBcoKSkpFTweLikoMDU4OyUoNTwpJSQ2MRc7LBI5Hi8pOystFyI4IiUgOR4nHjEzJjUpIiorJik7LTsdMzk5JCA4Oyo4EhwbMSoiLxYoNzUzOy4rKSY2JDIrKCYvIzUrOC8tHCcuOB44IiszIzI4Mzk2JjseLSYcFiouMCg2GzstLjMyNjQ7JSspKDAqMzYoNTEvGiYsMzguNjk1LhQqJjU8KTMbISgdLxUmMS4vMjU8NhUqOCciMjElJTQ1JS0oFxUWEjcnJTkjMi4oLSc5Gi4rLSozJx4vLTwmFSsTNDknMTEtOjo6KRchNCwtJi8TJTkjExY1NDsnNTUZMCg8OzYnKg==",
          "dtype": "i1"
         },
         "y": {
          "bdata": "AgoMBwoGCQUBCgcECgIHCwAMCgMABgYMAgkBAQIKAwoJCQcMCQEEAgYKAgsHCQsECgcJCQUFCQAIAgUAAwkLCgEMAQAJAwkCAAQEAQoECgEHAAwMAgkJAwsFBgoICwcHCgkKBAQKAgUKAwkBCgEBCQgFBwQAAAgKAQAEDAcDBwkACQsLAQEJBgkCAggDDAkMCwkGCwsEAgALCwwCAAQLCAAJCQABBQkBCwoKAQICAAUJBwUKDAcMCQQMCAYCCgkGBQsCBgsDAAsDBQEAAwQBAgUMAwEDCAcDCgQJAAkJBwIDCwkGCgELAgEJCgACAgcICQACCAMJAgwFCQMGCQUJCwALBAIACgkAAgoLCQADBgECAwkMCQcECQEMBwQHDAQHAAIAAgoGCwQICwUKBwYCBAcAAQcJCQoGAQwABAsGCQUJBQcLCwgKCQQJAAAEBAkCCwoDCwkJCwAMCwkFDAYFBAoAAwsGBQwMCwALBwIBCggKDAILAwoDCAIKCQAGBgMABQgHCAIDAAAHCQsLCgYGAgQDAAQBAgkLBAICBgMICgQJAQwHCgEFCgkAAAcICQQJBQQHCQUKAggAAQMBCw==",
          "dtype": "i1"
         },
         "z": {
          "bdata": "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",
          "dtype": "f8"
         }
        },
        {
         "hovertemplate": "Depression_Label=No Depression<br>Sleep Duration=Less than 5 hours<br>Age (years)=%{x}<br>Work/Study Hours per day=%{y}<br>Financial Stress Level=%{z}<extra></extra>",
         "legendgroup": "No Depression, Less than 5 hours",
         "marker": {
          "color": "#2E86AB",
          "opacity": 0.7,
          "symbol": "x"
         },
         "mode": "markers",
         "name": "No Depression, Less than 5 hours",
         "scene": "scene",
         "showlegend": true,
         "type": "scatter3d",
         "x": {
          "bdata": "IDMdHBInMyU5IjA0NyYsMioxLS0nNBMTOCgVFTEgGDEvLTUmMDwVLSYrJSkxHikzNBsqODoyMTA2OTgcLR8xNhkoLiY7OzM2Mjk4KzA4ISY1JjkyLjMqJjswFCgpNBwqLRgvJDUsKy4pJzsrNjskODAqJicrNR4sNBUbPDE5LjwUKzswLxwqHiIsNjAiFTEuLSssLi4sJRI7MTkmJCEoIiA8OCUvMiomHCsvOhcmEjMUOzAsIS01OTInKBYrMDo8GzE6OiM0JCg7KiMjODsyLC4qKhUyJxkvJSEcHCscJBQwLjYqMCc3Oi00KDo2GTMjGysuLhkwLyU5OCc8NDs4JjI6GysxLzw7JSsvFCsqEzEpLzseJjQ0My8yLTQ4GjMwLCsuIRI2LRI6OSYVISMqIR8iOjkzMScvFRwaMSMwKzkuOi8sHCgnOyYyMSIUGi8wMiohJB8vNTA0Kx4mLS4XJTM0KTErLTouPDY7JCc6LjIiEyEwITgiGC82Og==",
          "dtype": "i1"
         },
         "y": {
          "bdata": "BgoAAwsICQMDAAIFAgMCAwUKAQgBDAIFCggLCQcICQkJBgwIDAkCBAkAAAYBBgsJAQYLAQYCAwAJBwsABwgMCQgLCwsBCAcABQABCgUDAwQKCgcDAQICCQoABQAFAQcCAAkCAwQJAAoJCgwHAQgJAAAFBgkHAwgDAQMKCQkJAAAGCwcDAAIKCQEICQoCDAoIBQgIBwwHCgwHBAwJCQAMCAIBAQoGAgkJBwIBAwMFBgwBBgYGAAgBBAMBCgIJBAcECQkJAQYCBAABAwwMAwMMBQAHCwkEBwQIBwYGBgkFAQMJBgIKBgMGDAAGAgQKBgsIAgwAAAsADAcLAAQKAQkCCgoBCgADBAEBCwcCAAAICAQACwwJCwcJAgYDAAMEBQwFAwwBAAkECQQCAgoJCAQHAAMMAQkBAgMDAQcABgIBBQgFDAAABgAHAgcBBAsJAwwHBAYLAAgEBgcACggJAgEMAQUJAwUGAgwBAwUECwMKCAYDCwsMCAYGBwAEBA==",
          "dtype": "i1"
         },
         "z": {
          "bdata": "AAAAAAAACEAAAAAAAADwPwAAAAAAAAhAAAAAAAAAEEAAAAAAAAAAQAAAAAAAAABAAAAAAAAA8D8AAAAAAAAAQAAAAAAAAAhAAAAAAAAAEEAAAAAAAAAQQAAAAAAAABRAAAAAAAAACEAAAAAAAAAQQAAAAAAAAPA/AAAAAAAAFEAAAAAAAADwPwAAAAAAAABAAAAAAAAAEEAAAAAAAAAUQAAAAAAAAPA/AAAAAAAAEEAAAAAAAAAQQAAAAAAAAAhAAAAAAAAAFEAAAAAAAADwPwAAAAAAAABAAAAAAAAA8D8AAAAAAADwPwAAAAAAAPA/AAAAAAAA8D8AAAAAAAAIQAAAAAAAAABAAAAAAAAAEEAAAAAAAAAUQAAAAAAAAABAAAAAAAAA8D8AAAAAAAAAQAAAAAAAABRAAAAAAAAA8D8AAAAAAADwPwAAAAAAAABAAAAAAAAA8D8AAAAAAAAIQAAAAAAAAABAAAAAAAAAEEAAAAAAAADwPwAAAAAAAPA/AAAAAAAAEEAAAAAAAADwPwAAAAAAAABAAAAAAAAAFEAAAAAAAAAUQAAAAAAAABRAAAAAAAAAEEAAAAAAAAAIQAAAAAAAAABAAAAAAAAA8D8AAAAAAAAAQAAAAAAAAABAAAAAAAAA8D8AAAAAAAAQQAAAAAAAABBAAAAAAAAAEEAAAAAAAAAAQAAAAAAAABRAAAAAAAAAAEAAAAAAAAAQQAAAAAAAAAhAAAAAAAAAAEAAAAAAAAAUQAAAAAAAABRAAAAAAAAAFEAAAAAAAAAIQAAAAAAAABRAAAAAAAAAFEAAAAAAAAAUQAAAAAAAAABAAAAAAAAAFEAAAAAAAAAAQAAAAAAAAPA/AAAAAAAACEAAAAAAAAAAQAAAAAAAAPA/AAAAAAAAFEAAAAAAAAAUQAAAAAAAAPA/AAAAAAAACEAAAAAAAAAIQAAAAAAAAPA/AAAAAAAAAEAAAAAAAADwPwAAAAAAABBAAAAAAAAAFEAAAAAAAAAAQAAAAAAAABBAAAAAAAAA8D8AAAAAAAAAQAAAAAAAAABAAAAAAAAAFEAAAAAAAAAQQAAAAAAAAABAAAAAAAAAEEAAAAAAAAAAQAAAAAAAABBAAAAAAAAAAEAAAAAAAAAUQAAAAAAAAABAAAAAAAAACEAAAAAAAAAIQAAAAAAAAAhAAAAAAAAA8D8AAAAAAADwPwAAAAAAAABAAAAAAAAA8D8AAAAAAAAUQAAAAAAAAABAAAAAAAAA8D8AAAAAAAAIQAAAAAAAABRAAAAAAAAAFEAAAAAAAAAQQAAAAAAAAABAAAAAAAAA8D8AAAAAAADwPwAAAAAAAPA/AAAAAAAACEAAAAAAAADwPwAAAAAAAABAAAAAAAAAFEAAAAAAAAAAQAAAAAAAAABAAAAAAAAAEEAAAAAAAAAQQAAAAAAAABBAAAAAAAAAEEAAAAAAAAAQQAAAAAAAAABAAAAAAAAACEAAAAAAAAAQQAAAAAAAAPA/AAAAAAAA8D8AAAAAAADwPwAAAAAAABRAAAAAAAAAEEAAAAAAAAAAQAAAAAAAAPA/AAAAAAAAEEAAAAAAAAAIQAAAAAAAAPA/AAAAAAAAAEAAAAAAAADwPwAAAAAAAABAAAAAAAAACEAAAAAAAAAIQAAAAAAAABRAAAAAAAAACEAAAAAAAAAIQAAAAAAAAABAAAAAAAAA8D8AAAAAAAAIQAAAAAAAAABAAAAAAAAA8D8AAAAAAADwPwAAAAAAAAhAAAAAAAAAAEAAAAAAAAAIQAAAAAAAAAhAAAAAAAAA8D8AAAAAAAAQQAAAAAAAAPA/AAAAAAAAEEAAAAAAAAAIQAAAAAAAAPA/AAAAAAAAFEAAAAAAAAAUQAAAAAAAABBAAAAAAAAA8D8AAAAAAAAUQAAAAAAAAPA/AAAAAAAACEAAAAAAAAAUQAAAAAAAAAhAAAAAAAAACEAAAAAAAAAAQAAAAAAAAAhAAAAAAAAAFEAAAAAAAAAQQAAAAAAAAPA/AAAAAAAA8D8AAAAAAAAIQAAAAAAAAABAAAAAAAAA8D8AAAAAAAAUQAAAAAAAAABAAAAAAAAAAEAAAAAAAAAIQAAAAAAAABBAAAAAAAAACEAAAAAAAAAUQAAAAAAAAABAAAAAAAAAAEAAAAAAAAAIQAAAAAAAABBAAAAAAAAAEEAAAAAAAAAAQAAAAAAAAPA/AAAAAAAAFEAAAAAAAAAQQAAAAAAAAABAAAAAAAAA8D8AAAAAAADwPwAAAAAAABRAAAAAAAAA8D8AAAAAAADwPwAAAAAAAABAAAAAAAAACEAAAAAAAAAAQAAAAAAAABRAAAAAAAAA8D8AAAAAAAAIQAAAAAAAAPA/AAAAAAAAEEAAAAAAAAAUQAAAAAAAAPA/AAAAAAAAFEAAAAAAAAAUQAAAAAAAAABAAAAAAAAAEEAAAAAAAAAAQAAAAAAAABRAAAAAAAAA8D8AAAAAAAAAQAAAAAAAAAhAAAAAAAAAFEAAAAAAAAAQQAAAAAAAABRAAAAAAAAAFEAAAAAAAAAUQAAAAAAAAABAAAAAAAAAAEAAAAAAAAAAQAAAAAAAABRAAAAAAAAAEEAAAAAAAAAAQAAAAAAAAPA/AAAAAAAAAEAAAAAAAAAIQAAAAAAAABRAAAAAAAAAEEAAAAAAAAAAQAAAAAAAAPA/AAAAAAAA8D8AAAAAAAAUQAAAAAAAAPA/AAAAAAAAAEAAAAAAAAAIQAAAAAAAAABAAAAAAAAACEAAAAAAAAAUQAAAAAAAABBAAAAAAAAAAEAAAAAAAAAUQAAAAAAAAABAAAAAAAAACEAAAAAAAAAUQAAAAAAAABRAAAAAAAAAAEAAAAAAAAAAQAAAAAAAABBAAAAAAAAA8D8AAAAAAAAIQAAAAAAAAAhAAAAAAAAAFEAAAAAAAAAUQAAAAAAAABBAAAAAAAAA8D8AAAAAAADwPwAAAAAAAPA/AAAAAAAAFEAAAAAAAADwPwAAAAAAAAhAAAAAAAAAEEAAAAAAAAAIQAAAAAAAAPA/AAAAAAAAEEAAAAAAAAAAQAAAAAAAABBAAAAAAAAA8D8AAAAAAAAUQAAAAAAAABBAAAAAAAAA8D8AAAAAAAAAQAAAAAAAABBAAAAAAAAACEAAAAAAAAAUQAAAAAAAAABAAAAAAAAAAEAAAAAAAAAIQAAAAAAAAABAAAAAAAAA8D8AAAAAAAAUQAAAAAAAAABAAAAAAAAA8D8AAAAAAAAAQAAAAAAAABRAAAAAAAAAAEAAAAAAAADwPwAAAAAAAAhAAAAAAAAAFEAAAAAAAAAQQAAAAAAAAPA/AAAAAAAAAEAAAAAAAAAIQAAAAAAAAPA/AAAAAAAA8D8AAAAAAADwPwAAAAAAAPA/AAAAAAAA8D8AAAAAAAAUQAAAAAAAAABAAAAAAAAAAEAAAAAAAAAAQAAAAAAAABRAAAAAAAAAEEAAAAAAAAAQQAAAAAAAAABAAAAAAAAAFEAAAAAAAAAAQAAAAAAAAABAAAAAAAAAEEAAAAAAAADwPwAAAAAAAABAAAAAAAAAAEAAAAAAAAAUQAAAAAAAABRAAAAAAAAACEAAAAAAAAAIQAAAAAAAAABAAAAAAAAAAEAAAAAAAAAIQAAAAAAAAAhAAAAAAAAA8D8AAAAAAADwPwAAAAAAABRAAAAAAAAACEAAAAAAAADwPwAAAAAAAABAAAAAAAAAFEAAAAAAAAAAQAAAAAAAAABAAAAAAAAACEAAAAAAAAAAQAAAAAAAABBAAAAAAAAAAEAAAAAAAAAIQAAAAAAAABRAAAAAAAAAAEAAAAAAAAAAQAAAAAAAAABAAAAAAAAAEEAAAAAAAAAIQAAAAAAAAPA/AAAAAAAAFEAAAAAAAAAAQAAAAAAAABBAAAAAAAAAFEAAAAAAAAAUQAAAAAAAAABAAAAAAAAAAEAAAAAAAADwPwAAAAAAAPA/AAAAAAAAEEAAAAAAAADwPwAAAAAAAABAAAAAAAAAAEAAAAAAAAAAQAAAAAAAABBAAAAAAAAAAEA=",
          "dtype": "f8"
         }
        },
        {
         "hovertemplate": "Depression_Label=Depression<br>Sleep Duration=More than 8 hours<br>Age (years)=%{x}<br>Work/Study Hours per day=%{y}<br>Financial Stress Level=%{z}<extra></extra>",
         "legendgroup": "Depression, More than 8 hours",
         "marker": {
          "color": "#A23B72",
          "opacity": 0.7,
          "symbol": "circle"
         },
         "mode": "markers",
         "name": "Depression, More than 8 hours",
         "scene": "scene",
         "showlegend": true,
         "type": "scatter3d",
         "x": {
          "bdata": "GBQvGRsWHBgSGRkWHBwbHC8VEyAXIRISFRkTFxgUFBIgHSETHBkhFxIVHxkYHRgUEhQcMBU=",
          "dtype": "i1"
         },
         "y": {
          "bdata": "CwoJBgsDCgIMBgAHCwoHBgsKBwoJBwIACQoHCwoKCgsICwsCCgAICwIKBgEGCgsKBgIMCgY=",
          "dtype": "i1"
         },
         "z": {
          "bdata": "AAAAAAAAFEAAAAAAAAAAQAAAAAAAABBAAAAAAAAAEEAAAAAAAAAUQAAAAAAAAAhAAAAAAAAAFEAAAAAAAAAIQAAAAAAAABRAAAAAAAAAEEAAAAAAAAAQQAAAAAAAAPA/AAAAAAAACEAAAAAAAAAIQAAAAAAAABBAAAAAAAAAFEAAAAAAAAAUQAAAAAAAABRAAAAAAAAACEAAAAAAAADwPwAAAAAAAAhAAAAAAAAAFEAAAAAAAAAUQAAAAAAAABRAAAAAAAAAAEAAAAAAAAAAQAAAAAAAABRAAAAAAAAACEAAAAAAAAAUQAAAAAAAAPA/AAAAAAAAFEAAAAAAAAAUQAAAAAAAABRAAAAAAAAAAEAAAAAAAAAUQAAAAAAAABRAAAAAAAAAFEAAAAAAAAAUQAAAAAAAAABAAAAAAAAAFEAAAAAAAADwPwAAAAAAABBAAAAAAAAA8D8AAAAAAAAIQAAAAAAAABBAAAAAAAAA8D8AAAAAAAAIQAAAAAAAAPA/AAAAAAAAAEAAAAAAAAAUQAAAAAAAABRAAAAAAAAAFEAAAAAAAAAIQA==",
          "dtype": "f8"
         }
        },
        {
         "hovertemplate": "Depression_Label=Depression<br>Sleep Duration=5-6 hours<br>Age (years)=%{x}<br>Work/Study Hours per day=%{y}<br>Financial Stress Level=%{z}<extra></extra>",
         "legendgroup": "Depression, 5-6 hours",
         "marker": {
          "color": "#A23B72",
          "opacity": 0.7,
          "symbol": "diamond"
         },
         "mode": "markers",
         "name": "Depression, 5-6 hours",
         "scene": "scene",
         "showlegend": true,
         "type": "scatter3d",
         "x": {
          "bdata": "EhkSFRUcGBcVFBwqHRIUGh4UGB4iEiIdGBQfHR0dExUfEh0aHCgVHBYWITISIRQSEyEVGBUfGCAdIBgYIRs=",
          "dtype": "i1"
         },
         "y": {
          "bdata": "DAoCBgwMCAoCCwsDCQwGDAoCBwYKCwoJBgMLCgQKBwcBBwkIBQgICQIGBQILBwwCAwQLAgwMBgsKCQoGDAg=",
          "dtype": "i1"
         },
         "z": {
          "bdata": "AAAAAAAAFEAAAAAAAAAUQAAAAAAAABRAAAAAAAAAAEAAAAAAAAAUQAAAAAAAABBAAAAAAAAAEEAAAAAAAAAQQAAAAAAAABBAAAAAAAAACEAAAAAAAAAAQAAAAAAAAPA/AAAAAAAAAEAAAAAAAAAQQAAAAAAAABBAAAAAAAAAAEAAAAAAAAAIQAAAAAAAAABAAAAAAAAA8D8AAAAAAAAQQAAAAAAAAPA/AAAAAAAAFEAAAAAAAAAIQAAAAAAAABRAAAAAAAAACEAAAAAAAAAQQAAAAAAAABRAAAAAAAAACEAAAAAAAAAQQAAAAAAAABRAAAAAAAAAAEAAAAAAAAAUQAAAAAAAABRAAAAAAAAA8D8AAAAAAAAAQAAAAAAAABRAAAAAAAAAEEAAAAAAAAAUQAAAAAAAABRAAAAAAAAA8D8AAAAAAAAQQAAAAAAAABRAAAAAAAAAFEAAAAAAAAAUQAAAAAAAABRAAAAAAAAAEEAAAAAAAAAQQAAAAAAAABRAAAAAAAAACEAAAAAAAAAQQAAAAAAAAABAAAAAAAAAAEAAAAAAAAAUQAAAAAAAABBAAAAAAAAAAEAAAAAAAAAIQAAAAAAAAABAAAAAAAAAFEAAAAAAAAAIQAAAAAAAAPA/AAAAAAAAFEAAAAAAAADwPw==",
          "dtype": "f8"
         }
        },
        {
         "hovertemplate": "Depression_Label=Depression<br>Sleep Duration=7-8 hours<br>Age (years)=%{x}<br>Work/Study Hours per day=%{y}<br>Financial Stress Level=%{z}<extra></extra>",
         "legendgroup": "Depression, 7-8 hours",
         "marker": {
          "color": "#A23B72",
          "opacity": 0.7,
          "symbol": "square"
         },
         "mode": "markers",
         "name": "Depression, 7-8 hours",
         "scene": "scene",
         "showlegend": true,
         "type": "scatter3d",
         "x": {
          "bdata": "IhcVGBkVEhUhHxgbJSkWFBYgGB0WEicTFhMeFBIUHRwhGy8WEyIgFxgSFh8SHBgdFSAhEhUTFBgYHhcXEhkcFCAYIBIcHBQpHxcXGSEhKhgbHBMoEh4YFQ==",
          "dtype": "i1"
         },
         "y": {
          "bdata": "BQUHAgkLBQUGCwIFCwMBBgoLBQcHCgwKCgoBBQYJBgcLBQUDDAkLCggHDAQKBAoMDAoGBQgFCQEHBQoIAgwIAgoICgcKDAsBCwwICgsLDAsMBQYLBQcEDA==",
          "dtype": "i1"
         },
         "z": {
          "bdata": "AAAAAAAAFEAAAAAAAAAIQAAAAAAAABRAAAAAAAAAEEAAAAAAAADwPwAAAAAAABRAAAAAAAAAFEAAAAAAAAAAQAAAAAAAAABAAAAAAAAAEEAAAAAAAAAQQAAAAAAAAAhAAAAAAAAAFEAAAAAAAAAIQAAAAAAAABRAAAAAAAAAAEAAAAAAAAAQQAAAAAAAABBAAAAAAAAA8D8AAAAAAAAIQAAAAAAAABBAAAAAAAAAEEAAAAAAAAAIQAAAAAAAABRAAAAAAAAACEAAAAAAAADwPwAAAAAAAAhAAAAAAAAAFEAAAAAAAAAUQAAAAAAAABBAAAAAAAAAFEAAAAAAAAAUQAAAAAAAABRAAAAAAAAAFEAAAAAAAAAUQAAAAAAAAAhAAAAAAAAAFEAAAAAAAAAUQAAAAAAAABRAAAAAAAAAEEAAAAAAAAAQQAAAAAAAABRAAAAAAAAAAEAAAAAAAAAQQAAAAAAAABBAAAAAAAAAEEAAAAAAAAAQQAAAAAAAAPA/AAAAAAAA8D8AAAAAAAAUQAAAAAAAAABAAAAAAAAAFEAAAAAAAAAQQAAAAAAAABBAAAAAAAAACEAAAAAAAAAAQAAAAAAAAPA/AAAAAAAA8D8AAAAAAAAQQAAAAAAAAAhAAAAAAAAAEEAAAAAAAAAIQAAAAAAAABRAAAAAAAAAEEAAAAAAAAAAQAAAAAAAAABAAAAAAAAA8D8AAAAAAAAQQAAAAAAAABBAAAAAAAAAFEAAAAAAAADwPwAAAAAAABRAAAAAAAAAFEAAAAAAAAAUQAAAAAAAABRAAAAAAAAA8D8AAAAAAADwPwAAAAAAAPA/AAAAAAAAFEAAAAAAAAAUQAAAAAAAABRAAAAAAAAAFEAAAAAAAAAUQAAAAAAAABRAAAAAAAAA8D8AAAAAAAAQQAAAAAAAABBAAAAAAAAAFEA=",
          "dtype": "f8"
         }
        },
        {
         "hovertemplate": "Depression_Label=Depression<br>Sleep Duration=Less than 5 hours<br>Age (years)=%{x}<br>Work/Study Hours per day=%{y}<br>Financial Stress Level=%{z}<extra></extra>",
         "legendgroup": "Depression, Less than 5 hours",
         "marker": {
          "color": "#A23B72",
          "opacity": 0.7,
          "symbol": "x"
         },
         "mode": "markers",
         "name": "Depression, Less than 5 hours",
         "scene": "scene",
         "showlegend": true,
         "type": "scatter3d",
         "x": {
          "bdata": "HhMbGx8fFRgdGRIgExcaEiEaGygYHxcWHBcUIBMUHxkWEyUaGhsUFxwYIhggIigeGyAXExQcGhgXFCAeIRQeGhgSFBoVKBIZFiIZGxUXIhYYFiEcHRYSHRYaGhMTHRgdGhYdIRITFRoZJRUaFCoSGBISHRIYGRMTEhsZEhsgEiEUFB0TFBgVFRUSEhcaFRsoKRw=",
          "dtype": "i1"
         },
         "y": {
          "bdata": "CgoCCQoGCwYKAwoKAQoGCgsMBQoIDAoKBQMFCwcKCgIDBwEECwcEBAcIAgcMBgkFBwsJBwQACwoJBgYHAAoDBgoHAAkICAgMBggLBgMECAoJCwwMCAoLCgUICgsECwsGCQgGCAYCCQQJCgEDDAwMCgULCgsKCQcHBgYJBwsECgoFAgAMDAoJBwYJDAkCCwcLCwI=",
          "dtype": "i1"
         },
         "z": {
          "bdata": "AAAAAAAAEEAAAAAAAAAUQAAAAAAAAAhAAAAAAAAAFEAAAAAAAAAQQAAAAAAAAAhAAAAAAAAAFEAAAAAAAAAAQAAAAAAAAABAAAAAAAAAFEAAAAAAAAAUQAAAAAAAABBAAAAAAAAACEAAAAAAAAAUQAAAAAAAABRAAAAAAAAAEEAAAAAAAAAIQAAAAAAAABBAAAAAAAAAFEAAAAAAAAAIQAAAAAAAABBAAAAAAAAAFEAAAAAAAAAQQAAAAAAAABBAAAAAAAAAFEAAAAAAAAAAQAAAAAAAABBAAAAAAAAACEAAAAAAAAAAQAAAAAAAAAhAAAAAAAAA8D8AAAAAAAAIQAAAAAAAAABAAAAAAAAAEEAAAAAAAAAUQAAAAAAAAABAAAAAAAAAFEAAAAAAAAAUQAAAAAAAAABAAAAAAAAAFEAAAAAAAAAIQAAAAAAAABRAAAAAAAAAAEAAAAAAAAAQQAAAAAAAAPA/AAAAAAAAEEAAAAAAAAAIQAAAAAAAABBAAAAAAAAAFEAAAAAAAAAIQAAAAAAAABRAAAAAAAAA8D8AAAAAAAAQQAAAAAAAAABAAAAAAAAAFEAAAAAAAAAAQAAAAAAAAPA/AAAAAAAAEEAAAAAAAAAQQAAAAAAAAAhAAAAAAAAAFEAAAAAAAAAIQAAAAAAAABRAAAAAAAAAEEAAAAAAAAAUQAAAAAAAAPA/AAAAAAAAAEAAAAAAAAAQQAAAAAAAABRAAAAAAAAAAEAAAAAAAAAIQAAAAAAAAABAAAAAAAAAEEAAAAAAAAAIQAAAAAAAABBAAAAAAAAAAEAAAAAAAAAQQAAAAAAAABRAAAAAAAAAFEAAAAAAAAAIQAAAAAAAABBAAAAAAAAACEAAAAAAAAAAQAAAAAAAAPA/AAAAAAAAFEAAAAAAAAAUQAAAAAAAABRAAAAAAAAAFEAAAAAAAAAIQAAAAAAAAAhAAAAAAAAAEEAAAAAAAAAQQAAAAAAAABRAAAAAAAAACEAAAAAAAADwPwAAAAAAAPA/AAAAAAAAEEAAAAAAAAAAQAAAAAAAAPA/AAAAAAAAFEAAAAAAAAAAQAAAAAAAAAhAAAAAAAAAEEAAAAAAAAAUQAAAAAAAAPA/AAAAAAAAFEAAAAAAAAAQQAAAAAAAABRAAAAAAAAAEEAAAAAAAAAIQAAAAAAAABBAAAAAAAAAFEAAAAAAAAAUQAAAAAAAAPA/AAAAAAAAFEAAAAAAAAAUQAAAAAAAABBAAAAAAAAAFEAAAAAAAAAUQAAAAAAAAABAAAAAAAAAFEAAAAAAAAAUQAAAAAAAABRAAAAAAAAAFEAAAAAAAAAQQAAAAAAAABRAAAAAAAAA8D8AAAAAAADwPwAAAAAAABRAAAAAAAAACEAAAAAAAAAAQAAAAAAAABBAAAAAAAAAAEAAAAAAAAAQQAAAAAAAAAhAAAAAAAAACEAAAAAAAAAUQAAAAAAAABBAAAAAAAAAFEAAAAAAAAAQQAAAAAAAABRAAAAAAAAAFEAAAAAAAAAUQAAAAAAAABRAAAAAAAAAEEAAAAAAAAAUQA==",
          "dtype": "f8"
         }
        }
       ],
       "layout": {
        "height": 600,
        "legend": {
         "title": {
          "text": "Depression_Label, Sleep Duration"
         },
         "tracegroupgap": 0
        },
        "scene": {
         "domain": {
          "x": [
           0,
           1
          ],
          "y": [
           0,
           1
          ]
         },
         "xaxis": {
          "title": {
           "text": "Age (years)"
          }
         },
         "yaxis": {
          "title": {
           "text": "Work/Study Hours"
          }
         },
         "zaxis": {
          "title": {
           "text": "Financial Stress"
          }
         }
        },
        "template": {
         "data": {
          "bar": [
           {
            "error_x": {
             "color": "#2a3f5f"
            },
            "error_y": {
             "color": "#2a3f5f"
            },
            "marker": {
             "line": {
              "color": "white",
              "width": 0.5
             },
             "pattern": {
              "fillmode": "overlay",
              "size": 10,
              "solidity": 0.2
             }
            },
            "type": "bar"
           }
          ],
          "barpolar": [
           {
            "marker": {
             "line": {
              "color": "white",
              "width": 0.5
             },
             "pattern": {
              "fillmode": "overlay",
              "size": 10,
              "solidity": 0.2
             }
            },
            "type": "barpolar"
           }
          ],
          "carpet": [
           {
            "aaxis": {
             "endlinecolor": "#2a3f5f",
             "gridcolor": "#C8D4E3",
             "linecolor": "#C8D4E3",
             "minorgridcolor": "#C8D4E3",
             "startlinecolor": "#2a3f5f"
            },
            "baxis": {
             "endlinecolor": "#2a3f5f",
             "gridcolor": "#C8D4E3",
             "linecolor": "#C8D4E3",
             "minorgridcolor": "#C8D4E3",
             "startlinecolor": "#2a3f5f"
            },
            "type": "carpet"
           }
          ],
          "choropleth": [
           {
            "colorbar": {
             "outlinewidth": 0,
             "ticks": ""
            },
            "type": "choropleth"
           }
          ],
          "contour": [
           {
            "colorbar": {
             "outlinewidth": 0,
             "ticks": ""
            },
            "colorscale": [
             [
              0,
              "#0d0887"
             ],
             [
              0.1111111111111111,
              "#46039f"
             ],
             [
              0.2222222222222222,
              "#7201a8"
             ],
             [
              0.3333333333333333,
              "#9c179e"
             ],
             [
              0.4444444444444444,
              "#bd3786"
             ],
             [
              0.5555555555555556,
              "#d8576b"
             ],
             [
              0.6666666666666666,
              "#ed7953"
             ],
             [
              0.7777777777777778,
              "#fb9f3a"
             ],
             [
              0.8888888888888888,
              "#fdca26"
             ],
             [
              1,
              "#f0f921"
             ]
            ],
            "type": "contour"
           }
          ],
          "contourcarpet": [
           {
            "colorbar": {
             "outlinewidth": 0,
             "ticks": ""
            },
            "type": "contourcarpet"
           }
          ],
          "heatmap": [
           {
            "colorbar": {
             "outlinewidth": 0,
             "ticks": ""
            },
            "colorscale": [
             [
              0,
              "#0d0887"
             ],
             [
              0.1111111111111111,
              "#46039f"
             ],
             [
              0.2222222222222222,
              "#7201a8"
             ],
             [
              0.3333333333333333,
              "#9c179e"
             ],
             [
              0.4444444444444444,
              "#bd3786"
             ],
             [
              0.5555555555555556,
              "#d8576b"
             ],
             [
              0.6666666666666666,
              "#ed7953"
             ],
             [
              0.7777777777777778,
              "#fb9f3a"
             ],
             [
              0.8888888888888888,
              "#fdca26"
             ],
             [
              1,
              "#f0f921"
             ]
            ],
            "type": "heatmap"
           }
          ],
          "histogram": [
           {
            "marker": {
             "pattern": {
              "fillmode": "overlay",
              "size": 10,
              "solidity": 0.2
             }
            },
            "type": "histogram"
           }
          ],
          "histogram2d": [
           {
            "colorbar": {
             "outlinewidth": 0,
             "ticks": ""
            },
            "colorscale": [
             [
              0,
              "#0d0887"
             ],
             [
              0.1111111111111111,
              "#46039f"
             ],
             [
              0.2222222222222222,
              "#7201a8"
             ],
             [
              0.3333333333333333,
              "#9c179e"
             ],
             [
              0.4444444444444444,
              "#bd3786"
             ],
             [
              0.5555555555555556,
              "#d8576b"
             ],
             [
              0.6666666666666666,
              "#ed7953"
             ],
             [
              0.7777777777777778,
              "#fb9f3a"
             ],
             [
              0.8888888888888888,
              "#fdca26"
             ],
             [
              1,
              "#f0f921"
             ]
            ],
            "type": "histogram2d"
           }
          ],
          "histogram2dcontour": [
           {
            "colorbar": {
             "outlinewidth": 0,
             "ticks": ""
            },
            "colorscale": [
             [
              0,
              "#0d0887"
             ],
             [
              0.1111111111111111,
              "#46039f"
             ],
             [
              0.2222222222222222,
              "#7201a8"
             ],
             [
              0.3333333333333333,
              "#9c179e"
             ],
             [
              0.4444444444444444,
              "#bd3786"
             ],
             [
              0.5555555555555556,
              "#d8576b"
             ],
             [
              0.6666666666666666,
              "#ed7953"
             ],
             [
              0.7777777777777778,
              "#fb9f3a"
             ],
             [
              0.8888888888888888,
              "#fdca26"
             ],
             [
              1,
              "#f0f921"
             ]
            ],
            "type": "histogram2dcontour"
           }
          ],
          "mesh3d": [
           {
            "colorbar": {
             "outlinewidth": 0,
             "ticks": ""
            },
            "type": "mesh3d"
           }
          ],
          "parcoords": [
           {
            "line": {
             "colorbar": {
              "outlinewidth": 0,
              "ticks": ""
             }
            },
            "type": "parcoords"
           }
          ],
          "pie": [
           {
            "automargin": true,
            "type": "pie"
           }
          ],
          "scatter": [
           {
            "fillpattern": {
             "fillmode": "overlay",
             "size": 10,
             "solidity": 0.2
            },
            "type": "scatter"
           }
          ],
          "scatter3d": [
           {
            "line": {
             "colorbar": {
              "outlinewidth": 0,
              "ticks": ""
             }
            },
            "marker": {
             "colorbar": {
              "outlinewidth": 0,
              "ticks": ""
             }
            },
            "type": "scatter3d"
           }
          ],
          "scattercarpet": [
           {
            "marker": {
             "colorbar": {
              "outlinewidth": 0,
              "ticks": ""
             }
            },
            "type": "scattercarpet"
           }
          ],
          "scattergeo": [
           {
            "marker": {
             "colorbar": {
              "outlinewidth": 0,
              "ticks": ""
             }
            },
            "type": "scattergeo"
           }
          ],
          "scattergl": [
           {
            "marker": {
             "colorbar": {
              "outlinewidth": 0,
              "ticks": ""
             }
            },
            "type": "scattergl"
           }
          ],
          "scattermap": [
           {
            "marker": {
             "colorbar": {
              "outlinewidth": 0,
              "ticks": ""
             }
            },
            "type": "scattermap"
           }
          ],
          "scattermapbox": [
           {
            "marker": {
             "colorbar": {
              "outlinewidth": 0,
              "ticks": ""
             }
            },
            "type": "scattermapbox"
           }
          ],
          "scatterpolar": [
           {
            "marker": {
             "colorbar": {
              "outlinewidth": 0,
              "ticks": ""
             }
            },
            "type": "scatterpolar"
           }
          ],
          "scatterpolargl": [
           {
            "marker": {
             "colorbar": {
              "outlinewidth": 0,
              "ticks": ""
             }
            },
            "type": "scatterpolargl"
           }
          ],
          "scatterternary": [
           {
            "marker": {
             "colorbar": {
              "outlinewidth": 0,
              "ticks": ""
             }
            },
            "type": "scatterternary"
           }
          ],
          "surface": [
           {
            "colorbar": {
             "outlinewidth": 0,
             "ticks": ""
            },
            "colorscale": [
             [
              0,
              "#0d0887"
             ],
             [
              0.1111111111111111,
              "#46039f"
             ],
             [
              0.2222222222222222,
              "#7201a8"
             ],
             [
              0.3333333333333333,
              "#9c179e"
             ],
             [
              0.4444444444444444,
              "#bd3786"
             ],
             [
              0.5555555555555556,
              "#d8576b"
             ],
             [
              0.6666666666666666,
              "#ed7953"
             ],
             [
              0.7777777777777778,
              "#fb9f3a"
             ],
             [
              0.8888888888888888,
              "#fdca26"
             ],
             [
              1,
              "#f0f921"
             ]
            ],
            "type": "surface"
           }
          ],
          "table": [
           {
            "cells": {
             "fill": {
              "color": "#EBF0F8"
             },
             "line": {
              "color": "white"
             }
            },
            "header": {
             "fill": {
              "color": "#C8D4E3"
             },
             "line": {
              "color": "white"
             }
            },
            "type": "table"
           }
          ]
         },
         "layout": {
          "annotationdefaults": {
           "arrowcolor": "#2a3f5f",
           "arrowhead": 0,
           "arrowwidth": 1
          },
          "autotypenumbers": "strict",
          "coloraxis": {
           "colorbar": {
            "outlinewidth": 0,
            "ticks": ""
           }
          },
          "colorscale": {
           "diverging": [
            [
             0,
             "#8e0152"
            ],
            [
             0.1,
             "#c51b7d"
            ],
            [
             0.2,
             "#de77ae"
            ],
            [
             0.3,
             "#f1b6da"
            ],
            [
             0.4,
             "#fde0ef"
            ],
            [
             0.5,
             "#f7f7f7"
            ],
            [
             0.6,
             "#e6f5d0"
            ],
            [
             0.7,
             "#b8e186"
            ],
            [
             0.8,
             "#7fbc41"
            ],
            [
             0.9,
             "#4d9221"
            ],
            [
             1,
             "#276419"
            ]
           ],
           "sequential": [
            [
             0,
             "#0d0887"
            ],
            [
             0.1111111111111111,
             "#46039f"
            ],
            [
             0.2222222222222222,
             "#7201a8"
            ],
            [
             0.3333333333333333,
             "#9c179e"
            ],
            [
             0.4444444444444444,
             "#bd3786"
            ],
            [
             0.5555555555555556,
             "#d8576b"
            ],
            [
             0.6666666666666666,
             "#ed7953"
            ],
            [
             0.7777777777777778,
             "#fb9f3a"
            ],
            [
             0.8888888888888888,
             "#fdca26"
            ],
            [
             1,
             "#f0f921"
            ]
           ],
           "sequentialminus": [
            [
             0,
             "#0d0887"
            ],
            [
             0.1111111111111111,
             "#46039f"
            ],
            [
             0.2222222222222222,
             "#7201a8"
            ],
            [
             0.3333333333333333,
             "#9c179e"
            ],
            [
             0.4444444444444444,
             "#bd3786"
            ],
            [
             0.5555555555555556,
             "#d8576b"
            ],
            [
             0.6666666666666666,
             "#ed7953"
            ],
            [
             0.7777777777777778,
             "#fb9f3a"
            ],
            [
             0.8888888888888888,
             "#fdca26"
            ],
            [
             1,
             "#f0f921"
            ]
           ]
          },
          "colorway": [
           "#636efa",
           "#EF553B",
           "#00cc96",
           "#ab63fa",
           "#FFA15A",
           "#19d3f3",
           "#FF6692",
           "#B6E880",
           "#FF97FF",
           "#FECB52"
          ],
          "font": {
           "color": "#2a3f5f"
          },
          "geo": {
           "bgcolor": "white",
           "lakecolor": "white",
           "landcolor": "white",
           "showlakes": true,
           "showland": true,
           "subunitcolor": "#C8D4E3"
          },
          "hoverlabel": {
           "align": "left"
          },
          "hovermode": "closest",
          "mapbox": {
           "style": "light"
          },
          "paper_bgcolor": "white",
          "plot_bgcolor": "white",
          "polar": {
           "angularaxis": {
            "gridcolor": "#EBF0F8",
            "linecolor": "#EBF0F8",
            "ticks": ""
           },
           "bgcolor": "white",
           "radialaxis": {
            "gridcolor": "#EBF0F8",
            "linecolor": "#EBF0F8",
            "ticks": ""
           }
          },
          "scene": {
           "xaxis": {
            "backgroundcolor": "white",
            "gridcolor": "#DFE8F3",
            "gridwidth": 2,
            "linecolor": "#EBF0F8",
            "showbackground": true,
            "ticks": "",
            "zerolinecolor": "#EBF0F8"
           },
           "yaxis": {
            "backgroundcolor": "white",
            "gridcolor": "#DFE8F3",
            "gridwidth": 2,
            "linecolor": "#EBF0F8",
            "showbackground": true,
            "ticks": "",
            "zerolinecolor": "#EBF0F8"
           },
           "zaxis": {
            "backgroundcolor": "white",
            "gridcolor": "#DFE8F3",
            "gridwidth": 2,
            "linecolor": "#EBF0F8",
            "showbackground": true,
            "ticks": "",
            "zerolinecolor": "#EBF0F8"
           }
          },
          "shapedefaults": {
           "line": {
            "color": "#2a3f5f"
           }
          },
          "ternary": {
           "aaxis": {
            "gridcolor": "#DFE8F3",
            "linecolor": "#A2B1C6",
            "ticks": ""
           },
           "baxis": {
            "gridcolor": "#DFE8F3",
            "linecolor": "#A2B1C6",
            "ticks": ""
           },
           "bgcolor": "white",
           "caxis": {
            "gridcolor": "#DFE8F3",
            "linecolor": "#A2B1C6",
            "ticks": ""
           }
          },
          "title": {
           "x": 0.05
          },
          "xaxis": {
           "automargin": true,
           "gridcolor": "#EBF0F8",
           "linecolor": "#EBF0F8",
           "ticks": "",
           "title": {
            "standoff": 15
           },
           "zerolinecolor": "#EBF0F8",
           "zerolinewidth": 2
          },
          "yaxis": {
           "automargin": true,
           "gridcolor": "#EBF0F8",
           "linecolor": "#EBF0F8",
           "ticks": "",
           "title": {
            "standoff": 15
           },
           "zerolinecolor": "#EBF0F8",
           "zerolinewidth": 2
          }
         }
        },
        "title": {
         "font": {
          "size": 16
         },
         "text": "3D Lifestyle Analysis: Age, Work Hours, and Financial Stress",
         "x": 0.5
        }
       }
      }
     },
     "metadata": {},
     "output_type": "display_data"
    },
    {
     "name": "stdout",
     "output_type": "stream",
     "text": [
      "\n",
      "📊 3D Scatter Plot: Multi-dimensional lifestyle factor relationships\n"
     ]
    },
    {
     "data": {
      "application/vnd.plotly.v1+json": {
       "config": {
        "plotlyServerURL": "https://plot.ly"
       },
       "data": [
        {
         "fill": "toself",
         "fillcolor": "rgba(46, 134, 171, 0.3)",
         "line": {
          "color": "#2E86AB"
         },
         "name": "No Depression",
         "r": [
          0.6115225745132028,
          0.49203964111071546,
          0.45940241466168674,
          0.4986500501161652,
          0.5229205577031664,
          0.6115225745132028
         ],
         "theta": [
          "Age",
          "Work Hours",
          "Financial Stress",
          "Sleep Quality",
          "Diet Quality",
          "Age"
         ],
         "type": "scatterpolar"
        },
        {
         "fill": "toself",
         "fillcolor": "rgba(162, 59, 114, 0.3)",
         "line": {
          "color": "#A23B72"
         },
         "name": "Depression",
         "r": [
          0.17974155673142653,
          0.6517255316097573,
          0.6676640851130408,
          0.41903084849670647,
          0.36769309022615226,
          0.17974155673142653
         ],
         "theta": [
          "Age",
          "Work Hours",
          "Financial Stress",
          "Sleep Quality",
          "Diet Quality",
          "Age"
         ],
         "type": "scatterpolar"
        }
       ],
       "layout": {
        "height": 500,
        "polar": {
         "radialaxis": {
          "range": [
           0,
           1
          ],
          "visible": true
         }
        },
        "showlegend": true,
        "template": {
         "data": {
          "bar": [
           {
            "error_x": {
             "color": "#2a3f5f"
            },
            "error_y": {
             "color": "#2a3f5f"
            },
            "marker": {
             "line": {
              "color": "#E5ECF6",
              "width": 0.5
             },
             "pattern": {
              "fillmode": "overlay",
              "size": 10,
              "solidity": 0.2
             }
            },
            "type": "bar"
           }
          ],
          "barpolar": [
           {
            "marker": {
             "line": {
              "color": "#E5ECF6",
              "width": 0.5
             },
             "pattern": {
              "fillmode": "overlay",
              "size": 10,
              "solidity": 0.2
             }
            },
            "type": "barpolar"
           }
          ],
          "carpet": [
           {
            "aaxis": {
             "endlinecolor": "#2a3f5f",
             "gridcolor": "white",
             "linecolor": "white",
             "minorgridcolor": "white",
             "startlinecolor": "#2a3f5f"
            },
            "baxis": {
             "endlinecolor": "#2a3f5f",
             "gridcolor": "white",
             "linecolor": "white",
             "minorgridcolor": "white",
             "startlinecolor": "#2a3f5f"
            },
            "type": "carpet"
           }
          ],
          "choropleth": [
           {
            "colorbar": {
             "outlinewidth": 0,
             "ticks": ""
            },
            "type": "choropleth"
           }
          ],
          "contour": [
           {
            "colorbar": {
             "outlinewidth": 0,
             "ticks": ""
            },
            "colorscale": [
             [
              0,
              "#0d0887"
             ],
             [
              0.1111111111111111,
              "#46039f"
             ],
             [
              0.2222222222222222,
              "#7201a8"
             ],
             [
              0.3333333333333333,
              "#9c179e"
             ],
             [
              0.4444444444444444,
              "#bd3786"
             ],
             [
              0.5555555555555556,
              "#d8576b"
             ],
             [
              0.6666666666666666,
              "#ed7953"
             ],
             [
              0.7777777777777778,
              "#fb9f3a"
             ],
             [
              0.8888888888888888,
              "#fdca26"
             ],
             [
              1,
              "#f0f921"
             ]
            ],
            "type": "contour"
           }
          ],
          "contourcarpet": [
           {
            "colorbar": {
             "outlinewidth": 0,
             "ticks": ""
            },
            "type": "contourcarpet"
           }
          ],
          "heatmap": [
           {
            "colorbar": {
             "outlinewidth": 0,
             "ticks": ""
            },
            "colorscale": [
             [
              0,
              "#0d0887"
             ],
             [
              0.1111111111111111,
              "#46039f"
             ],
             [
              0.2222222222222222,
              "#7201a8"
             ],
             [
              0.3333333333333333,
              "#9c179e"
             ],
             [
              0.4444444444444444,
              "#bd3786"
             ],
             [
              0.5555555555555556,
              "#d8576b"
             ],
             [
              0.6666666666666666,
              "#ed7953"
             ],
             [
              0.7777777777777778,
              "#fb9f3a"
             ],
             [
              0.8888888888888888,
              "#fdca26"
             ],
             [
              1,
              "#f0f921"
             ]
            ],
            "type": "heatmap"
           }
          ],
          "histogram": [
           {
            "marker": {
             "pattern": {
              "fillmode": "overlay",
              "size": 10,
              "solidity": 0.2
             }
            },
            "type": "histogram"
           }
          ],
          "histogram2d": [
           {
            "colorbar": {
             "outlinewidth": 0,
             "ticks": ""
            },
            "colorscale": [
             [
              0,
              "#0d0887"
             ],
             [
              0.1111111111111111,
              "#46039f"
             ],
             [
              0.2222222222222222,
              "#7201a8"
             ],
             [
              0.3333333333333333,
              "#9c179e"
             ],
             [
              0.4444444444444444,
              "#bd3786"
             ],
             [
              0.5555555555555556,
              "#d8576b"
             ],
             [
              0.6666666666666666,
              "#ed7953"
             ],
             [
              0.7777777777777778,
              "#fb9f3a"
             ],
             [
              0.8888888888888888,
              "#fdca26"
             ],
             [
              1,
              "#f0f921"
             ]
            ],
            "type": "histogram2d"
           }
          ],
          "histogram2dcontour": [
           {
            "colorbar": {
             "outlinewidth": 0,
             "ticks": ""
            },
            "colorscale": [
             [
              0,
              "#0d0887"
             ],
             [
              0.1111111111111111,
              "#46039f"
             ],
             [
              0.2222222222222222,
              "#7201a8"
             ],
             [
              0.3333333333333333,
              "#9c179e"
             ],
             [
              0.4444444444444444,
              "#bd3786"
             ],
             [
              0.5555555555555556,
              "#d8576b"
             ],
             [
              0.6666666666666666,
              "#ed7953"
             ],
             [
              0.7777777777777778,
              "#fb9f3a"
             ],
             [
              0.8888888888888888,
              "#fdca26"
             ],
             [
              1,
              "#f0f921"
             ]
            ],
            "type": "histogram2dcontour"
           }
          ],
          "mesh3d": [
           {
            "colorbar": {
             "outlinewidth": 0,
             "ticks": ""
            },
            "type": "mesh3d"
           }
          ],
          "parcoords": [
           {
            "line": {
             "colorbar": {
              "outlinewidth": 0,
              "ticks": ""
             }
            },
            "type": "parcoords"
           }
          ],
          "pie": [
           {
            "automargin": true,
            "type": "pie"
           }
          ],
          "scatter": [
           {
            "fillpattern": {
             "fillmode": "overlay",
             "size": 10,
             "solidity": 0.2
            },
            "type": "scatter"
           }
          ],
          "scatter3d": [
           {
            "line": {
             "colorbar": {
              "outlinewidth": 0,
              "ticks": ""
             }
            },
            "marker": {
             "colorbar": {
              "outlinewidth": 0,
              "ticks": ""
             }
            },
            "type": "scatter3d"
           }
          ],
          "scattercarpet": [
           {
            "marker": {
             "colorbar": {
              "outlinewidth": 0,
              "ticks": ""
             }
            },
            "type": "scattercarpet"
           }
          ],
          "scattergeo": [
           {
            "marker": {
             "colorbar": {
              "outlinewidth": 0,
              "ticks": ""
             }
            },
            "type": "scattergeo"
           }
          ],
          "scattergl": [
           {
            "marker": {
             "colorbar": {
              "outlinewidth": 0,
              "ticks": ""
             }
            },
            "type": "scattergl"
           }
          ],
          "scattermap": [
           {
            "marker": {
             "colorbar": {
              "outlinewidth": 0,
              "ticks": ""
             }
            },
            "type": "scattermap"
           }
          ],
          "scattermapbox": [
           {
            "marker": {
             "colorbar": {
              "outlinewidth": 0,
              "ticks": ""
             }
            },
            "type": "scattermapbox"
           }
          ],
          "scatterpolar": [
           {
            "marker": {
             "colorbar": {
              "outlinewidth": 0,
              "ticks": ""
             }
            },
            "type": "scatterpolar"
           }
          ],
          "scatterpolargl": [
           {
            "marker": {
             "colorbar": {
              "outlinewidth": 0,
              "ticks": ""
             }
            },
            "type": "scatterpolargl"
           }
          ],
          "scatterternary": [
           {
            "marker": {
             "colorbar": {
              "outlinewidth": 0,
              "ticks": ""
             }
            },
            "type": "scatterternary"
           }
          ],
          "surface": [
           {
            "colorbar": {
             "outlinewidth": 0,
             "ticks": ""
            },
            "colorscale": [
             [
              0,
              "#0d0887"
             ],
             [
              0.1111111111111111,
              "#46039f"
             ],
             [
              0.2222222222222222,
              "#7201a8"
             ],
             [
              0.3333333333333333,
              "#9c179e"
             ],
             [
              0.4444444444444444,
              "#bd3786"
             ],
             [
              0.5555555555555556,
              "#d8576b"
             ],
             [
              0.6666666666666666,
              "#ed7953"
             ],
             [
              0.7777777777777778,
              "#fb9f3a"
             ],
             [
              0.8888888888888888,
              "#fdca26"
             ],
             [
              1,
              "#f0f921"
             ]
            ],
            "type": "surface"
           }
          ],
          "table": [
           {
            "cells": {
             "fill": {
              "color": "#EBF0F8"
             },
             "line": {
              "color": "white"
             }
            },
            "header": {
             "fill": {
              "color": "#C8D4E3"
             },
             "line": {
              "color": "white"
             }
            },
            "type": "table"
           }
          ]
         },
         "layout": {
          "annotationdefaults": {
           "arrowcolor": "#2a3f5f",
           "arrowhead": 0,
           "arrowwidth": 1
          },
          "autotypenumbers": "strict",
          "coloraxis": {
           "colorbar": {
            "outlinewidth": 0,
            "ticks": ""
           }
          },
          "colorscale": {
           "diverging": [
            [
             0,
             "#8e0152"
            ],
            [
             0.1,
             "#c51b7d"
            ],
            [
             0.2,
             "#de77ae"
            ],
            [
             0.3,
             "#f1b6da"
            ],
            [
             0.4,
             "#fde0ef"
            ],
            [
             0.5,
             "#f7f7f7"
            ],
            [
             0.6,
             "#e6f5d0"
            ],
            [
             0.7,
             "#b8e186"
            ],
            [
             0.8,
             "#7fbc41"
            ],
            [
             0.9,
             "#4d9221"
            ],
            [
             1,
             "#276419"
            ]
           ],
           "sequential": [
            [
             0,
             "#0d0887"
            ],
            [
             0.1111111111111111,
             "#46039f"
            ],
            [
             0.2222222222222222,
             "#7201a8"
            ],
            [
             0.3333333333333333,
             "#9c179e"
            ],
            [
             0.4444444444444444,
             "#bd3786"
            ],
            [
             0.5555555555555556,
             "#d8576b"
            ],
            [
             0.6666666666666666,
             "#ed7953"
            ],
            [
             0.7777777777777778,
             "#fb9f3a"
            ],
            [
             0.8888888888888888,
             "#fdca26"
            ],
            [
             1,
             "#f0f921"
            ]
           ],
           "sequentialminus": [
            [
             0,
             "#0d0887"
            ],
            [
             0.1111111111111111,
             "#46039f"
            ],
            [
             0.2222222222222222,
             "#7201a8"
            ],
            [
             0.3333333333333333,
             "#9c179e"
            ],
            [
             0.4444444444444444,
             "#bd3786"
            ],
            [
             0.5555555555555556,
             "#d8576b"
            ],
            [
             0.6666666666666666,
             "#ed7953"
            ],
            [
             0.7777777777777778,
             "#fb9f3a"
            ],
            [
             0.8888888888888888,
             "#fdca26"
            ],
            [
             1,
             "#f0f921"
            ]
           ]
          },
          "colorway": [
           "#636efa",
           "#EF553B",
           "#00cc96",
           "#ab63fa",
           "#FFA15A",
           "#19d3f3",
           "#FF6692",
           "#B6E880",
           "#FF97FF",
           "#FECB52"
          ],
          "font": {
           "color": "#2a3f5f"
          },
          "geo": {
           "bgcolor": "white",
           "lakecolor": "white",
           "landcolor": "#E5ECF6",
           "showlakes": true,
           "showland": true,
           "subunitcolor": "white"
          },
          "hoverlabel": {
           "align": "left"
          },
          "hovermode": "closest",
          "mapbox": {
           "style": "light"
          },
          "paper_bgcolor": "white",
          "plot_bgcolor": "#E5ECF6",
          "polar": {
           "angularaxis": {
            "gridcolor": "white",
            "linecolor": "white",
            "ticks": ""
           },
           "bgcolor": "#E5ECF6",
           "radialaxis": {
            "gridcolor": "white",
            "linecolor": "white",
            "ticks": ""
           }
          },
          "scene": {
           "xaxis": {
            "backgroundcolor": "#E5ECF6",
            "gridcolor": "white",
            "gridwidth": 2,
            "linecolor": "white",
            "showbackground": true,
            "ticks": "",
            "zerolinecolor": "white"
           },
           "yaxis": {
            "backgroundcolor": "#E5ECF6",
            "gridcolor": "white",
            "gridwidth": 2,
            "linecolor": "white",
            "showbackground": true,
            "ticks": "",
            "zerolinecolor": "white"
           },
           "zaxis": {
            "backgroundcolor": "#E5ECF6",
            "gridcolor": "white",
            "gridwidth": 2,
            "linecolor": "white",
            "showbackground": true,
            "ticks": "",
            "zerolinecolor": "white"
           }
          },
          "shapedefaults": {
           "line": {
            "color": "#2a3f5f"
           }
          },
          "ternary": {
           "aaxis": {
            "gridcolor": "white",
            "linecolor": "white",
            "ticks": ""
           },
           "baxis": {
            "gridcolor": "white",
            "linecolor": "white",
            "ticks": ""
           },
           "bgcolor": "#E5ECF6",
           "caxis": {
            "gridcolor": "white",
            "linecolor": "white",
            "ticks": ""
           }
          },
          "title": {
           "x": 0.05
          },
          "xaxis": {
           "automargin": true,
           "gridcolor": "white",
           "linecolor": "white",
           "ticks": "",
           "title": {
            "standoff": 15
           },
           "zerolinecolor": "white",
           "zerolinewidth": 2
          },
          "yaxis": {
           "automargin": true,
           "gridcolor": "white",
           "linecolor": "white",
           "ticks": "",
           "title": {
            "standoff": 15
           },
           "zerolinecolor": "white",
           "zerolinewidth": 2
          }
         }
        },
        "title": {
         "text": "Lifestyle Profile Comparison: Depression vs No Depression Groups",
         "x": 0.5
        }
       }
      }
     },
     "metadata": {},
     "output_type": "display_data"
    },
    {
     "name": "stdout",
     "output_type": "stream",
     "text": [
      "\n",
      " Radar Chart: Comparative lifestyle profiles between depression groups\n"
     ]
    }
   ],
   "source": [
    "\n",
    "print('Subtask 3.2.2: LIFESTYLE IMPACT ANALYSIS USING ADVANCED VISUALIZATIONS')\n",
    "print('='*70)\n",
    "\n",
    "# 3D Scatter Plot for Multi-Lifestyle Factor Analysis\n",
    "lifestyle_data = train_df[['Age', 'Work/Study Hours', 'Financial Stress', 'Depression_Label', \n",
    "                          'Sleep Duration', 'Dietary Habits']].copy()\n",
    "\n",
    "fig_3d = px.scatter_3d(lifestyle_data.sample(2000), \n",
    "                      x='Age', \n",
    "                      y='Work/Study Hours', \n",
    "                      z='Financial Stress',\n",
    "                      color='Depression_Label',\n",
    "                      symbol='Sleep Duration',\n",
    "                      title='3D Lifestyle Analysis: Age, Work Hours, and Financial Stress',\n",
    "                      labels={'Age': 'Age (years)',\n",
    "                             'Work/Study Hours': 'Work/Study Hours per day',\n",
    "                             'Financial Stress': 'Financial Stress Level'},\n",
    "                      color_discrete_map={'No Depression': '#2E86AB', 'Depression': '#A23B72'},\n",
    "                      opacity=0.7)\n",
    "\n",
    "fig_3d.update_layout(\n",
    "    title={'x': 0.5, 'font': {'size': 16}},\n",
    "    height=600,\n",
    "    scene=dict(\n",
    "        xaxis_title='Age (years)',\n",
    "        yaxis_title='Work/Study Hours',\n",
    "        zaxis_title='Financial Stress'\n",
    "    )\n",
    ")\n",
    "\n",
    "fig_3d.show()\n",
    "print(\"\\n📊 3D Scatter Plot: Multi-dimensional lifestyle factor relationships\")\n",
    "# Radar Charts for Lifestyle Profile Comparison\n",
    "# Create mappings for analysis\n",
    "sleep_mapping = {'Less than 5 hours': 1, '5-6 hours': 2, '7-8 hours': 3, 'More than 8 hours': 4}\n",
    "diet_mapping = {'Unhealthy': 1, 'Moderate': 2, 'Healthy': 3}\n",
    "\n",
    "def create_radar_data(depression_status):\n",
    "    group_data = train_df[train_df['Depression'] == depression_status]\n",
    "    \n",
    "    # Normalize values to 0-1 scale\n",
    "    avg_age = (group_data['Age'].mean() - train_df['Age'].min()) / (train_df['Age'].max() - train_df['Age'].min())\n",
    "    avg_work_hours = (group_data['Work/Study Hours'].mean() - train_df['Work/Study Hours'].min()) / (train_df['Work/Study Hours'].max() - train_df['Work/Study Hours'].min())\n",
    "    avg_financial_stress = (group_data['Financial Stress'].mean() - train_df['Financial Stress'].min()) / (train_df['Financial Stress'].max() - train_df['Financial Stress'].min())\n",
    "    \n",
    "    # Sleep and diet quality (higher is better)\n",
    "    sleep_scores = group_data['Sleep Duration'].map(sleep_mapping)\n",
    "    avg_sleep = (sleep_scores.mean() - 1) / 3  # Normalize to 0-1\n",
    "    \n",
    "    diet_scores = group_data['Dietary Habits'].map(diet_mapping)\n",
    "    avg_diet = (diet_scores.mean() - 1) / 2  # Normalize to 0-1\n",
    "    \n",
    "    return [avg_age, avg_work_hours, avg_financial_stress, avg_sleep, avg_diet]\n",
    "\n",
    "categories = ['Age', 'Work Hours', 'Financial Stress', 'Sleep Quality', 'Diet Quality']\n",
    "\n",
    "no_depression_profile = create_radar_data(0)\n",
    "depression_profile = create_radar_data(1)\n",
    "\n",
    "fig_radar = go.Figure()\n",
    "\n",
    "# Add profiles\n",
    "fig_radar.add_trace(go.Scatterpolar(\n",
    "    r=no_depression_profile + [no_depression_profile[0]],\n",
    "    theta=categories + [categories[0]],\n",
    "    fill='toself',\n",
    "    name='No Depression',\n",
    "    line_color='#2E86AB',\n",
    "    fillcolor='rgba(46, 134, 171, 0.3)'\n",
    "))\n",
    "\n",
    "fig_radar.add_trace(go.Scatterpolar(\n",
    "    r=depression_profile + [depression_profile[0]],\n",
    "    theta=categories + [categories[0]],\n",
    "    fill='toself',\n",
    "    name='Depression',\n",
    "    line_color='#A23B72',\n",
    "    fillcolor='rgba(162, 59, 114, 0.3)'\n",
    "))\n",
    "\n",
    "fig_radar.update_layout(\n",
    "    polar=dict(radialaxis=dict(visible=True, range=[0, 1])),\n",
    "    title='Lifestyle Profile Comparison: Depression vs No Depression Groups',\n",
    "    title_x=0.5,\n",
    "    height=500,\n",
    "    showlegend=True\n",
    ")\n",
    "\n",
    "fig_radar.show()\n",
    "print(\"\\n Radar Chart: Comparative lifestyle profiles between depression groups\")"
   ]
  },
  {
   "cell_type": "markdown",
   "id": "5cd7b49e",
   "metadata": {},
   "source": [
    "## Subtask 3.2.3: Risk Factor Exploration with Multi-dimensional Plots\n"
   ]
  },
  {
   "cell_type": "code",
   "execution_count": 67,
   "id": "f91dfd9e",
   "metadata": {},
   "outputs": [
    {
     "name": "stdout",
     "output_type": "stream",
     "text": [
      "Subtask 3.2.3: RISK FACTOR EXPLORATION WITH MULTI-DIMENSIONAL PLOTS\n",
      "======================================================================\n"
     ]
    },
    {
     "data": {
      "application/vnd.plotly.v1+json": {
       "config": {
        "plotlyServerURL": "https://plot.ly"
       },
       "data": [
        {
         "link": {
          "source": [
           0,
           0,
           1,
           1
          ],
          "target": [
           2,
           3,
           2,
           3
          ],
          "value": [
           58348,
           12410,
           56785,
           13157
          ]
         },
         "node": {
          "color": [
           "lightblue",
           "lightcoral",
           "#2E86AB",
           "#A23B72"
          ],
          "label": [
           "Family Low Risk",
           "Family High Risk",
           "No Depression",
           "Depression"
          ],
          "pad": 15,
          "thickness": 20
         },
         "type": "sankey"
        }
       ],
       "layout": {
        "height": 500,
        "template": {
         "data": {
          "bar": [
           {
            "error_x": {
             "color": "#2a3f5f"
            },
            "error_y": {
             "color": "#2a3f5f"
            },
            "marker": {
             "line": {
              "color": "#E5ECF6",
              "width": 0.5
             },
             "pattern": {
              "fillmode": "overlay",
              "size": 10,
              "solidity": 0.2
             }
            },
            "type": "bar"
           }
          ],
          "barpolar": [
           {
            "marker": {
             "line": {
              "color": "#E5ECF6",
              "width": 0.5
             },
             "pattern": {
              "fillmode": "overlay",
              "size": 10,
              "solidity": 0.2
             }
            },
            "type": "barpolar"
           }
          ],
          "carpet": [
           {
            "aaxis": {
             "endlinecolor": "#2a3f5f",
             "gridcolor": "white",
             "linecolor": "white",
             "minorgridcolor": "white",
             "startlinecolor": "#2a3f5f"
            },
            "baxis": {
             "endlinecolor": "#2a3f5f",
             "gridcolor": "white",
             "linecolor": "white",
             "minorgridcolor": "white",
             "startlinecolor": "#2a3f5f"
            },
            "type": "carpet"
           }
          ],
          "choropleth": [
           {
            "colorbar": {
             "outlinewidth": 0,
             "ticks": ""
            },
            "type": "choropleth"
           }
          ],
          "contour": [
           {
            "colorbar": {
             "outlinewidth": 0,
             "ticks": ""
            },
            "colorscale": [
             [
              0,
              "#0d0887"
             ],
             [
              0.1111111111111111,
              "#46039f"
             ],
             [
              0.2222222222222222,
              "#7201a8"
             ],
             [
              0.3333333333333333,
              "#9c179e"
             ],
             [
              0.4444444444444444,
              "#bd3786"
             ],
             [
              0.5555555555555556,
              "#d8576b"
             ],
             [
              0.6666666666666666,
              "#ed7953"
             ],
             [
              0.7777777777777778,
              "#fb9f3a"
             ],
             [
              0.8888888888888888,
              "#fdca26"
             ],
             [
              1,
              "#f0f921"
             ]
            ],
            "type": "contour"
           }
          ],
          "contourcarpet": [
           {
            "colorbar": {
             "outlinewidth": 0,
             "ticks": ""
            },
            "type": "contourcarpet"
           }
          ],
          "heatmap": [
           {
            "colorbar": {
             "outlinewidth": 0,
             "ticks": ""
            },
            "colorscale": [
             [
              0,
              "#0d0887"
             ],
             [
              0.1111111111111111,
              "#46039f"
             ],
             [
              0.2222222222222222,
              "#7201a8"
             ],
             [
              0.3333333333333333,
              "#9c179e"
             ],
             [
              0.4444444444444444,
              "#bd3786"
             ],
             [
              0.5555555555555556,
              "#d8576b"
             ],
             [
              0.6666666666666666,
              "#ed7953"
             ],
             [
              0.7777777777777778,
              "#fb9f3a"
             ],
             [
              0.8888888888888888,
              "#fdca26"
             ],
             [
              1,
              "#f0f921"
             ]
            ],
            "type": "heatmap"
           }
          ],
          "histogram": [
           {
            "marker": {
             "pattern": {
              "fillmode": "overlay",
              "size": 10,
              "solidity": 0.2
             }
            },
            "type": "histogram"
           }
          ],
          "histogram2d": [
           {
            "colorbar": {
             "outlinewidth": 0,
             "ticks": ""
            },
            "colorscale": [
             [
              0,
              "#0d0887"
             ],
             [
              0.1111111111111111,
              "#46039f"
             ],
             [
              0.2222222222222222,
              "#7201a8"
             ],
             [
              0.3333333333333333,
              "#9c179e"
             ],
             [
              0.4444444444444444,
              "#bd3786"
             ],
             [
              0.5555555555555556,
              "#d8576b"
             ],
             [
              0.6666666666666666,
              "#ed7953"
             ],
             [
              0.7777777777777778,
              "#fb9f3a"
             ],
             [
              0.8888888888888888,
              "#fdca26"
             ],
             [
              1,
              "#f0f921"
             ]
            ],
            "type": "histogram2d"
           }
          ],
          "histogram2dcontour": [
           {
            "colorbar": {
             "outlinewidth": 0,
             "ticks": ""
            },
            "colorscale": [
             [
              0,
              "#0d0887"
             ],
             [
              0.1111111111111111,
              "#46039f"
             ],
             [
              0.2222222222222222,
              "#7201a8"
             ],
             [
              0.3333333333333333,
              "#9c179e"
             ],
             [
              0.4444444444444444,
              "#bd3786"
             ],
             [
              0.5555555555555556,
              "#d8576b"
             ],
             [
              0.6666666666666666,
              "#ed7953"
             ],
             [
              0.7777777777777778,
              "#fb9f3a"
             ],
             [
              0.8888888888888888,
              "#fdca26"
             ],
             [
              1,
              "#f0f921"
             ]
            ],
            "type": "histogram2dcontour"
           }
          ],
          "mesh3d": [
           {
            "colorbar": {
             "outlinewidth": 0,
             "ticks": ""
            },
            "type": "mesh3d"
           }
          ],
          "parcoords": [
           {
            "line": {
             "colorbar": {
              "outlinewidth": 0,
              "ticks": ""
             }
            },
            "type": "parcoords"
           }
          ],
          "pie": [
           {
            "automargin": true,
            "type": "pie"
           }
          ],
          "scatter": [
           {
            "fillpattern": {
             "fillmode": "overlay",
             "size": 10,
             "solidity": 0.2
            },
            "type": "scatter"
           }
          ],
          "scatter3d": [
           {
            "line": {
             "colorbar": {
              "outlinewidth": 0,
              "ticks": ""
             }
            },
            "marker": {
             "colorbar": {
              "outlinewidth": 0,
              "ticks": ""
             }
            },
            "type": "scatter3d"
           }
          ],
          "scattercarpet": [
           {
            "marker": {
             "colorbar": {
              "outlinewidth": 0,
              "ticks": ""
             }
            },
            "type": "scattercarpet"
           }
          ],
          "scattergeo": [
           {
            "marker": {
             "colorbar": {
              "outlinewidth": 0,
              "ticks": ""
             }
            },
            "type": "scattergeo"
           }
          ],
          "scattergl": [
           {
            "marker": {
             "colorbar": {
              "outlinewidth": 0,
              "ticks": ""
             }
            },
            "type": "scattergl"
           }
          ],
          "scattermap": [
           {
            "marker": {
             "colorbar": {
              "outlinewidth": 0,
              "ticks": ""
             }
            },
            "type": "scattermap"
           }
          ],
          "scattermapbox": [
           {
            "marker": {
             "colorbar": {
              "outlinewidth": 0,
              "ticks": ""
             }
            },
            "type": "scattermapbox"
           }
          ],
          "scatterpolar": [
           {
            "marker": {
             "colorbar": {
              "outlinewidth": 0,
              "ticks": ""
             }
            },
            "type": "scatterpolar"
           }
          ],
          "scatterpolargl": [
           {
            "marker": {
             "colorbar": {
              "outlinewidth": 0,
              "ticks": ""
             }
            },
            "type": "scatterpolargl"
           }
          ],
          "scatterternary": [
           {
            "marker": {
             "colorbar": {
              "outlinewidth": 0,
              "ticks": ""
             }
            },
            "type": "scatterternary"
           }
          ],
          "surface": [
           {
            "colorbar": {
             "outlinewidth": 0,
             "ticks": ""
            },
            "colorscale": [
             [
              0,
              "#0d0887"
             ],
             [
              0.1111111111111111,
              "#46039f"
             ],
             [
              0.2222222222222222,
              "#7201a8"
             ],
             [
              0.3333333333333333,
              "#9c179e"
             ],
             [
              0.4444444444444444,
              "#bd3786"
             ],
             [
              0.5555555555555556,
              "#d8576b"
             ],
             [
              0.6666666666666666,
              "#ed7953"
             ],
             [
              0.7777777777777778,
              "#fb9f3a"
             ],
             [
              0.8888888888888888,
              "#fdca26"
             ],
             [
              1,
              "#f0f921"
             ]
            ],
            "type": "surface"
           }
          ],
          "table": [
           {
            "cells": {
             "fill": {
              "color": "#EBF0F8"
             },
             "line": {
              "color": "white"
             }
            },
            "header": {
             "fill": {
              "color": "#C8D4E3"
             },
             "line": {
              "color": "white"
             }
            },
            "type": "table"
           }
          ]
         },
         "layout": {
          "annotationdefaults": {
           "arrowcolor": "#2a3f5f",
           "arrowhead": 0,
           "arrowwidth": 1
          },
          "autotypenumbers": "strict",
          "coloraxis": {
           "colorbar": {
            "outlinewidth": 0,
            "ticks": ""
           }
          },
          "colorscale": {
           "diverging": [
            [
             0,
             "#8e0152"
            ],
            [
             0.1,
             "#c51b7d"
            ],
            [
             0.2,
             "#de77ae"
            ],
            [
             0.3,
             "#f1b6da"
            ],
            [
             0.4,
             "#fde0ef"
            ],
            [
             0.5,
             "#f7f7f7"
            ],
            [
             0.6,
             "#e6f5d0"
            ],
            [
             0.7,
             "#b8e186"
            ],
            [
             0.8,
             "#7fbc41"
            ],
            [
             0.9,
             "#4d9221"
            ],
            [
             1,
             "#276419"
            ]
           ],
           "sequential": [
            [
             0,
             "#0d0887"
            ],
            [
             0.1111111111111111,
             "#46039f"
            ],
            [
             0.2222222222222222,
             "#7201a8"
            ],
            [
             0.3333333333333333,
             "#9c179e"
            ],
            [
             0.4444444444444444,
             "#bd3786"
            ],
            [
             0.5555555555555556,
             "#d8576b"
            ],
            [
             0.6666666666666666,
             "#ed7953"
            ],
            [
             0.7777777777777778,
             "#fb9f3a"
            ],
            [
             0.8888888888888888,
             "#fdca26"
            ],
            [
             1,
             "#f0f921"
            ]
           ],
           "sequentialminus": [
            [
             0,
             "#0d0887"
            ],
            [
             0.1111111111111111,
             "#46039f"
            ],
            [
             0.2222222222222222,
             "#7201a8"
            ],
            [
             0.3333333333333333,
             "#9c179e"
            ],
            [
             0.4444444444444444,
             "#bd3786"
            ],
            [
             0.5555555555555556,
             "#d8576b"
            ],
            [
             0.6666666666666666,
             "#ed7953"
            ],
            [
             0.7777777777777778,
             "#fb9f3a"
            ],
            [
             0.8888888888888888,
             "#fdca26"
            ],
            [
             1,
             "#f0f921"
            ]
           ]
          },
          "colorway": [
           "#636efa",
           "#EF553B",
           "#00cc96",
           "#ab63fa",
           "#FFA15A",
           "#19d3f3",
           "#FF6692",
           "#B6E880",
           "#FF97FF",
           "#FECB52"
          ],
          "font": {
           "color": "#2a3f5f"
          },
          "geo": {
           "bgcolor": "white",
           "lakecolor": "white",
           "landcolor": "#E5ECF6",
           "showlakes": true,
           "showland": true,
           "subunitcolor": "white"
          },
          "hoverlabel": {
           "align": "left"
          },
          "hovermode": "closest",
          "mapbox": {
           "style": "light"
          },
          "paper_bgcolor": "white",
          "plot_bgcolor": "#E5ECF6",
          "polar": {
           "angularaxis": {
            "gridcolor": "white",
            "linecolor": "white",
            "ticks": ""
           },
           "bgcolor": "#E5ECF6",
           "radialaxis": {
            "gridcolor": "white",
            "linecolor": "white",
            "ticks": ""
           }
          },
          "scene": {
           "xaxis": {
            "backgroundcolor": "#E5ECF6",
            "gridcolor": "white",
            "gridwidth": 2,
            "linecolor": "white",
            "showbackground": true,
            "ticks": "",
            "zerolinecolor": "white"
           },
           "yaxis": {
            "backgroundcolor": "#E5ECF6",
            "gridcolor": "white",
            "gridwidth": 2,
            "linecolor": "white",
            "showbackground": true,
            "ticks": "",
            "zerolinecolor": "white"
           },
           "zaxis": {
            "backgroundcolor": "#E5ECF6",
            "gridcolor": "white",
            "gridwidth": 2,
            "linecolor": "white",
            "showbackground": true,
            "ticks": "",
            "zerolinecolor": "white"
           }
          },
          "shapedefaults": {
           "line": {
            "color": "#2a3f5f"
           }
          },
          "ternary": {
           "aaxis": {
            "gridcolor": "white",
            "linecolor": "white",
            "ticks": ""
           },
           "baxis": {
            "gridcolor": "white",
            "linecolor": "white",
            "ticks": ""
           },
           "bgcolor": "#E5ECF6",
           "caxis": {
            "gridcolor": "white",
            "linecolor": "white",
            "ticks": ""
           }
          },
          "title": {
           "x": 0.05
          },
          "xaxis": {
           "automargin": true,
           "gridcolor": "white",
           "linecolor": "white",
           "ticks": "",
           "title": {
            "standoff": 15
           },
           "zerolinecolor": "white",
           "zerolinewidth": 2
          },
          "yaxis": {
           "automargin": true,
           "gridcolor": "white",
           "linecolor": "white",
           "ticks": "",
           "title": {
            "standoff": 15
           },
           "zerolinecolor": "white",
           "zerolinewidth": 2
          }
         }
        },
        "title": {
         "text": "Risk Factor Flow: Family History → Depression Outcomes",
         "x": 0.5
        }
       }
      }
     },
     "metadata": {},
     "output_type": "display_data"
    },
    {
     "name": "stdout",
     "output_type": "stream",
     "text": [
      "\n",
      " Sankey Diagram: Risk factor flow analysis showing pathways to depression\n",
      "\n",
      " FAMILY HISTORY RISK ANALYSIS:\n",
      "\n",
      "No Family History:\n",
      "  • Population: 70,758.0 people\n",
      "  • Depression cases: 12,410.0\n",
      "  • Depression rate: 17.5%\n",
      "\n",
      "Yes Family History:\n",
      "  • Population: 69,942.0 people\n",
      "  • Depression cases: 13,157.0\n",
      "  • Depression rate: 18.8%\n"
     ]
    }
   ],
   "source": [
    "\n",
    "print('Subtask 3.2.3: RISK FACTOR EXPLORATION WITH MULTI-DIMENSIONAL PLOTS')\n",
    "print('='*70)\n",
    "\n",
    "# Sankey Diagram for Risk Factor Flow Analysis\n",
    "labels = ['Family Low Risk', 'Family High Risk', 'No Depression', 'Depression']\n",
    "family_low = train_df[train_df['Family History of Mental Illness'] == 'No']\n",
    "family_high = train_df[train_df['Family History of Mental Illness'] == 'Yes']\n",
    "\n",
    "source_nodes = [0, 0, 1, 1]\n",
    "target_nodes = [2, 3, 2, 3]\n",
    "values = [\n",
    "    len(family_low[family_low['Depression'] == 0]),\n",
    "    len(family_low[family_low['Depression'] == 1]),\n",
    "    len(family_high[family_high['Depression'] == 0]),\n",
    "    len(family_high[family_high['Depression'] == 1])\n",
    "]\n",
    "\n",
    "fig_sankey = go.Figure(data=[go.Sankey(\n",
    "    node = dict(pad = 15, thickness = 20, label = labels, \n",
    "               color = [\"lightblue\", \"lightcoral\", \"#2E86AB\", \"#A23B72\"]),\n",
    "    link = dict(source = source_nodes, target = target_nodes, value = values)\n",
    ")])\n",
    "\n",
    "fig_sankey.update_layout(\n",
    "    title_text=\"Risk Factor Flow: Family History → Depression Outcomes\", \n",
    "    title_x=0.5, \n",
    "    height=500\n",
    ")\n",
    "\n",
    "fig_sankey.show()\n",
    "print(\"\\n Sankey Diagram: Risk factor flow analysis showing pathways to depression\")\n",
    "\n",
    "# Calculate and display risk insights\n",
    "family_risk_stats = train_df.groupby('Family History of Mental Illness')['Depression'].agg(['count', 'sum', 'mean'])\n",
    "print(\"\\n FAMILY HISTORY RISK ANALYSIS:\")\n",
    "for history, stats in family_risk_stats.iterrows():\n",
    "    risk_rate = stats['mean'] * 100\n",
    "    total_count = stats['count']\n",
    "    depression_cases = stats['sum']\n",
    "    print(f\"\\n{history} Family History:\")\n",
    "    print(f\"  • Population: {total_count:,} people\")\n",
    "    print(f\"  • Depression cases: {depression_cases:,}\")\n",
    "    print(f\"  • Depression rate: {risk_rate:.1f}%\")"
   ]
  },
  {
   "cell_type": "markdown",
   "id": "291bc22b",
   "metadata": {},
   "source": [
    "## Subtask 3.2.4: Statistical Analysis with Seaborn Advanced Plots\n"
   ]
  },
  {
   "cell_type": "code",
   "execution_count": 68,
   "id": "ff144299",
   "metadata": {},
   "outputs": [
    {
     "name": "stdout",
     "output_type": "stream",
     "text": [
      "Subtask 3.2.4: STATISTICAL ANALYSIS WITH SEABORN ADVANCED PLOTS\n",
      "======================================================================\n"
     ]
    },
    {
     "data": {
      "text/plain": [
       "<Figure size 1200x1000 with 0 Axes>"
      ]
     },
     "metadata": {},
     "output_type": "display_data"
    },
    {
     "data": {
      "image/png": "[encoded data removed]",
      "text/plain": [
       "<Figure size 1200x1000 with 4 Axes>"
      ]
     },
     "metadata": {},
     "output_type": "display_data"
    },
    {
     "name": "stdout",
     "output_type": "stream",
     "text": [
      "\n",
      " Cluster Map: Hierarchical feature correlation analysis\n",
      "\n",
      " FEATURE CORRELATIONS WITH DEPRESSION:\n",
      "  • Age: -0.565 (Strong negative correlation)\n",
      "  • Suicidal_Thoughts_Encoded: 0.349 (Strong positive correlation)\n",
      "  • Financial Stress: 0.227 (Moderate positive correlation)\n",
      "  • Work/Study Hours: 0.192 (Moderate positive correlation)\n",
      "  • Sleep_Numeric: -0.082 (Weak negative correlation)\n",
      "  • Family_History_Encoded: 0.017 (Weak positive correlation)\n",
      "  • Gender_Encoded: 0.008 (Weak positive correlation)\n"
     ]
    }
   ],
   "source": [
    "\n",
    "\n",
    "\n",
    "print('Subtask 3.2.4: STATISTICAL ANALYSIS WITH SEABORN ADVANCED PLOTS')\n",
    "print('='*70)\n",
    "\n",
    "# Advanced correlation analysis with cluster map\n",
    "analysis_df = train_df.copy()\n",
    "analysis_df['Gender_Encoded'] = analysis_df['Gender'].map({'Male': 1, 'Female': 0})\n",
    "analysis_df['Family_History_Encoded'] = analysis_df['Family History of Mental Illness'].map({'Yes': 1, 'No': 0})\n",
    "analysis_df['Suicidal_Thoughts_Encoded'] = analysis_df['Have you ever had suicidal thoughts ?'].map({'Yes': 1, 'No': 0})\n",
    "analysis_df['Sleep_Numeric'] = analysis_df['Sleep Duration'].map(sleep_mapping)\n",
    "\n",
    "correlation_features = ['Age', 'Work/Study Hours', 'Financial Stress', 'Gender_Encoded', \n",
    "                       'Family_History_Encoded', 'Suicidal_Thoughts_Encoded', \n",
    "                       'Sleep_Numeric', 'Depression']\n",
    "\n",
    "corr_matrix = analysis_df[correlation_features].corr()\n",
    "\n",
    "plt.figure(figsize=(12, 10))\n",
    "sns.clustermap(corr_matrix, \n",
    "               annot=True, \n",
    "               cmap='RdBu_r', \n",
    "               center=0, \n",
    "               square=True, \n",
    "               fmt='.3f',\n",
    "               figsize=(12, 10))\n",
    "plt.suptitle('Hierarchical Clustering of Feature Correlations', y=1.02, fontsize=16)\n",
    "plt.show()\n",
    "\n",
    "print(\"\\n Cluster Map: Hierarchical feature correlation analysis\")\n",
    "\n",
    "# Display correlation insights\n",
    "depression_correlations = corr_matrix['Depression'].drop('Depression').sort_values(key=abs, ascending=False)\n",
    "print(\"\\n FEATURE CORRELATIONS WITH DEPRESSION:\")\n",
    "for feature, correlation in depression_correlations.items():\n",
    "    strength = \"Strong\" if abs(correlation) > 0.3 else \"Moderate\" if abs(correlation) > 0.1 else \"Weak\"\n",
    "    direction = \"positive\" if correlation > 0 else \"negative\"\n",
    "    print(f\"  • {feature}: {correlation:.3f} ({strength} {direction} correlation)\")"
   ]
  },
  {
   "cell_type": "markdown",
   "id": "1057da72",
   "metadata": {},
   "source": [
    "## Subtask 3.2.5: Bias Detection and Fairness Analysis Visualizations\n"
   ]
  },
  {
   "cell_type": "code",
   "execution_count": 69,
   "id": "1f415b5b",
   "metadata": {},
   "outputs": [
    {
     "name": "stdout",
     "output_type": "stream",
     "text": [
      "Subtask 3.2.5: BIAS DETECTION AND FAIRNESS ANALYSIS VISUALIZATIONS\n",
      "======================================================================\n"
     ]
    },
    {
     "data": {
      "application/vnd.plotly.v1+json": {
       "config": {
        "plotlyServerURL": "https://plot.ly"
       },
       "data": [
        {
         "marker": {
          "color": [
           "#2E86AB",
           "#A23B72"
          ]
         },
         "name": "Gender",
         "type": "bar",
         "x": [
          "Female",
          "Male"
         ],
         "xaxis": "x",
         "y": {
          "bdata": "dGVHh97SMUBtsXN4fHQyQA==",
          "dtype": "f8"
         },
         "yaxis": "y"
        },
        {
         "marker": {
          "color": [
           "rgb(102,194,165)",
           "rgb(252,141,98)",
           "rgb(141,160,203)",
           "rgb(231,138,195)"
          ]
         },
         "name": "Age Group",
         "type": "bar",
         "x": [
          "18-25",
          "26-35",
          "36-45",
          "46-60"
         ],
         "xaxis": "x2",
         "y": {
          "bdata": "FsTkCmJlTkCNevrvHA1CQCyMXsdqUwpASocrG5Xa6T8=",
          "dtype": "f8"
         },
         "yaxis": "y2"
        },
        {
         "marker": {
          "color": [
           "#FFA500",
           "#32CD32"
          ]
         },
         "name": "Professional Status",
         "type": "bar",
         "x": [
          "Student",
          "Working Professional"
         ],
         "xaxis": "x3",
         "y": {
          "bdata": "8BASO2JGTUDbV5ed/l0gQA==",
          "dtype": "f8"
         },
         "yaxis": "y3"
        }
       ],
       "layout": {
        "annotations": [
         {
          "font": {
           "size": 16
          },
          "showarrow": false,
          "text": "Gender Parity",
          "x": 0.14444444444444446,
          "xanchor": "center",
          "xref": "paper",
          "y": 1,
          "yanchor": "bottom",
          "yref": "paper"
         },
         {
          "font": {
           "size": 16
          },
          "showarrow": false,
          "text": "Age Group Parity",
          "x": 0.5,
          "xanchor": "center",
          "xref": "paper",
          "y": 1,
          "yanchor": "bottom",
          "yref": "paper"
         },
         {
          "font": {
           "size": 16
          },
          "showarrow": false,
          "text": "Professional Status Parity",
          "x": 0.8555555555555556,
          "xanchor": "center",
          "xref": "paper",
          "y": 1,
          "yanchor": "bottom",
          "yref": "paper"
         }
        ],
        "height": 500,
        "showlegend": false,
        "template": {
         "data": {
          "bar": [
           {
            "error_x": {
             "color": "#2a3f5f"
            },
            "error_y": {
             "color": "#2a3f5f"
            },
            "marker": {
             "line": {
              "color": "#E5ECF6",
              "width": 0.5
             },
             "pattern": {
              "fillmode": "overlay",
              "size": 10,
              "solidity": 0.2
             }
            },
            "type": "bar"
           }
          ],
          "barpolar": [
           {
            "marker": {
             "line": {
              "color": "#E5ECF6",
              "width": 0.5
             },
             "pattern": {
              "fillmode": "overlay",
              "size": 10,
              "solidity": 0.2
             }
            },
            "type": "barpolar"
           }
          ],
          "carpet": [
           {
            "aaxis": {
             "endlinecolor": "#2a3f5f",
             "gridcolor": "white",
             "linecolor": "white",
             "minorgridcolor": "white",
             "startlinecolor": "#2a3f5f"
            },
            "baxis": {
             "endlinecolor": "#2a3f5f",
             "gridcolor": "white",
             "linecolor": "white",
             "minorgridcolor": "white",
             "startlinecolor": "#2a3f5f"
            },
            "type": "carpet"
           }
          ],
          "choropleth": [
           {
            "colorbar": {
             "outlinewidth": 0,
             "ticks": ""
            },
            "type": "choropleth"
           }
          ],
          "contour": [
           {
            "colorbar": {
             "outlinewidth": 0,
             "ticks": ""
            },
            "colorscale": [
             [
              0,
              "#0d0887"
             ],
             [
              0.1111111111111111,
              "#46039f"
             ],
             [
              0.2222222222222222,
              "#7201a8"
             ],
             [
              0.3333333333333333,
              "#9c179e"
             ],
             [
              0.4444444444444444,
              "#bd3786"
             ],
             [
              0.5555555555555556,
              "#d8576b"
             ],
             [
              0.6666666666666666,
              "#ed7953"
             ],
             [
              0.7777777777777778,
              "#fb9f3a"
             ],
             [
              0.8888888888888888,
              "#fdca26"
             ],
             [
              1,
              "#f0f921"
             ]
            ],
            "type": "contour"
           }
          ],
          "contourcarpet": [
           {
            "colorbar": {
             "outlinewidth": 0,
             "ticks": ""
            },
            "type": "contourcarpet"
           }
          ],
          "heatmap": [
           {
            "colorbar": {
             "outlinewidth": 0,
             "ticks": ""
            },
            "colorscale": [
             [
              0,
              "#0d0887"
             ],
             [
              0.1111111111111111,
              "#46039f"
             ],
             [
              0.2222222222222222,
              "#7201a8"
             ],
             [
              0.3333333333333333,
              "#9c179e"
             ],
             [
              0.4444444444444444,
              "#bd3786"
             ],
             [
              0.5555555555555556,
              "#d8576b"
             ],
             [
              0.6666666666666666,
              "#ed7953"
             ],
             [
              0.7777777777777778,
              "#fb9f3a"
             ],
             [
              0.8888888888888888,
              "#fdca26"
             ],
             [
              1,
              "#f0f921"
             ]
            ],
            "type": "heatmap"
           }
          ],
          "histogram": [
           {
            "marker": {
             "pattern": {
              "fillmode": "overlay",
              "size": 10,
              "solidity": 0.2
             }
            },
            "type": "histogram"
           }
          ],
          "histogram2d": [
           {
            "colorbar": {
             "outlinewidth": 0,
             "ticks": ""
            },
            "colorscale": [
             [
              0,
              "#0d0887"
             ],
             [
              0.1111111111111111,
              "#46039f"
             ],
             [
              0.2222222222222222,
              "#7201a8"
             ],
             [
              0.3333333333333333,
              "#9c179e"
             ],
             [
              0.4444444444444444,
              "#bd3786"
             ],
             [
              0.5555555555555556,
              "#d8576b"
             ],
             [
              0.6666666666666666,
              "#ed7953"
             ],
             [
              0.7777777777777778,
              "#fb9f3a"
             ],
             [
              0.8888888888888888,
              "#fdca26"
             ],
             [
              1,
              "#f0f921"
             ]
            ],
            "type": "histogram2d"
           }
          ],
          "histogram2dcontour": [
           {
            "colorbar": {
             "outlinewidth": 0,
             "ticks": ""
            },
            "colorscale": [
             [
              0,
              "#0d0887"
             ],
             [
              0.1111111111111111,
              "#46039f"
             ],
             [
              0.2222222222222222,
              "#7201a8"
             ],
             [
              0.3333333333333333,
              "#9c179e"
             ],
             [
              0.4444444444444444,
              "#bd3786"
             ],
             [
              0.5555555555555556,
              "#d8576b"
             ],
             [
              0.6666666666666666,
              "#ed7953"
             ],
             [
              0.7777777777777778,
              "#fb9f3a"
             ],
             [
              0.8888888888888888,
              "#fdca26"
             ],
             [
              1,
              "#f0f921"
             ]
            ],
            "type": "histogram2dcontour"
           }
          ],
          "mesh3d": [
           {
            "colorbar": {
             "outlinewidth": 0,
             "ticks": ""
            },
            "type": "mesh3d"
           }
          ],
          "parcoords": [
           {
            "line": {
             "colorbar": {
              "outlinewidth": 0,
              "ticks": ""
             }
            },
            "type": "parcoords"
           }
          ],
          "pie": [
           {
            "automargin": true,
            "type": "pie"
           }
          ],
          "scatter": [
           {
            "fillpattern": {
             "fillmode": "overlay",
             "size": 10,
             "solidity": 0.2
            },
            "type": "scatter"
           }
          ],
          "scatter3d": [
           {
            "line": {
             "colorbar": {
              "outlinewidth": 0,
              "ticks": ""
             }
            },
            "marker": {
             "colorbar": {
              "outlinewidth": 0,
              "ticks": ""
             }
            },
            "type": "scatter3d"
           }
          ],
          "scattercarpet": [
           {
            "marker": {
             "colorbar": {
              "outlinewidth": 0,
              "ticks": ""
             }
            },
            "type": "scattercarpet"
           }
          ],
          "scattergeo": [
           {
            "marker": {
             "colorbar": {
              "outlinewidth": 0,
              "ticks": ""
             }
            },
            "type": "scattergeo"
           }
          ],
          "scattergl": [
           {
            "marker": {
             "colorbar": {
              "outlinewidth": 0,
              "ticks": ""
             }
            },
            "type": "scattergl"
           }
          ],
          "scattermap": [
           {
            "marker": {
             "colorbar": {
              "outlinewidth": 0,
              "ticks": ""
             }
            },
            "type": "scattermap"
           }
          ],
          "scattermapbox": [
           {
            "marker": {
             "colorbar": {
              "outlinewidth": 0,
              "ticks": ""
             }
            },
            "type": "scattermapbox"
           }
          ],
          "scatterpolar": [
           {
            "marker": {
             "colorbar": {
              "outlinewidth": 0,
              "ticks": ""
             }
            },
            "type": "scatterpolar"
           }
          ],
          "scatterpolargl": [
           {
            "marker": {
             "colorbar": {
              "outlinewidth": 0,
              "ticks": ""
             }
            },
            "type": "scatterpolargl"
           }
          ],
          "scatterternary": [
           {
            "marker": {
             "colorbar": {
              "outlinewidth": 0,
              "ticks": ""
             }
            },
            "type": "scatterternary"
           }
          ],
          "surface": [
           {
            "colorbar": {
             "outlinewidth": 0,
             "ticks": ""
            },
            "colorscale": [
             [
              0,
              "#0d0887"
             ],
             [
              0.1111111111111111,
              "#46039f"
             ],
             [
              0.2222222222222222,
              "#7201a8"
             ],
             [
              0.3333333333333333,
              "#9c179e"
             ],
             [
              0.4444444444444444,
              "#bd3786"
             ],
             [
              0.5555555555555556,
              "#d8576b"
             ],
             [
              0.6666666666666666,
              "#ed7953"
             ],
             [
              0.7777777777777778,
              "#fb9f3a"
             ],
             [
              0.8888888888888888,
              "#fdca26"
             ],
             [
              1,
              "#f0f921"
             ]
            ],
            "type": "surface"
           }
          ],
          "table": [
           {
            "cells": {
             "fill": {
              "color": "#EBF0F8"
             },
             "line": {
              "color": "white"
             }
            },
            "header": {
             "fill": {
              "color": "#C8D4E3"
             },
             "line": {
              "color": "white"
             }
            },
            "type": "table"
           }
          ]
         },
         "layout": {
          "annotationdefaults": {
           "arrowcolor": "#2a3f5f",
           "arrowhead": 0,
           "arrowwidth": 1
          },
          "autotypenumbers": "strict",
          "coloraxis": {
           "colorbar": {
            "outlinewidth": 0,
            "ticks": ""
           }
          },
          "colorscale": {
           "diverging": [
            [
             0,
             "#8e0152"
            ],
            [
             0.1,
             "#c51b7d"
            ],
            [
             0.2,
             "#de77ae"
            ],
            [
             0.3,
             "#f1b6da"
            ],
            [
             0.4,
             "#fde0ef"
            ],
            [
             0.5,
             "#f7f7f7"
            ],
            [
             0.6,
             "#e6f5d0"
            ],
            [
             0.7,
             "#b8e186"
            ],
            [
             0.8,
             "#7fbc41"
            ],
            [
             0.9,
             "#4d9221"
            ],
            [
             1,
             "#276419"
            ]
           ],
           "sequential": [
            [
             0,
             "#0d0887"
            ],
            [
             0.1111111111111111,
             "#46039f"
            ],
            [
             0.2222222222222222,
             "#7201a8"
            ],
            [
             0.3333333333333333,
             "#9c179e"
            ],
            [
             0.4444444444444444,
             "#bd3786"
            ],
            [
             0.5555555555555556,
             "#d8576b"
            ],
            [
             0.6666666666666666,
             "#ed7953"
            ],
            [
             0.7777777777777778,
             "#fb9f3a"
            ],
            [
             0.8888888888888888,
             "#fdca26"
            ],
            [
             1,
             "#f0f921"
            ]
           ],
           "sequentialminus": [
            [
             0,
             "#0d0887"
            ],
            [
             0.1111111111111111,
             "#46039f"
            ],
            [
             0.2222222222222222,
             "#7201a8"
            ],
            [
             0.3333333333333333,
             "#9c179e"
            ],
            [
             0.4444444444444444,
             "#bd3786"
            ],
            [
             0.5555555555555556,
             "#d8576b"
            ],
            [
             0.6666666666666666,
             "#ed7953"
            ],
            [
             0.7777777777777778,
             "#fb9f3a"
            ],
            [
             0.8888888888888888,
             "#fdca26"
            ],
            [
             1,
             "#f0f921"
            ]
           ]
          },
          "colorway": [
           "#636efa",
           "#EF553B",
           "#00cc96",
           "#ab63fa",
           "#FFA15A",
           "#19d3f3",
           "#FF6692",
           "#B6E880",
           "#FF97FF",
           "#FECB52"
          ],
          "font": {
           "color": "#2a3f5f"
          },
          "geo": {
           "bgcolor": "white",
           "lakecolor": "white",
           "landcolor": "#E5ECF6",
           "showlakes": true,
           "showland": true,
           "subunitcolor": "white"
          },
          "hoverlabel": {
           "align": "left"
          },
          "hovermode": "closest",
          "mapbox": {
           "style": "light"
          },
          "paper_bgcolor": "white",
          "plot_bgcolor": "#E5ECF6",
          "polar": {
           "angularaxis": {
            "gridcolor": "white",
            "linecolor": "white",
            "ticks": ""
           },
           "bgcolor": "#E5ECF6",
           "radialaxis": {
            "gridcolor": "white",
            "linecolor": "white",
            "ticks": ""
           }
          },
          "scene": {
           "xaxis": {
            "backgroundcolor": "#E5ECF6",
            "gridcolor": "white",
            "gridwidth": 2,
            "linecolor": "white",
            "showbackground": true,
            "ticks": "",
            "zerolinecolor": "white"
           },
           "yaxis": {
            "backgroundcolor": "#E5ECF6",
            "gridcolor": "white",
            "gridwidth": 2,
            "linecolor": "white",
            "showbackground": true,
            "ticks": "",
            "zerolinecolor": "white"
           },
           "zaxis": {
            "backgroundcolor": "#E5ECF6",
            "gridcolor": "white",
            "gridwidth": 2,
            "linecolor": "white",
            "showbackground": true,
            "ticks": "",
            "zerolinecolor": "white"
           }
          },
          "shapedefaults": {
           "line": {
            "color": "#2a3f5f"
           }
          },
          "ternary": {
           "aaxis": {
            "gridcolor": "white",
            "linecolor": "white",
            "ticks": ""
           },
           "baxis": {
            "gridcolor": "white",
            "linecolor": "white",
            "ticks": ""
           },
           "bgcolor": "#E5ECF6",
           "caxis": {
            "gridcolor": "white",
            "linecolor": "white",
            "ticks": ""
           }
          },
          "title": {
           "x": 0.05
          },
          "xaxis": {
           "automargin": true,
           "gridcolor": "white",
           "linecolor": "white",
           "ticks": "",
           "title": {
            "standoff": 15
           },
           "zerolinecolor": "white",
           "zerolinewidth": 2
          },
          "yaxis": {
           "automargin": true,
           "gridcolor": "white",
           "linecolor": "white",
           "ticks": "",
           "title": {
            "standoff": 15
           },
           "zerolinecolor": "white",
           "zerolinewidth": 2
          }
         }
        },
        "title": {
         "text": "Bias Detection: Depression Rates Across Demographic Groups",
         "x": 0.5
        },
        "xaxis": {
         "anchor": "y",
         "domain": [
          0,
          0.2888888888888889
         ]
        },
        "xaxis2": {
         "anchor": "y2",
         "domain": [
          0.35555555555555557,
          0.6444444444444445
         ]
        },
        "xaxis3": {
         "anchor": "y3",
         "domain": [
          0.7111111111111111,
          1
         ]
        },
        "yaxis": {
         "anchor": "x",
         "domain": [
          0,
          1
         ],
         "range": [
          0,
          65.7920545212766
         ],
         "title": {
          "text": "Depression Rate (%)"
         }
        },
        "yaxis2": {
         "anchor": "x2",
         "domain": [
          0,
          1
         ],
         "range": [
          0,
          65.7920545212766
         ],
         "title": {
          "text": "Depression Rate (%)"
         }
        },
        "yaxis3": {
         "anchor": "x3",
         "domain": [
          0,
          1
         ],
         "range": [
          0,
          65.7920545212766
         ],
         "title": {
          "text": "Depression Rate (%)"
         }
        }
       }
      }
     },
     "metadata": {},
     "output_type": "display_data"
    },
    {
     "name": "stdout",
     "output_type": "stream",
     "text": [
      "\n",
      " Group Parity Analysis: Fairness assessment across demographics\n",
      "\n",
      " BIAS DETECTION INSIGHTS:\n",
      "\n",
      "1. Gender Differences:\n",
      "   • Female: 17.8% depression rate\n",
      "   • Male: 18.5% depression rate\n",
      "\n",
      "2. Age Group Differences:\n",
      "   • 18-25: 60.8% depression rate\n",
      "   • 26-35: 36.1% depression rate\n",
      "   • 36-45: 3.3% depression rate\n",
      "   • 46-60: 0.8% depression rate\n",
      "\n",
      "3. Professional Status Differences:\n",
      "   • Student: 58.5% depression rate\n",
      "   • Working Professional: 8.2% depression rate\n",
      "\n",
      "4. Representation Balance:\n",
      "   • Male: 55.1% of dataset\n",
      "   • Female: 44.9% of dataset\n"
     ]
    }
   ],
   "source": [
    "\n",
    "print('Subtask 3.2.5: BIAS DETECTION AND FAIRNESS ANALYSIS VISUALIZATIONS')\n",
    "print('='*70)\n",
    "\n",
    "# Group Parity Analysis across Demographics\n",
    "demographic_groups = ['Gender_Clean', 'Age_Group', 'Working Professional or Student']\n",
    "fig_parity = make_subplots(rows=1, cols=3, \n",
    "                          subplot_titles=('Gender Parity', 'Age Group Parity', 'Professional Status Parity'),\n",
    "                          specs=[[{\"type\": \"bar\"}, {\"type\": \"bar\"}, {\"type\": \"bar\"}]])\n",
    "\n",
    "# Gender parity\n",
    "gender_stats = train_df.groupby('Gender_Clean')['Depression'].mean() * 100\n",
    "fig_parity.add_trace(\n",
    "    go.Bar(x=gender_stats.index, y=gender_stats.values, name='Gender', \n",
    "           marker_color=['#2E86AB', '#A23B72']),\n",
    "    row=1, col=1\n",
    ")\n",
    "\n",
    "# Age group parity\n",
    "age_stats = train_df.groupby('Age_Group')['Depression'].mean() * 100\n",
    "fig_parity.add_trace(\n",
    "    go.Bar(x=age_stats.index, y=age_stats.values, name='Age Group', \n",
    "           marker_color=px.colors.qualitative.Set2[:len(age_stats)]),\n",
    "    row=1, col=2\n",
    ")\n",
    "\n",
    "# Professional status parity\n",
    "prof_stats = train_df.groupby('Working Professional or Student')['Depression'].mean() * 100\n",
    "fig_parity.add_trace(\n",
    "    go.Bar(x=prof_stats.index, y=prof_stats.values, name='Professional Status', \n",
    "           marker_color=['#FFA500', '#32CD32']),\n",
    "    row=1, col=3\n",
    ")\n",
    "\n",
    "fig_parity.update_layout(\n",
    "    title_text=\"Bias Detection: Depression Rates Across Demographic Groups\",\n",
    "    title_x=0.5,\n",
    "    height=500,\n",
    "    showlegend=False\n",
    ")\n",
    "\n",
    "fig_parity.update_yaxes(title_text=\"Depression Rate (%)\", range=[0, max(gender_stats.max(), age_stats.max(), prof_stats.max()) + 5])\n",
    "\n",
    "fig_parity.show()\n",
    "print(\"\\n Group Parity Analysis: Fairness assessment across demographics\")\n",
    "\n",
    "# Statistical significance testing\n",
    "print(\"\\n BIAS DETECTION INSIGHTS:\")\n",
    "print(f\"\\n1. Gender Differences:\")\n",
    "for gender, rate in gender_stats.items():\n",
    "    print(f\"   • {gender}: {rate:.1f}% depression rate\")\n",
    "\n",
    "print(f\"\\n2. Age Group Differences:\")\n",
    "for age_group, rate in age_stats.items():\n",
    "    print(f\"   • {age_group}: {rate:.1f}% depression rate\")\n",
    "\n",
    "print(f\"\\n3. Professional Status Differences:\")\n",
    "for status, rate in prof_stats.items():\n",
    "    print(f\"   • {status}: {rate:.1f}% depression rate\")\n",
    "\n",
    "# Calculate representation balance\n",
    "print(f\"\\n4. Representation Balance:\")\n",
    "total_samples = len(train_df)\n",
    "gender_balance = train_df['Gender_Clean'].value_counts(normalize=True) * 100\n",
    "for gender, percentage in gender_balance.items():\n",
    "    print(f\"   • {gender}: {percentage:.1f}% of dataset\")"
   ]
  },
  {
   "cell_type": "markdown",
   "id": "2e6d9575",
   "metadata": {},
   "source": [
    "## Summary and Completion\n"
   ]
  },
  {
   "cell_type": "code",
   "execution_count": 70,
   "id": "91bfaae4",
   "metadata": {},
   "outputs": [
    {
     "name": "stdout",
     "output_type": "stream",
     "text": [
      "TASK 3.2: BUSINESS INSIGHTS ANALYSIS - COMPLETED\n",
      "==================================================\n",
      " COMPREHENSIVE BUSINESS INSIGHTS DELIVERED:\n",
      "\n",
      "✓ Interactive Plotly Visualizations:\n",
      "  • Sunburst charts for demographic hierarchy\n",
      "  • 3D scatter plots for lifestyle analysis\n",
      "  • Sankey diagrams for risk factor flows\n",
      "  • Radar charts for profile comparisons\n",
      "  • Geographic analysis and city-wise insights\n",
      "\n",
      "✓ Advanced Seaborn Statistical Analysis:\n",
      "  • Hierarchical correlation cluster maps\n",
      "  • Feature relationship quantification\n",
      "  • Statistical significance assessment\n",
      "\n",
      "✓ Bias Detection & Fairness Analysis:\n",
      "  • Group parity across demographics\n",
      "  • Representation balance assessment\n",
      "  • Fairness metrics for model development\n",
      "\n",
      "✓ Key Business Insights Discovered:\n",
      "  • Demographic patterns in depression prevalence\n",
      "  • Lifestyle factor impacts quantified\n",
      "  • Risk factor pathways identified\n",
      "  • Multi-dimensional relationship patterns\n",
      "  • Bias considerations for ethical AI\n",
      "\n",
      "Task 3.2: Business Insights Analysis - COMPLETED\n",
      "All visualizations created using Plotly and Seaborn as requested!\n",
      "Ready for Task 3.3: Advanced Visualizations!\n"
     ]
    }
   ],
   "source": [
    "\n",
    "print('TASK 3.2: BUSINESS INSIGHTS ANALYSIS - COMPLETED')\n",
    "print('='*50)\n",
    "\n",
    "print(' COMPREHENSIVE BUSINESS INSIGHTS DELIVERED:')\n",
    "print('\\n✓ Interactive Plotly Visualizations:')\n",
    "print('  • Sunburst charts for demographic hierarchy')\n",
    "print('  • 3D scatter plots for lifestyle analysis')\n",
    "print('  • Sankey diagrams for risk factor flows')\n",
    "print('  • Radar charts for profile comparisons')\n",
    "print('  • Geographic analysis and city-wise insights')\n",
    "\n",
    "print('\\n✓ Advanced Seaborn Statistical Analysis:')\n",
    "print('  • Hierarchical correlation cluster maps')\n",
    "print('  • Feature relationship quantification')\n",
    "print('  • Statistical significance assessment')\n",
    "\n",
    "print('\\n✓ Bias Detection & Fairness Analysis:')\n",
    "print('  • Group parity across demographics')\n",
    "print('  • Representation balance assessment')\n",
    "print('  • Fairness metrics for model development')\n",
    "\n",
    "print('\\n✓ Key Business Insights Discovered:')\n",
    "print('  • Demographic patterns in depression prevalence')\n",
    "print('  • Lifestyle factor impacts quantified')\n",
    "print('  • Risk factor pathways identified')\n",
    "print('  • Multi-dimensional relationship patterns')\n",
    "print('  • Bias considerations for ethical AI')\n",
    "\n",
    "print('\\nTask 3.2: Business Insights Analysis - COMPLETED')\n",
    "print('All visualizations created using Plotly and Seaborn as requested!')\n",
    "print('Ready for Task 3.3: Advanced Visualizations!')"
   ]
  },
  {
   "cell_type": "code",
   "execution_count": 7,
   "id": "d95bf6e4",
   "metadata": {},
   "outputs": [
    {
     "data": {
      "text/plain": [
       "Index(['id', 'Name', 'Gender', 'Age', 'City',\n",
       "       'Working Professional or Student', 'Profession', 'Academic Pressure',\n",
       "       'Work Pressure', 'CGPA', 'Study Satisfaction', 'Job Satisfaction',\n",
       "       'Sleep Duration', 'Dietary Habits', 'Degree',\n",
       "       'Have you ever had suicidal thoughts ?', 'Work/Study Hours',\n",
       "       'Financial Stress', 'Family History of Mental Illness', 'Depression'],\n",
       "      dtype='object')"
      ]
     },
     "execution_count": 7,
     "metadata": {},
     "output_type": "execute_result"
    }
   ],
   "source": [
    "df = pd.read_csv(\"/Users/muralidharanv/Documents/GUVI /PROJECTS/Mental Health Survey/data/playground-series-s4e11/train.csv\")\n",
    "df.columns"
   ]
  },
  {
   "cell_type": "markdown",
   "id": "14245dd3",
   "metadata": {},
   "source": [
    "# Task 4.1: Data Cleaning\n",
    "## Mental Health Depression Prediction Project\n",
    "\n",
    "### Objective\n",
    "Implement comprehensive data cleaning pipeline to ensure data quality and prepare dataset for preprocessing strategy design.\n",
    "\n",
    "### Subtasks\n",
    "- 4.1.1: Missing Value Analysis and Handling\n",
    "- 4.1.2: Duplicate Detection and Removal\n",
    "- 4.1.3: Outlier Detection and Treatment\n",
    "- 4.1.4: Data Type Validation and Consistency"
   ]
  },
  {
   "cell_type": "code",
   "execution_count": 71,
   "id": "34b8d8af",
   "metadata": {},
   "outputs": [
    {
     "name": "stdout",
     "output_type": "stream",
     "text": [
      "Remaining literal-'nan' strings in Profession: 0\n",
      " Missing values handled.\n",
      "\n",
      "Columns with missing indicators added:\n",
      "['Academic Pressure_missing', 'Work Pressure_missing', 'CGPA_missing', 'Study Satisfaction_missing', 'Job Satisfaction_missing', 'Financial Stress_missing']\n",
      "\n",
      "Remaining missing counts (should be all 0 now):\n",
      "Age                           0\n",
      "Work/Study Hours              0\n",
      "Job Satisfaction_missing      0\n",
      "Study Satisfaction_missing    0\n",
      "CGPA_missing                  0\n",
      "Work Pressure_missing         0\n",
      "Academic Pressure_missing     0\n",
      "Gender_Clean                  0\n",
      "Depression_Label              0\n",
      "Age_Group                     0\n",
      "dtype: int64\n",
      "\n",
      "Duplicates removed: 0\n",
      "\n",
      "Outliers detected per column: {'id': 0, 'Age': 0, 'Academic Pressure': 0, 'Work Pressure': 0, 'CGPA': 0, 'Study Satisfaction': 0, 'Job Satisfaction': 0, 'Work/Study Hours': 0, 'Financial Stress': 0, 'Depression': 25567}\n",
      "\n",
      "Data type conversions applied: {'Have you ever had suicidal thoughts ?': 'converted_to_boolean', 'Family History of Mental Illness': 'converted_to_boolean'}\n",
      "\n",
      " Cleaned dataset saved as 'cleaned_train.csv'\n"
     ]
    }
   ],
   "source": [
    "\n",
    "# -------------------------\n",
    "# 4.1.1 Missing Value Analysis and Handling\n",
    "# -------------------------\n",
    "def handle_missing_values_custom(df):\n",
    "    # -------------------------\n",
    "    # Drop irrelevant columns\n",
    "    # -------------------------\n",
    "    drop_cols = [\"id\", \"Name\", \"Gender\", \"Depression\"]  # not useful for modeling\n",
    "    df = df.drop(columns=drop_cols, errors=\"ignore\")\n",
    "    \n",
    "    # -------------------------\n",
    "    # Add missing indicators\n",
    "    # -------------------------\n",
    "    for col in df.columns:\n",
    "        if df[col].isnull().any():\n",
    "            df[col + \"_missing\"] = df[col].isnull().astype(int)\n",
    "    \n",
    "    # -------------------------\n",
    "    # Special imputation for Profession\n",
    "    # -------------------------\n",
    "    # Assumes `df` exists and has columns 'Profession' and 'Working Professional or Student'\n",
    "\n",
    "    # mask rows where Profession (as string) equals 'nan' after strip/lower\n",
    "    prof_is_literal_nan = df['Profession'].astype(str).str.strip().str.lower() == 'nan'\n",
    "\n",
    "    # compute mode from rows that are NOT literal 'nan' (protect if none exist)\n",
    "    non_nan_mask = ~prof_is_literal_nan\n",
    "    if non_nan_mask.any():\n",
    "        mode_prof = df.loc[non_nan_mask, 'Profession'].mode().iloc[0]\n",
    "    else:\n",
    "        mode_prof = 'unknown'\n",
    "\n",
    "    # boolean series where WP column indicates student (normalized)\n",
    "    wp_is_student = df['Working Professional or Student'].astype(str).str.strip().str.lower() == 'student'\n",
    "\n",
    "    # fill rules:\n",
    "    # if Profession is literal 'nan' and WP==student -> 'student'\n",
    "    df.loc[prof_is_literal_nan & wp_is_student, 'Profession'] = 'student'\n",
    "    # else if Profession is literal 'nan' -> mode\n",
    "    df.loc[prof_is_literal_nan & ~wp_is_student, 'Profession'] = mode_prof\n",
    "\n",
    "    # quick check\n",
    "    print(\"Remaining literal-'nan' strings in Profession:\", \n",
    "        (df['Profession'].astype(str).str.strip().str.lower() == 'nan').sum())\n",
    "\n",
    "\n",
    "    \n",
    "    # -------------------------\n",
    "    # General imputation for other columns\n",
    "    # -------------------------\n",
    "    for col in df.columns:\n",
    "        if df[col].isnull().any():\n",
    "            if df[col].dtype in [\"int64\", \"float64\"]:\n",
    "                df[col] = df[col].fillna(df[col].median())   # numeric → median\n",
    "            else:\n",
    "                df[col] = df[col].fillna(\"Unknown\")          # categorical → Unknown\n",
    "    \n",
    "    # -------------------------\n",
    "    # Report summary\n",
    "    # -------------------------\n",
    "    missing_report = df.isnull().sum().sort_values(ascending=False)\n",
    "    print(\" Missing values handled.\")\n",
    "    print(\"\\nColumns with missing indicators added:\")\n",
    "    print([c for c in df.columns if c.endswith(\"_missing\")])\n",
    "    print(\"\\nRemaining missing counts (should be all 0 now):\")\n",
    "    print(missing_report.head(10))\n",
    "    \n",
    "    return df\n",
    "# -------------------------\n",
    "# 4.1.2 Duplicate Detection and Removal\n",
    "# -------------------------\n",
    "def remove_duplicates(df):\n",
    "    duplicate_count = df.duplicated().sum()\n",
    "    df = df.drop_duplicates().reset_index(drop=True)\n",
    "    return df, duplicate_count\n",
    "\n",
    "# -------------------------\n",
    "# 4.1.3 Outlier Detection and Treatment (IQR method)\n",
    "# -------------------------\n",
    "def treat_outliers(df):\n",
    "    numeric_cols = df.select_dtypes(include=[np.number]).columns\n",
    "    outlier_report = {}\n",
    "    \n",
    "    for col in numeric_cols:\n",
    "        Q1 = df[col].quantile(0.25)\n",
    "        Q3 = df[col].quantile(0.75)\n",
    "        IQR = Q3 - Q1\n",
    "        lower = Q1 - 1.5 * IQR\n",
    "        upper = Q3 + 1.5 * IQR\n",
    "        \n",
    "        outliers = ((df[col] < lower) | (df[col] > upper)).sum()\n",
    "        outlier_report[col] = int(outliers)\n",
    "        \n",
    "        # Clip to bounds (winsorization)\n",
    "        df[col] = df[col].clip(lower, upper)\n",
    "    \n",
    "    return df, outlier_report\n",
    "\n",
    "# -------------------------\n",
    "# 4.1.4 Data Type Validation and Consistency\n",
    "# -------------------------\n",
    "def validate_and_fix_dtypes(df):\n",
    "    conversion_report = {}\n",
    "    \n",
    "    for col in df.columns:\n",
    "        # Try convert to datetime if >50% values can be parsed\n",
    "        if df[col].dtype == \"object\":\n",
    "            parsed = pd.to_datetime(df[col], errors=\"coerce\")\n",
    "            if parsed.notna().sum() / len(df) > 0.5:\n",
    "                df[col] = parsed\n",
    "                conversion_report[col] = \"converted_to_datetime\"\n",
    "            else:\n",
    "                # Standardize string formatting\n",
    "                df[col] = df[col].astype(str).str.strip().str.lower()\n",
    "        \n",
    "        # Convert boolean-like text to 0/1\n",
    "        if df[col].dtype == \"object\":\n",
    "            if df[col].str.lower().isin([\"yes\",\"no\",\"true\",\"false\",\"y\",\"n\",\"0\",\"1\"]).all():\n",
    "                df[col] = df[col].str.lower().map({\n",
    "                    \"yes\":1, \"true\":1, \"y\":1, \"1\":1,\n",
    "                    \"no\":0, \"false\":0, \"n\":0, \"0\":0\n",
    "                }).astype(int)\n",
    "                conversion_report[col] = \"converted_to_boolean\"\n",
    "    \n",
    "    return df, conversion_report\n",
    "\n",
    "# -------------------------\n",
    "# Execute Cleaning Pipeline\n",
    "# -------------------------\n",
    "\n",
    "# Duplicates\n",
    "df, duplicate_count = remove_duplicates(train_df)\n",
    "\n",
    "# Outliers\n",
    "df, outlier_report = treat_outliers(train_df)\n",
    "\n",
    "# Data type validation\n",
    "df, dtype_report = validate_and_fix_dtypes(train_df)\n",
    "\n",
    "# Missing values\n",
    "df = handle_missing_values_custom(train_df)\n",
    "\n",
    "# -------------------------\n",
    "# Final Reports\n",
    "# -------------------------\n",
    "#print(\"Dropped columns (high missing):\", dropped_cols.tolist())\n",
    "#print(\"\\nMissing Value Summary:\\n\", missing_summary.head())\n",
    "print(\"\\nDuplicates removed:\", duplicate_count)\n",
    "print(\"\\nOutliers detected per column:\", outlier_report)\n",
    "print(\"\\nData type conversions applied:\", dtype_report)\n",
    "\n",
    "# Save cleaned dataset\n",
    "df.to_csv(\"cleaned_train.csv\", index=False)\n",
    "print(\"\\n Cleaned dataset saved as 'cleaned_train.csv'\")\n"
   ]
  },
  {
   "cell_type": "markdown",
   "id": "402afdc6",
   "metadata": {},
   "source": [
    "# 4.2 Creating features for feature engineering."
   ]
  },
  {
   "cell_type": "code",
   "execution_count": 72,
   "id": "c3ddbcf1",
   "metadata": {},
   "outputs": [
    {
     "name": "stdout",
     "output_type": "stream",
     "text": [
      " Added 3 new features: lifestyle_risk_score, age_profession_combo, mental_health_risk_score\n"
     ]
    },
    {
     "data": {
      "text/html": [
       "<div>\n",
       "<style scoped>\n",
       "    .dataframe tbody tr th:only-of-type {\n",
       "        vertical-align: middle;\n",
       "    }\n",
       "\n",
       "    .dataframe tbody tr th {\n",
       "        vertical-align: top;\n",
       "    }\n",
       "\n",
       "    .dataframe thead th {\n",
       "        text-align: right;\n",
       "    }\n",
       "</style>\n",
       "<table border=\"1\" class=\"dataframe\">\n",
       "  <thead>\n",
       "    <tr style=\"text-align: right;\">\n",
       "      <th></th>\n",
       "      <th>Age</th>\n",
       "      <th>City</th>\n",
       "      <th>Working Professional or Student</th>\n",
       "      <th>Profession</th>\n",
       "      <th>Academic Pressure</th>\n",
       "      <th>Work Pressure</th>\n",
       "      <th>CGPA</th>\n",
       "      <th>Study Satisfaction</th>\n",
       "      <th>Job Satisfaction</th>\n",
       "      <th>Sleep Duration</th>\n",
       "      <th>Dietary Habits</th>\n",
       "      <th>Degree</th>\n",
       "      <th>Have you ever had suicidal thoughts ?</th>\n",
       "      <th>Work/Study Hours</th>\n",
       "      <th>Financial Stress</th>\n",
       "      <th>Family History of Mental Illness</th>\n",
       "      <th>Age_Group</th>\n",
       "      <th>Depression_Label</th>\n",
       "      <th>Gender_Clean</th>\n",
       "      <th>Academic Pressure_missing</th>\n",
       "      <th>Work Pressure_missing</th>\n",
       "      <th>CGPA_missing</th>\n",
       "      <th>Study Satisfaction_missing</th>\n",
       "      <th>Job Satisfaction_missing</th>\n",
       "      <th>Financial Stress_missing</th>\n",
       "      <th>lifestyle_risk_score</th>\n",
       "      <th>age_profession_combo</th>\n",
       "      <th>mental_health_risk_score</th>\n",
       "    </tr>\n",
       "  </thead>\n",
       "  <tbody>\n",
       "    <tr>\n",
       "      <th>0</th>\n",
       "      <td>49</td>\n",
       "      <td>ludhiana</td>\n",
       "      <td>working professional</td>\n",
       "      <td>chef</td>\n",
       "      <td>3.0</td>\n",
       "      <td>5.0</td>\n",
       "      <td>7.77</td>\n",
       "      <td>3.0</td>\n",
       "      <td>2.0</td>\n",
       "      <td>more than 8 hours</td>\n",
       "      <td>healthy</td>\n",
       "      <td>bhm</td>\n",
       "      <td>0</td>\n",
       "      <td>1</td>\n",
       "      <td>2.0</td>\n",
       "      <td>0</td>\n",
       "      <td>46-60</td>\n",
       "      <td>no depression</td>\n",
       "      <td>female</td>\n",
       "      <td>1</td>\n",
       "      <td>0</td>\n",
       "      <td>1</td>\n",
       "      <td>1</td>\n",
       "      <td>0</td>\n",
       "      <td>0</td>\n",
       "      <td>3.0</td>\n",
       "      <td>46-60_working professional</td>\n",
       "      <td>1.7</td>\n",
       "    </tr>\n",
       "    <tr>\n",
       "      <th>1</th>\n",
       "      <td>26</td>\n",
       "      <td>varanasi</td>\n",
       "      <td>working professional</td>\n",
       "      <td>teacher</td>\n",
       "      <td>3.0</td>\n",
       "      <td>4.0</td>\n",
       "      <td>7.77</td>\n",
       "      <td>3.0</td>\n",
       "      <td>3.0</td>\n",
       "      <td>less than 5 hours</td>\n",
       "      <td>unhealthy</td>\n",
       "      <td>llb</td>\n",
       "      <td>1</td>\n",
       "      <td>7</td>\n",
       "      <td>3.0</td>\n",
       "      <td>0</td>\n",
       "      <td>26-35</td>\n",
       "      <td>depression</td>\n",
       "      <td>male</td>\n",
       "      <td>1</td>\n",
       "      <td>0</td>\n",
       "      <td>1</td>\n",
       "      <td>1</td>\n",
       "      <td>0</td>\n",
       "      <td>0</td>\n",
       "      <td>6.0</td>\n",
       "      <td>26-35_working professional</td>\n",
       "      <td>2.7</td>\n",
       "    </tr>\n",
       "    <tr>\n",
       "      <th>2</th>\n",
       "      <td>33</td>\n",
       "      <td>visakhapatnam</td>\n",
       "      <td>student</td>\n",
       "      <td>student</td>\n",
       "      <td>5.0</td>\n",
       "      <td>3.0</td>\n",
       "      <td>8.97</td>\n",
       "      <td>2.0</td>\n",
       "      <td>3.0</td>\n",
       "      <td>5-6 hours</td>\n",
       "      <td>healthy</td>\n",
       "      <td>b.pharm</td>\n",
       "      <td>1</td>\n",
       "      <td>3</td>\n",
       "      <td>1.0</td>\n",
       "      <td>0</td>\n",
       "      <td>26-35</td>\n",
       "      <td>depression</td>\n",
       "      <td>male</td>\n",
       "      <td>0</td>\n",
       "      <td>1</td>\n",
       "      <td>0</td>\n",
       "      <td>0</td>\n",
       "      <td>1</td>\n",
       "      <td>0</td>\n",
       "      <td>3.0</td>\n",
       "      <td>26-35_student</td>\n",
       "      <td>1.4</td>\n",
       "    </tr>\n",
       "    <tr>\n",
       "      <th>3</th>\n",
       "      <td>22</td>\n",
       "      <td>mumbai</td>\n",
       "      <td>working professional</td>\n",
       "      <td>teacher</td>\n",
       "      <td>3.0</td>\n",
       "      <td>5.0</td>\n",
       "      <td>7.77</td>\n",
       "      <td>3.0</td>\n",
       "      <td>1.0</td>\n",
       "      <td>less than 5 hours</td>\n",
       "      <td>moderate</td>\n",
       "      <td>bba</td>\n",
       "      <td>1</td>\n",
       "      <td>10</td>\n",
       "      <td>1.0</td>\n",
       "      <td>1</td>\n",
       "      <td>18-25</td>\n",
       "      <td>depression</td>\n",
       "      <td>male</td>\n",
       "      <td>1</td>\n",
       "      <td>0</td>\n",
       "      <td>1</td>\n",
       "      <td>1</td>\n",
       "      <td>0</td>\n",
       "      <td>0</td>\n",
       "      <td>5.0</td>\n",
       "      <td>18-25_working professional</td>\n",
       "      <td>2.4</td>\n",
       "    </tr>\n",
       "    <tr>\n",
       "      <th>4</th>\n",
       "      <td>30</td>\n",
       "      <td>kanpur</td>\n",
       "      <td>working professional</td>\n",
       "      <td>business analyst</td>\n",
       "      <td>3.0</td>\n",
       "      <td>1.0</td>\n",
       "      <td>7.77</td>\n",
       "      <td>3.0</td>\n",
       "      <td>1.0</td>\n",
       "      <td>5-6 hours</td>\n",
       "      <td>unhealthy</td>\n",
       "      <td>bba</td>\n",
       "      <td>1</td>\n",
       "      <td>9</td>\n",
       "      <td>4.0</td>\n",
       "      <td>1</td>\n",
       "      <td>26-35</td>\n",
       "      <td>no depression</td>\n",
       "      <td>female</td>\n",
       "      <td>1</td>\n",
       "      <td>0</td>\n",
       "      <td>1</td>\n",
       "      <td>1</td>\n",
       "      <td>0</td>\n",
       "      <td>0</td>\n",
       "      <td>5.0</td>\n",
       "      <td>26-35_working professional</td>\n",
       "      <td>2.3</td>\n",
       "    </tr>\n",
       "    <tr>\n",
       "      <th>...</th>\n",
       "      <td>...</td>\n",
       "      <td>...</td>\n",
       "      <td>...</td>\n",
       "      <td>...</td>\n",
       "      <td>...</td>\n",
       "      <td>...</td>\n",
       "      <td>...</td>\n",
       "      <td>...</td>\n",
       "      <td>...</td>\n",
       "      <td>...</td>\n",
       "      <td>...</td>\n",
       "      <td>...</td>\n",
       "      <td>...</td>\n",
       "      <td>...</td>\n",
       "      <td>...</td>\n",
       "      <td>...</td>\n",
       "      <td>...</td>\n",
       "      <td>...</td>\n",
       "      <td>...</td>\n",
       "      <td>...</td>\n",
       "      <td>...</td>\n",
       "      <td>...</td>\n",
       "      <td>...</td>\n",
       "      <td>...</td>\n",
       "      <td>...</td>\n",
       "      <td>...</td>\n",
       "      <td>...</td>\n",
       "      <td>...</td>\n",
       "    </tr>\n",
       "    <tr>\n",
       "      <th>140695</th>\n",
       "      <td>18</td>\n",
       "      <td>ahmedabad</td>\n",
       "      <td>working professional</td>\n",
       "      <td>teacher</td>\n",
       "      <td>3.0</td>\n",
       "      <td>5.0</td>\n",
       "      <td>7.77</td>\n",
       "      <td>3.0</td>\n",
       "      <td>4.0</td>\n",
       "      <td>5-6 hours</td>\n",
       "      <td>unhealthy</td>\n",
       "      <td>class 12</td>\n",
       "      <td>0</td>\n",
       "      <td>2</td>\n",
       "      <td>4.0</td>\n",
       "      <td>1</td>\n",
       "      <td>18-25</td>\n",
       "      <td>depression</td>\n",
       "      <td>female</td>\n",
       "      <td>1</td>\n",
       "      <td>0</td>\n",
       "      <td>1</td>\n",
       "      <td>1</td>\n",
       "      <td>0</td>\n",
       "      <td>0</td>\n",
       "      <td>5.0</td>\n",
       "      <td>18-25_working professional</td>\n",
       "      <td>2.3</td>\n",
       "    </tr>\n",
       "    <tr>\n",
       "      <th>140696</th>\n",
       "      <td>41</td>\n",
       "      <td>hyderabad</td>\n",
       "      <td>working professional</td>\n",
       "      <td>content writer</td>\n",
       "      <td>3.0</td>\n",
       "      <td>5.0</td>\n",
       "      <td>7.77</td>\n",
       "      <td>3.0</td>\n",
       "      <td>4.0</td>\n",
       "      <td>7-8 hours</td>\n",
       "      <td>moderate</td>\n",
       "      <td>b.tech</td>\n",
       "      <td>1</td>\n",
       "      <td>6</td>\n",
       "      <td>5.0</td>\n",
       "      <td>1</td>\n",
       "      <td>36-45</td>\n",
       "      <td>no depression</td>\n",
       "      <td>female</td>\n",
       "      <td>1</td>\n",
       "      <td>0</td>\n",
       "      <td>1</td>\n",
       "      <td>1</td>\n",
       "      <td>0</td>\n",
       "      <td>0</td>\n",
       "      <td>3.0</td>\n",
       "      <td>36-45_working professional</td>\n",
       "      <td>1.6</td>\n",
       "    </tr>\n",
       "    <tr>\n",
       "      <th>140697</th>\n",
       "      <td>24</td>\n",
       "      <td>kolkata</td>\n",
       "      <td>working professional</td>\n",
       "      <td>marketing manager</td>\n",
       "      <td>3.0</td>\n",
       "      <td>3.0</td>\n",
       "      <td>7.77</td>\n",
       "      <td>3.0</td>\n",
       "      <td>1.0</td>\n",
       "      <td>more than 8 hours</td>\n",
       "      <td>moderate</td>\n",
       "      <td>b.com</td>\n",
       "      <td>0</td>\n",
       "      <td>4</td>\n",
       "      <td>4.0</td>\n",
       "      <td>0</td>\n",
       "      <td>18-25</td>\n",
       "      <td>no depression</td>\n",
       "      <td>female</td>\n",
       "      <td>1</td>\n",
       "      <td>0</td>\n",
       "      <td>1</td>\n",
       "      <td>1</td>\n",
       "      <td>0</td>\n",
       "      <td>0</td>\n",
       "      <td>4.0</td>\n",
       "      <td>18-25_working professional</td>\n",
       "      <td>2.0</td>\n",
       "    </tr>\n",
       "    <tr>\n",
       "      <th>140698</th>\n",
       "      <td>49</td>\n",
       "      <td>srinagar</td>\n",
       "      <td>working professional</td>\n",
       "      <td>plumber</td>\n",
       "      <td>3.0</td>\n",
       "      <td>5.0</td>\n",
       "      <td>7.77</td>\n",
       "      <td>3.0</td>\n",
       "      <td>2.0</td>\n",
       "      <td>5-6 hours</td>\n",
       "      <td>moderate</td>\n",
       "      <td>me</td>\n",
       "      <td>1</td>\n",
       "      <td>10</td>\n",
       "      <td>1.0</td>\n",
       "      <td>0</td>\n",
       "      <td>46-60</td>\n",
       "      <td>no depression</td>\n",
       "      <td>female</td>\n",
       "      <td>1</td>\n",
       "      <td>0</td>\n",
       "      <td>1</td>\n",
       "      <td>1</td>\n",
       "      <td>0</td>\n",
       "      <td>0</td>\n",
       "      <td>4.0</td>\n",
       "      <td>46-60_working professional</td>\n",
       "      <td>2.0</td>\n",
       "    </tr>\n",
       "    <tr>\n",
       "      <th>140699</th>\n",
       "      <td>27</td>\n",
       "      <td>patna</td>\n",
       "      <td>student</td>\n",
       "      <td>student</td>\n",
       "      <td>4.0</td>\n",
       "      <td>3.0</td>\n",
       "      <td>9.24</td>\n",
       "      <td>1.0</td>\n",
       "      <td>3.0</td>\n",
       "      <td>less than 5 hours</td>\n",
       "      <td>healthy</td>\n",
       "      <td>bca</td>\n",
       "      <td>1</td>\n",
       "      <td>2</td>\n",
       "      <td>3.0</td>\n",
       "      <td>1</td>\n",
       "      <td>26-35</td>\n",
       "      <td>depression</td>\n",
       "      <td>male</td>\n",
       "      <td>0</td>\n",
       "      <td>1</td>\n",
       "      <td>0</td>\n",
       "      <td>0</td>\n",
       "      <td>1</td>\n",
       "      <td>0</td>\n",
       "      <td>4.0</td>\n",
       "      <td>26-35_student</td>\n",
       "      <td>1.8</td>\n",
       "    </tr>\n",
       "  </tbody>\n",
       "</table>\n",
       "<p>140700 rows × 28 columns</p>\n",
       "</div>"
      ],
      "text/plain": [
       "        Age           City Working Professional or Student         Profession  \\\n",
       "0        49       ludhiana            working professional               chef   \n",
       "1        26       varanasi            working professional            teacher   \n",
       "2        33  visakhapatnam                         student            student   \n",
       "3        22         mumbai            working professional            teacher   \n",
       "4        30         kanpur            working professional   business analyst   \n",
       "...     ...            ...                             ...                ...   \n",
       "140695   18      ahmedabad            working professional            teacher   \n",
       "140696   41      hyderabad            working professional     content writer   \n",
       "140697   24        kolkata            working professional  marketing manager   \n",
       "140698   49       srinagar            working professional            plumber   \n",
       "140699   27          patna                         student            student   \n",
       "\n",
       "        Academic Pressure  Work Pressure  CGPA  Study Satisfaction  \\\n",
       "0                     3.0            5.0  7.77                 3.0   \n",
       "1                     3.0            4.0  7.77                 3.0   \n",
       "2                     5.0            3.0  8.97                 2.0   \n",
       "3                     3.0            5.0  7.77                 3.0   \n",
       "4                     3.0            1.0  7.77                 3.0   \n",
       "...                   ...            ...   ...                 ...   \n",
       "140695                3.0            5.0  7.77                 3.0   \n",
       "140696                3.0            5.0  7.77                 3.0   \n",
       "140697                3.0            3.0  7.77                 3.0   \n",
       "140698                3.0            5.0  7.77                 3.0   \n",
       "140699                4.0            3.0  9.24                 1.0   \n",
       "\n",
       "        Job Satisfaction     Sleep Duration Dietary Habits    Degree  \\\n",
       "0                    2.0  more than 8 hours        healthy       bhm   \n",
       "1                    3.0  less than 5 hours      unhealthy       llb   \n",
       "2                    3.0          5-6 hours        healthy   b.pharm   \n",
       "3                    1.0  less than 5 hours       moderate       bba   \n",
       "4                    1.0          5-6 hours      unhealthy       bba   \n",
       "...                  ...                ...            ...       ...   \n",
       "140695               4.0          5-6 hours      unhealthy  class 12   \n",
       "140696               4.0          7-8 hours       moderate    b.tech   \n",
       "140697               1.0  more than 8 hours       moderate     b.com   \n",
       "140698               2.0          5-6 hours       moderate        me   \n",
       "140699               3.0  less than 5 hours        healthy       bca   \n",
       "\n",
       "        Have you ever had suicidal thoughts ?  Work/Study Hours  \\\n",
       "0                                           0                 1   \n",
       "1                                           1                 7   \n",
       "2                                           1                 3   \n",
       "3                                           1                10   \n",
       "4                                           1                 9   \n",
       "...                                       ...               ...   \n",
       "140695                                      0                 2   \n",
       "140696                                      1                 6   \n",
       "140697                                      0                 4   \n",
       "140698                                      1                10   \n",
       "140699                                      1                 2   \n",
       "\n",
       "        Financial Stress  Family History of Mental Illness Age_Group  \\\n",
       "0                    2.0                                 0     46-60   \n",
       "1                    3.0                                 0     26-35   \n",
       "2                    1.0                                 0     26-35   \n",
       "3                    1.0                                 1     18-25   \n",
       "4                    4.0                                 1     26-35   \n",
       "...                  ...                               ...       ...   \n",
       "140695               4.0                                 1     18-25   \n",
       "140696               5.0                                 1     36-45   \n",
       "140697               4.0                                 0     18-25   \n",
       "140698               1.0                                 0     46-60   \n",
       "140699               3.0                                 1     26-35   \n",
       "\n",
       "       Depression_Label Gender_Clean  Academic Pressure_missing  \\\n",
       "0         no depression       female                          1   \n",
       "1            depression         male                          1   \n",
       "2            depression         male                          0   \n",
       "3            depression         male                          1   \n",
       "4         no depression       female                          1   \n",
       "...                 ...          ...                        ...   \n",
       "140695       depression       female                          1   \n",
       "140696    no depression       female                          1   \n",
       "140697    no depression       female                          1   \n",
       "140698    no depression       female                          1   \n",
       "140699       depression         male                          0   \n",
       "\n",
       "        Work Pressure_missing  CGPA_missing  Study Satisfaction_missing  \\\n",
       "0                           0             1                           1   \n",
       "1                           0             1                           1   \n",
       "2                           1             0                           0   \n",
       "3                           0             1                           1   \n",
       "4                           0             1                           1   \n",
       "...                       ...           ...                         ...   \n",
       "140695                      0             1                           1   \n",
       "140696                      0             1                           1   \n",
       "140697                      0             1                           1   \n",
       "140698                      0             1                           1   \n",
       "140699                      1             0                           0   \n",
       "\n",
       "        Job Satisfaction_missing  Financial Stress_missing  \\\n",
       "0                              0                         0   \n",
       "1                              0                         0   \n",
       "2                              1                         0   \n",
       "3                              0                         0   \n",
       "4                              0                         0   \n",
       "...                          ...                       ...   \n",
       "140695                         0                         0   \n",
       "140696                         0                         0   \n",
       "140697                         0                         0   \n",
       "140698                         0                         0   \n",
       "140699                         1                         0   \n",
       "\n",
       "        lifestyle_risk_score        age_profession_combo  \\\n",
       "0                        3.0  46-60_working professional   \n",
       "1                        6.0  26-35_working professional   \n",
       "2                        3.0               26-35_student   \n",
       "3                        5.0  18-25_working professional   \n",
       "4                        5.0  26-35_working professional   \n",
       "...                      ...                         ...   \n",
       "140695                   5.0  18-25_working professional   \n",
       "140696                   3.0  36-45_working professional   \n",
       "140697                   4.0  18-25_working professional   \n",
       "140698                   4.0  46-60_working professional   \n",
       "140699                   4.0               26-35_student   \n",
       "\n",
       "        mental_health_risk_score  \n",
       "0                            1.7  \n",
       "1                            2.7  \n",
       "2                            1.4  \n",
       "3                            2.4  \n",
       "4                            2.3  \n",
       "...                          ...  \n",
       "140695                       2.3  \n",
       "140696                       1.6  \n",
       "140697                       2.0  \n",
       "140698                       2.0  \n",
       "140699                       1.8  \n",
       "\n",
       "[140700 rows x 28 columns]"
      ]
     },
     "execution_count": 72,
     "metadata": {},
     "output_type": "execute_result"
    }
   ],
   "source": [
    "\n",
    "# Load cleaned dataset\n",
    "df = pd.read_csv(\"cleaned_train.csv\")\n",
    "\n",
    "# -------------------------\n",
    "# 1. Lifestyle Risk Score (Sleep + Diet)\n",
    "# -------------------------\n",
    "# Map Sleep Duration into categories (lower = higher risk)\n",
    "sleep_map = {\n",
    "    \"less than 5 hours\": 3,\n",
    "    \"5-6 hours\": 2,\n",
    "    \"7-8 hours\": 1,\n",
    "    \"more than 8 hours\": 2   # too much sleep also considered moderate risk\n",
    "}\n",
    "df[\"sleep_score\"] = df[\"Sleep Duration\"].map(sleep_map).fillna(2)\n",
    "\n",
    "# Map Dietary Habits into categories\n",
    "diet_map = {\n",
    "    \"healthy\": 1,\n",
    "    \"moderate\": 2,\n",
    "    \"unhealthy\": 3\n",
    "}\n",
    "df[\"diet_score\"] = df[\"Dietary Habits\"].map(diet_map).fillna(2)\n",
    "\n",
    "# Combine into lifestyle risk score (range 2–6, higher = worse)\n",
    "df[\"lifestyle_risk_score\"] = df[\"sleep_score\"] + df[\"diet_score\"]\n",
    "\n",
    "# -------------------------\n",
    "# 2. Age × Profession Combo\n",
    "# -------------------------\n",
    "df[\"age_profession_combo\"] = df[\"Age_Group\"].astype(str) + \"_\" + df[\"Working Professional or Student\"].astype(str)\n",
    "\n",
    "# -------------------------\n",
    "# 3. Mental Health Risk Composite Score\n",
    "# -------------------------\n",
    "# Weighted sum: sleep + diet + profession stress level\n",
    "# Assign higher risk to \"working professional\" compared to \"student\"\n",
    "df[\"profession_risk\"] = df[\"Working Professional or Student\"].map({\n",
    "    \"student\": 1,\n",
    "    \"working professional\": 2\n",
    "}).fillna(1)\n",
    "\n",
    "# Create composite score (normalize later if needed)\n",
    "df[\"mental_health_risk_score\"] = (\n",
    "    df[\"sleep_score\"] * 0.4 +\n",
    "    df[\"diet_score\"] * 0.3 +\n",
    "    df[\"profession_risk\"] * 0.3\n",
    ")\n",
    "\n",
    "# -------------------------\n",
    "# Drop helper columns if not needed\n",
    "# -------------------------\n",
    "df = df.drop(columns=[\"sleep_score\", \"diet_score\", \"profession_risk\"])\n",
    "\n",
    "# Save updated dataset\n",
    "df.to_csv(\"feature_engineered_train.csv\", index=False)\n",
    "\n",
    "print(\" Added 3 new features: lifestyle_risk_score, age_profession_combo, mental_health_risk_score\")\n",
    "df "
   ]
  },
  {
   "cell_type": "markdown",
   "id": "787bd80c",
   "metadata": {},
   "source": [
    "## Short Notes (Explainability)\n",
    "\n",
    "### 1. lifestyle_risk_score\n",
    "\n",
    "* Combines sleep duration and diet quality.\n",
    "\n",
    "* Poor sleep + unhealthy diet are strong risk factors for depression.\n",
    "\n",
    "* This feature captures combined lifestyle impact in a single score.\n",
    "\n",
    "### 2. age_profession_combo\n",
    "\n",
    "* Interaction of Age Group and Student/Working Professional.\n",
    "\n",
    "* Stress levels vary by both age and work/study context (e.g., young students vs mid-aged workers).\n",
    "\n",
    "* Helps the model learn group-specific risk patterns.\n",
    "\n",
    "### 3.mental_health_risk_score\n",
    "\n",
    "* Composite index from sleep, diet, and profession with weighted contribution.\n",
    "\n",
    "* Inspired by domain knowledge: sleep issues often carry slightly more weight.\n",
    "\n",
    "* Creates a continuous risk score that approximates mental health vulnerability."
   ]
  },
  {
   "cell_type": "markdown",
   "id": "1bd71043",
   "metadata": {},
   "source": [
    "# FEATURE ENCODING "
   ]
  },
  {
   "cell_type": "code",
   "execution_count": 73,
   "id": "8feb8c17",
   "metadata": {},
   "outputs": [
    {
     "name": "stdout",
     "output_type": "stream",
     "text": [
      "<class 'pandas.core.frame.DataFrame'>\n",
      "RangeIndex: 140700 entries, 0 to 140699\n",
      "Data columns (total 28 columns):\n",
      " #   Column                                 Non-Null Count   Dtype  \n",
      "---  ------                                 --------------   -----  \n",
      " 0   Age                                    140700 non-null  int64  \n",
      " 1   City                                   140700 non-null  object \n",
      " 2   Working Professional or Student        140700 non-null  object \n",
      " 3   Profession                             140700 non-null  object \n",
      " 4   Academic Pressure                      140700 non-null  float64\n",
      " 5   Work Pressure                          140700 non-null  float64\n",
      " 6   CGPA                                   140700 non-null  float64\n",
      " 7   Study Satisfaction                     140700 non-null  float64\n",
      " 8   Job Satisfaction                       140700 non-null  float64\n",
      " 9   Sleep Duration                         140700 non-null  object \n",
      " 10  Dietary Habits                         140696 non-null  object \n",
      " 11  Degree                                 140698 non-null  object \n",
      " 12  Have you ever had suicidal thoughts ?  140700 non-null  int64  \n",
      " 13  Work/Study Hours                       140700 non-null  int64  \n",
      " 14  Financial Stress                       140700 non-null  float64\n",
      " 15  Family History of Mental Illness       140700 non-null  int64  \n",
      " 16  Age_Group                              140700 non-null  object \n",
      " 17  Depression_Label                       140700 non-null  object \n",
      " 18  Gender_Clean                           140700 non-null  object \n",
      " 19  Academic Pressure_missing              140700 non-null  int64  \n",
      " 20  Work Pressure_missing                  140700 non-null  int64  \n",
      " 21  CGPA_missing                           140700 non-null  int64  \n",
      " 22  Study Satisfaction_missing             140700 non-null  int64  \n",
      " 23  Job Satisfaction_missing               140700 non-null  int64  \n",
      " 24  Financial Stress_missing               140700 non-null  int64  \n",
      " 25  lifestyle_risk_score                   140700 non-null  float64\n",
      " 26  age_profession_combo                   140700 non-null  object \n",
      " 27  mental_health_risk_score               140700 non-null  float64\n",
      "dtypes: float64(8), int64(10), object(10)\n",
      "memory usage: 30.1+ MB\n"
     ]
    }
   ],
   "source": [
    "\"\"\"\n",
    "try:\n",
    "    df_clean = pd.read_csv('../data/cleaned_depression_dataset.csv')\n",
    "    print(f\"Cleaned dataset loaded: {df_clean.shape}\")\n",
    "except FileNotFoundError:\n",
    "    print(\"Cleaned dataset not found. Loading original dataset...\")\n",
    "    df_clean = pd.read_csv('../data/Depression Dataset.csv')\n",
    "    # Apply basic cleaning\n",
    "    df_clean = df_clean.dropna().drop_duplicates()\n",
    "    print(f\"Basic cleaned dataset: {df_clean.shape}\")\n",
    "\"\"\"\n",
    "\n",
    "\n",
    "df_clean = pd.read_csv(\"feature_engineered_train.csv\")\n",
    "df_clean.info()"
   ]
  },
  {
   "cell_type": "code",
   "execution_count": null,
   "id": "30adcd6a",
   "metadata": {},
   "outputs": [
    {
     "data": {
      "text/plain": [
       "Index(['id', 'Name', 'Gender', 'Age', 'City',\n",
       "       'Working Professional or Student', 'Profession', 'Academic Pressure',\n",
       "       'Work Pressure', 'CGPA', 'Study Satisfaction', 'Job Satisfaction',\n",
       "       'Sleep Duration', 'Dietary Habits', 'Degree',\n",
       "       'Have you ever had suicidal thoughts ?', 'Work/Study Hours',\n",
       "       'Financial Stress', 'Family History of Mental Illness', 'Depression'],\n",
       "      dtype='object')"
      ]
     },
     "execution_count": 8,
     "metadata": {},
     "output_type": "execute_result"
    }
   ],
   "source": [
    "'Gender', 'Age', 'City',\n",
    "       'Working Professional or Student', 'Profession', 'Academic Pressure',\n",
    "       'Work Pressure', 'CGPA', 'Study Satisfaction', 'Job Satisfaction',\n",
    "       'Sleep Duration', 'Dietary Habits', 'Degree',\n",
    "       'Have you ever had suicidal thoughts ?', 'Work/Study Hours',\n",
    "       'Financial Stress', 'Family History of Mental Illness', 'Depression' "
   ]
  },
  {
   "cell_type": "markdown",
   "id": "518bcad7",
   "metadata": {},
   "source": [
    "## 4.2.1: Categorical Encoding Strategy Planning"
   ]
  },
  {
   "cell_type": "code",
   "execution_count": 75,
   "id": "5e500026",
   "metadata": {},
   "outputs": [
    {
     "name": "stdout",
     "output_type": "stream",
     "text": [
      "=== CATEGORICAL ENCODING STRATEGY ===\n",
      "\n",
      "Categorical columns: ['City', 'Working Professional or Student', 'Profession', 'Sleep Duration', 'Dietary Habits', 'Degree', 'Age_Group', 'Depression_Label', 'Gender_Clean', 'age_profession_combo']\n",
      "\n",
      "City:\n",
      "  Unique values: 98\n",
      "  Strategy: Label Encoding + Embedding\n",
      "  Sample values: ['ludhiana' 'varanasi' 'visakhapatnam' 'mumbai' 'kanpur']\n",
      "  Value counts: {'kalyan': np.int64(6591), 'patna': np.int64(5924), 'vasai-virar': np.int64(5765), 'kolkata': np.int64(5689), 'ahmedabad': np.int64(5613)}\n",
      "\n",
      "Working Professional or Student:\n",
      "  Unique values: 2\n",
      "  Strategy: Binary (LabelEncoder)\n",
      "  Sample values: ['working professional' 'student']\n",
      "  Value counts: {'working professional': np.int64(112799), 'student': np.int64(27901)}\n",
      "\n",
      "Profession:\n",
      "  Unique values: 58\n",
      "  Strategy: Label Encoding + Embedding\n",
      "  Sample values: ['chef' 'teacher' 'student' 'business analyst' 'finanancial analyst']\n",
      "  Value counts: {'teacher': np.int64(33677), 'student': np.int64(27874), 'content writer': np.int64(7814), 'architect': np.int64(4370), 'consultant': np.int64(4229)}\n",
      "\n",
      "Sleep Duration:\n",
      "  Unique values: 36\n",
      "  Strategy: Label Encoding + Embedding\n",
      "  Sample values: ['more than 8 hours' 'less than 5 hours' '5-6 hours' '7-8 hours'\n",
      " 'sleep_duration']\n",
      "  Value counts: {'less than 5 hours': np.int64(38784), '7-8 hours': np.int64(36969), 'more than 8 hours': np.int64(32726), '5-6 hours': np.int64(32142), '3-4 hours': np.int64(12)}\n",
      "\n",
      "Dietary Habits:\n",
      "  Unique values: 23\n",
      "  Strategy: Label Encoding + Embedding\n",
      "  Sample values: ['healthy' 'unhealthy' 'moderate' 'yes' 'pratham']\n",
      "  Value counts: {'moderate': np.int64(49705), 'unhealthy': np.int64(46227), 'healthy': np.int64(44741), 'yes': np.int64(2), 'no': np.int64(2)}\n",
      "\n",
      "Degree:\n",
      "  Unique values: 115\n",
      "  Strategy: Label Encoding + Embedding\n",
      "  Sample values: ['bhm' 'llb' 'b.pharm' 'bba' 'mca']\n",
      "  Value counts: {'class 12': np.int64(14729), 'b.ed': np.int64(11691), 'b.arch': np.int64(8742), 'b.com': np.int64(8113), 'b.pharm': np.int64(5856)}\n",
      "\n",
      "Age_Group:\n",
      "  Unique values: 4\n",
      "  Strategy: One-Hot Encoding\n",
      "  Sample values: ['46-60' '26-35' '18-25' '36-45']\n",
      "  Value counts: {'46-60': np.int64(57183), '36-45': np.int64(33488), '26-35': np.int64(25965), '18-25': np.int64(24064)}\n",
      "\n",
      "Depression_Label:\n",
      "  Unique values: 2\n",
      "  Strategy: Binary (LabelEncoder)\n",
      "  Sample values: ['no depression' 'depression']\n",
      "  Value counts: {'no depression': np.int64(115133), 'depression': np.int64(25567)}\n",
      "\n",
      "Gender_Clean:\n",
      "  Unique values: 2\n",
      "  Strategy: Binary (LabelEncoder)\n",
      "  Sample values: ['female' 'male']\n",
      "  Value counts: {'male': np.int64(77464), 'female': np.int64(63236)}\n",
      "\n",
      "age_profession_combo:\n",
      "  Unique values: 8\n",
      "  Strategy: Target Encoding\n",
      "  Sample values: ['46-60_working professional' '26-35_working professional' '26-35_student'\n",
      " '18-25_working professional' '36-45_working professional']\n",
      "  Value counts: {'46-60_working professional': np.int64(57172), '36-45_working professional': np.int64(33460), '18-25_student': np.int64(13957), '26-35_student': np.int64(13905), '26-35_working professional': np.int64(12060)}\n"
     ]
    }
   ],
   "source": [
    "\n",
    "# Analyze categorical features for encoding strategy\n",
    "print(\"=== CATEGORICAL ENCODING STRATEGY ===\")\n",
    "\n",
    "# Identify categorical columns\n",
    "categorical_cols = df_clean.select_dtypes(include=['object']).columns.tolist()\n",
    "print(f\"\\nCategorical columns: {categorical_cols}\")\n",
    "\n",
    "# Analyze each categorical feature\n",
    "encoding_strategy = []\n",
    "\n",
    "for col in categorical_cols:\n",
    "    unique_count = df_clean[col].nunique()\n",
    "    unique_values = df_clean[col].unique()\n",
    "    \n",
    "    # Determine encoding strategy based on cardinality\n",
    "    if unique_count == 2:\n",
    "        strategy = 'Binary (LabelEncoder)'\n",
    "        reasoning = 'Two unique values - binary encoding optimal'\n",
    "    elif unique_count <= 5:\n",
    "        strategy = 'One-Hot Encoding'\n",
    "        reasoning = 'Low cardinality - one-hot prevents ordinal assumptions'\n",
    "    elif unique_count <= 10:\n",
    "        strategy = 'Target Encoding'\n",
    "        reasoning = 'Medium cardinality - target encoding captures relationships'\n",
    "    else:\n",
    "        strategy = 'Label Encoding + Embedding'\n",
    "        reasoning = 'High cardinality - embeddings learn representations'\n",
    "    \n",
    "    encoding_strategy.append({\n",
    "        'Column': col,\n",
    "        'Unique_Count': unique_count,\n",
    "        'Strategy': strategy,\n",
    "        'Reasoning': reasoning\n",
    "    })\n",
    "    \n",
    "    print(f\"\\n{col}:\")\n",
    "    print(f\"  Unique values: {unique_count}\")\n",
    "    print(f\"  Strategy: {strategy}\")\n",
    "    print(f\"  Sample values: {unique_values[:5]}\")\n",
    "    print(f\"  Value counts: {dict(df_clean[col].value_counts().head())}\")"
   ]
  },
  {
   "cell_type": "markdown",
   "id": "21c87a25",
   "metadata": {},
   "source": [
    "## Binning the columns to reduce the number of columns."
   ]
  },
  {
   "cell_type": "code",
   "execution_count": 76,
   "id": "34697ad9",
   "metadata": {},
   "outputs": [
    {
     "name": "stdout",
     "output_type": "stream",
     "text": [
      "✅ Feature encoding completed and saved as 'encoded_train.csv'\n"
     ]
    }
   ],
   "source": [
    "\n",
    "# Load dataset\n",
    "df = pd.read_csv(\"feature_engineered_train.csv\")\n",
    "\n",
    "# -------------------------------\n",
    "# 1. Drop unnecessary columns\n",
    "# -------------------------------\n",
    "df = df.drop(columns=[\"Gender_Clean\"], errors=\"ignore\")\n",
    "\n",
    "# -------------------------------\n",
    "# 2. Profession – Top 3 + Other\n",
    "# -------------------------------\n",
    "top3_prof = df[\"Profession\"].value_counts().nlargest(3).index.tolist()\n",
    "df[\"Profession\"] = df[\"Profession\"].apply(lambda x: x if x in top3_prof else \"Other\")\n",
    "\n",
    "# -------------------------------\n",
    "# 3. Degree – Simplify into UG / PG / PhD\n",
    "# -------------------------------\n",
    "def simplify_degree(x):\n",
    "    x = str(x).lower()\n",
    "    if any(k in x for k in [\"phd\", \"doctorate\"]):\n",
    "        return \"PhD\"\n",
    "    elif any(k in x for k in [\"m.\", \"master\", \"mba\", \"postgraduate\", \"pg\", \"msc\", \"mtech\", \"ma\", \"mca\"]):\n",
    "        return \"PG\"\n",
    "    elif any(k in x for k in [\"b.\", \"bachelor\", \"undergraduate\", \"ug\", \"btech\", \"ba\", \"bsc\", \"bcom\"]):\n",
    "        return \"UG\"\n",
    "    elif \"class 12\" in x or \"12\" in x:\n",
    "        return \"UG\"\n",
    "    else:\n",
    "        return \"Other\"\n",
    "df[\"Degree\"] = df[\"Degree\"].apply(simplify_degree)\n",
    "\n",
    "# -------------------------------\n",
    "# 4. Dietary Habits – Top 3 + Other\n",
    "# -------------------------------\n",
    "top3_diet = df[\"Dietary Habits\"].value_counts().nlargest(3).index.tolist()\n",
    "df[\"Dietary Habits\"] = df[\"Dietary Habits\"].apply(lambda x: x if x in top3_diet else \"Other\")\n",
    "\n",
    "# -------------------------------\n",
    "# 5. Sleep Duration – Top 3 + Other\n",
    "# -------------------------------\n",
    "top3_sleep = df[\"Sleep Duration\"].value_counts().nlargest(3).index.tolist()\n",
    "df[\"Sleep Duration\"] = df[\"Sleep Duration\"].apply(lambda x: x if x in top3_sleep else \"Other\")\n",
    "\n",
    "# -------------------------------\n",
    "# 6. City – Region Mapping\n",
    "# -------------------------------\n",
    "north = ['delhi', 'chandigarh', 'lucknow', 'kanpur', 'varanasi', 'amritsar', 'ludhiana']\n",
    "south = ['chennai', 'bangalore', 'hyderabad', 'kochi', 'coimbatore', 'visakhapatnam', 'madurai']\n",
    "east  = ['kolkata', 'bhubaneswar', 'patna', 'guwahati', 'ranchi']\n",
    "west  = ['mumbai', 'pune', 'ahmedabad', 'surat', 'vadodara', 'nashik', 'nagpur']\n",
    "central = ['bhopal', 'indore', 'gwalior']\n",
    "\n",
    "def map_city_to_region(city):\n",
    "    city = str(city).strip().lower()\n",
    "    if city in north:\n",
    "        return \"North India\"\n",
    "    elif city in south:\n",
    "        return \"South India\"\n",
    "    elif city in east:\n",
    "        return \"East India\"\n",
    "    elif city in west:\n",
    "        return \"West India\"\n",
    "    elif city in central:\n",
    "        return \"Central India\"\n",
    "    else:\n",
    "        return \"Other Region\"\n",
    "\n",
    "df[\"City\"] = df[\"City\"].apply(map_city_to_region)\n",
    "\n",
    "# -------------------------------\n",
    "# 7. Label Encoding for binary columns\n",
    "# -------------------------------\n",
    "le = LabelEncoder()\n",
    "\n",
    "binary_cols = [\n",
    "    \"Working Professional or Student\",\n",
    "    \"Depression_Label\"\n",
    "]\n",
    "\n",
    "for col in binary_cols:\n",
    "    df[col] = le.fit_transform(df[col].astype(str))\n",
    "\n",
    "# -------------------------------\n",
    "# 8. Label Encoding for low-cardinality categorical columns\n",
    "# -------------------------------\n",
    "low_card_cols = [\n",
    "    \"City\", \"Profession\", \"Degree\", \"Dietary Habits\", \"Sleep Duration\", \"age_profession_combo\"\n",
    "]\n",
    "\n",
    "for col in low_card_cols:\n",
    "    le = LabelEncoder()\n",
    "    df[col] = le.fit_transform(df[col].astype(str))\n",
    "\n",
    "# -------------------------------\n",
    "# 9. One-Hot Encode for Age_Group\n",
    "# -------------------------------\n",
    "df = pd.get_dummies(df, columns=[\"Age_Group\"], drop_first=True)\n",
    "\n",
    "bool_cols = [col for col in df.columns if col.startswith(\"Age_Group_\")]\n",
    "df[bool_cols] = df[bool_cols].astype(int)\n",
    "# -------------------------------\n",
    "# Save the encoded file\n",
    "# -------------------------------\n",
    "df.to_csv(\"encoded_train.csv\", index=False)\n",
    "print(\" Feature encoding completed and saved as 'encoded_train.csv'\")\n"
   ]
  },
  {
   "cell_type": "code",
   "execution_count": 77,
   "id": "d38f8fa3",
   "metadata": {},
   "outputs": [
    {
     "data": {
      "text/html": [
       "<div>\n",
       "<style scoped>\n",
       "    .dataframe tbody tr th:only-of-type {\n",
       "        vertical-align: middle;\n",
       "    }\n",
       "\n",
       "    .dataframe tbody tr th {\n",
       "        vertical-align: top;\n",
       "    }\n",
       "\n",
       "    .dataframe thead th {\n",
       "        text-align: right;\n",
       "    }\n",
       "</style>\n",
       "<table border=\"1\" class=\"dataframe\">\n",
       "  <thead>\n",
       "    <tr style=\"text-align: right;\">\n",
       "      <th></th>\n",
       "      <th>Age</th>\n",
       "      <th>City</th>\n",
       "      <th>Working Professional or Student</th>\n",
       "      <th>Profession</th>\n",
       "      <th>Academic Pressure</th>\n",
       "      <th>Work Pressure</th>\n",
       "      <th>CGPA</th>\n",
       "      <th>Study Satisfaction</th>\n",
       "      <th>Job Satisfaction</th>\n",
       "      <th>Sleep Duration</th>\n",
       "      <th>Dietary Habits</th>\n",
       "      <th>Degree</th>\n",
       "      <th>Have you ever had suicidal thoughts ?</th>\n",
       "      <th>Work/Study Hours</th>\n",
       "      <th>Financial Stress</th>\n",
       "      <th>Family History of Mental Illness</th>\n",
       "      <th>Depression_Label</th>\n",
       "      <th>Academic Pressure_missing</th>\n",
       "      <th>Work Pressure_missing</th>\n",
       "      <th>CGPA_missing</th>\n",
       "      <th>Study Satisfaction_missing</th>\n",
       "      <th>Job Satisfaction_missing</th>\n",
       "      <th>Financial Stress_missing</th>\n",
       "      <th>lifestyle_risk_score</th>\n",
       "      <th>age_profession_combo</th>\n",
       "      <th>mental_health_risk_score</th>\n",
       "      <th>Age_Group_26-35</th>\n",
       "      <th>Age_Group_36-45</th>\n",
       "      <th>Age_Group_46-60</th>\n",
       "    </tr>\n",
       "  </thead>\n",
       "  <tbody>\n",
       "    <tr>\n",
       "      <th>0</th>\n",
       "      <td>49</td>\n",
       "      <td>2</td>\n",
       "      <td>1</td>\n",
       "      <td>0</td>\n",
       "      <td>3.0</td>\n",
       "      <td>5.0</td>\n",
       "      <td>7.77</td>\n",
       "      <td>3.0</td>\n",
       "      <td>2.0</td>\n",
       "      <td>3</td>\n",
       "      <td>1</td>\n",
       "      <td>0</td>\n",
       "      <td>0</td>\n",
       "      <td>1</td>\n",
       "      <td>2.0</td>\n",
       "      <td>0</td>\n",
       "      <td>1</td>\n",
       "      <td>1</td>\n",
       "      <td>0</td>\n",
       "      <td>1</td>\n",
       "      <td>1</td>\n",
       "      <td>0</td>\n",
       "      <td>0</td>\n",
       "      <td>3.0</td>\n",
       "      <td>7</td>\n",
       "      <td>1.7</td>\n",
       "      <td>0</td>\n",
       "      <td>0</td>\n",
       "      <td>1</td>\n",
       "    </tr>\n",
       "    <tr>\n",
       "      <th>1</th>\n",
       "      <td>26</td>\n",
       "      <td>2</td>\n",
       "      <td>1</td>\n",
       "      <td>3</td>\n",
       "      <td>3.0</td>\n",
       "      <td>4.0</td>\n",
       "      <td>7.77</td>\n",
       "      <td>3.0</td>\n",
       "      <td>3.0</td>\n",
       "      <td>2</td>\n",
       "      <td>3</td>\n",
       "      <td>0</td>\n",
       "      <td>1</td>\n",
       "      <td>7</td>\n",
       "      <td>3.0</td>\n",
       "      <td>0</td>\n",
       "      <td>0</td>\n",
       "      <td>1</td>\n",
       "      <td>0</td>\n",
       "      <td>1</td>\n",
       "      <td>1</td>\n",
       "      <td>0</td>\n",
       "      <td>0</td>\n",
       "      <td>6.0</td>\n",
       "      <td>3</td>\n",
       "      <td>2.7</td>\n",
       "      <td>1</td>\n",
       "      <td>0</td>\n",
       "      <td>0</td>\n",
       "    </tr>\n",
       "    <tr>\n",
       "      <th>2</th>\n",
       "      <td>33</td>\n",
       "      <td>4</td>\n",
       "      <td>0</td>\n",
       "      <td>2</td>\n",
       "      <td>5.0</td>\n",
       "      <td>3.0</td>\n",
       "      <td>8.97</td>\n",
       "      <td>2.0</td>\n",
       "      <td>3.0</td>\n",
       "      <td>1</td>\n",
       "      <td>1</td>\n",
       "      <td>3</td>\n",
       "      <td>1</td>\n",
       "      <td>3</td>\n",
       "      <td>1.0</td>\n",
       "      <td>0</td>\n",
       "      <td>0</td>\n",
       "      <td>0</td>\n",
       "      <td>1</td>\n",
       "      <td>0</td>\n",
       "      <td>0</td>\n",
       "      <td>1</td>\n",
       "      <td>0</td>\n",
       "      <td>3.0</td>\n",
       "      <td>2</td>\n",
       "      <td>1.4</td>\n",
       "      <td>1</td>\n",
       "      <td>0</td>\n",
       "      <td>0</td>\n",
       "    </tr>\n",
       "    <tr>\n",
       "      <th>3</th>\n",
       "      <td>22</td>\n",
       "      <td>5</td>\n",
       "      <td>1</td>\n",
       "      <td>3</td>\n",
       "      <td>3.0</td>\n",
       "      <td>5.0</td>\n",
       "      <td>7.77</td>\n",
       "      <td>3.0</td>\n",
       "      <td>1.0</td>\n",
       "      <td>2</td>\n",
       "      <td>2</td>\n",
       "      <td>3</td>\n",
       "      <td>1</td>\n",
       "      <td>10</td>\n",
       "      <td>1.0</td>\n",
       "      <td>1</td>\n",
       "      <td>0</td>\n",
       "      <td>1</td>\n",
       "      <td>0</td>\n",
       "      <td>1</td>\n",
       "      <td>1</td>\n",
       "      <td>0</td>\n",
       "      <td>0</td>\n",
       "      <td>5.0</td>\n",
       "      <td>1</td>\n",
       "      <td>2.4</td>\n",
       "      <td>0</td>\n",
       "      <td>0</td>\n",
       "      <td>0</td>\n",
       "    </tr>\n",
       "    <tr>\n",
       "      <th>4</th>\n",
       "      <td>30</td>\n",
       "      <td>2</td>\n",
       "      <td>1</td>\n",
       "      <td>0</td>\n",
       "      <td>3.0</td>\n",
       "      <td>1.0</td>\n",
       "      <td>7.77</td>\n",
       "      <td>3.0</td>\n",
       "      <td>1.0</td>\n",
       "      <td>1</td>\n",
       "      <td>3</td>\n",
       "      <td>3</td>\n",
       "      <td>1</td>\n",
       "      <td>9</td>\n",
       "      <td>4.0</td>\n",
       "      <td>1</td>\n",
       "      <td>1</td>\n",
       "      <td>1</td>\n",
       "      <td>0</td>\n",
       "      <td>1</td>\n",
       "      <td>1</td>\n",
       "      <td>0</td>\n",
       "      <td>0</td>\n",
       "      <td>5.0</td>\n",
       "      <td>3</td>\n",
       "      <td>2.3</td>\n",
       "      <td>1</td>\n",
       "      <td>0</td>\n",
       "      <td>0</td>\n",
       "    </tr>\n",
       "    <tr>\n",
       "      <th>...</th>\n",
       "      <td>...</td>\n",
       "      <td>...</td>\n",
       "      <td>...</td>\n",
       "      <td>...</td>\n",
       "      <td>...</td>\n",
       "      <td>...</td>\n",
       "      <td>...</td>\n",
       "      <td>...</td>\n",
       "      <td>...</td>\n",
       "      <td>...</td>\n",
       "      <td>...</td>\n",
       "      <td>...</td>\n",
       "      <td>...</td>\n",
       "      <td>...</td>\n",
       "      <td>...</td>\n",
       "      <td>...</td>\n",
       "      <td>...</td>\n",
       "      <td>...</td>\n",
       "      <td>...</td>\n",
       "      <td>...</td>\n",
       "      <td>...</td>\n",
       "      <td>...</td>\n",
       "      <td>...</td>\n",
       "      <td>...</td>\n",
       "      <td>...</td>\n",
       "      <td>...</td>\n",
       "      <td>...</td>\n",
       "      <td>...</td>\n",
       "      <td>...</td>\n",
       "    </tr>\n",
       "    <tr>\n",
       "      <th>140695</th>\n",
       "      <td>18</td>\n",
       "      <td>5</td>\n",
       "      <td>1</td>\n",
       "      <td>3</td>\n",
       "      <td>3.0</td>\n",
       "      <td>5.0</td>\n",
       "      <td>7.77</td>\n",
       "      <td>3.0</td>\n",
       "      <td>4.0</td>\n",
       "      <td>1</td>\n",
       "      <td>3</td>\n",
       "      <td>3</td>\n",
       "      <td>0</td>\n",
       "      <td>2</td>\n",
       "      <td>4.0</td>\n",
       "      <td>1</td>\n",
       "      <td>0</td>\n",
       "      <td>1</td>\n",
       "      <td>0</td>\n",
       "      <td>1</td>\n",
       "      <td>1</td>\n",
       "      <td>0</td>\n",
       "      <td>0</td>\n",
       "      <td>5.0</td>\n",
       "      <td>1</td>\n",
       "      <td>2.3</td>\n",
       "      <td>0</td>\n",
       "      <td>0</td>\n",
       "      <td>0</td>\n",
       "    </tr>\n",
       "    <tr>\n",
       "      <th>140696</th>\n",
       "      <td>41</td>\n",
       "      <td>4</td>\n",
       "      <td>1</td>\n",
       "      <td>1</td>\n",
       "      <td>3.0</td>\n",
       "      <td>5.0</td>\n",
       "      <td>7.77</td>\n",
       "      <td>3.0</td>\n",
       "      <td>4.0</td>\n",
       "      <td>0</td>\n",
       "      <td>2</td>\n",
       "      <td>3</td>\n",
       "      <td>1</td>\n",
       "      <td>6</td>\n",
       "      <td>5.0</td>\n",
       "      <td>1</td>\n",
       "      <td>1</td>\n",
       "      <td>1</td>\n",
       "      <td>0</td>\n",
       "      <td>1</td>\n",
       "      <td>1</td>\n",
       "      <td>0</td>\n",
       "      <td>0</td>\n",
       "      <td>3.0</td>\n",
       "      <td>5</td>\n",
       "      <td>1.6</td>\n",
       "      <td>0</td>\n",
       "      <td>1</td>\n",
       "      <td>0</td>\n",
       "    </tr>\n",
       "    <tr>\n",
       "      <th>140697</th>\n",
       "      <td>24</td>\n",
       "      <td>1</td>\n",
       "      <td>1</td>\n",
       "      <td>0</td>\n",
       "      <td>3.0</td>\n",
       "      <td>3.0</td>\n",
       "      <td>7.77</td>\n",
       "      <td>3.0</td>\n",
       "      <td>1.0</td>\n",
       "      <td>3</td>\n",
       "      <td>2</td>\n",
       "      <td>3</td>\n",
       "      <td>0</td>\n",
       "      <td>4</td>\n",
       "      <td>4.0</td>\n",
       "      <td>0</td>\n",
       "      <td>1</td>\n",
       "      <td>1</td>\n",
       "      <td>0</td>\n",
       "      <td>1</td>\n",
       "      <td>1</td>\n",
       "      <td>0</td>\n",
       "      <td>0</td>\n",
       "      <td>4.0</td>\n",
       "      <td>1</td>\n",
       "      <td>2.0</td>\n",
       "      <td>0</td>\n",
       "      <td>0</td>\n",
       "      <td>0</td>\n",
       "    </tr>\n",
       "    <tr>\n",
       "      <th>140698</th>\n",
       "      <td>49</td>\n",
       "      <td>3</td>\n",
       "      <td>1</td>\n",
       "      <td>0</td>\n",
       "      <td>3.0</td>\n",
       "      <td>5.0</td>\n",
       "      <td>7.77</td>\n",
       "      <td>3.0</td>\n",
       "      <td>2.0</td>\n",
       "      <td>1</td>\n",
       "      <td>2</td>\n",
       "      <td>0</td>\n",
       "      <td>1</td>\n",
       "      <td>10</td>\n",
       "      <td>1.0</td>\n",
       "      <td>0</td>\n",
       "      <td>1</td>\n",
       "      <td>1</td>\n",
       "      <td>0</td>\n",
       "      <td>1</td>\n",
       "      <td>1</td>\n",
       "      <td>0</td>\n",
       "      <td>0</td>\n",
       "      <td>4.0</td>\n",
       "      <td>7</td>\n",
       "      <td>2.0</td>\n",
       "      <td>0</td>\n",
       "      <td>0</td>\n",
       "      <td>1</td>\n",
       "    </tr>\n",
       "    <tr>\n",
       "      <th>140699</th>\n",
       "      <td>27</td>\n",
       "      <td>1</td>\n",
       "      <td>0</td>\n",
       "      <td>2</td>\n",
       "      <td>4.0</td>\n",
       "      <td>3.0</td>\n",
       "      <td>9.24</td>\n",
       "      <td>1.0</td>\n",
       "      <td>3.0</td>\n",
       "      <td>2</td>\n",
       "      <td>1</td>\n",
       "      <td>0</td>\n",
       "      <td>1</td>\n",
       "      <td>2</td>\n",
       "      <td>3.0</td>\n",
       "      <td>1</td>\n",
       "      <td>0</td>\n",
       "      <td>0</td>\n",
       "      <td>1</td>\n",
       "      <td>0</td>\n",
       "      <td>0</td>\n",
       "      <td>1</td>\n",
       "      <td>0</td>\n",
       "      <td>4.0</td>\n",
       "      <td>2</td>\n",
       "      <td>1.8</td>\n",
       "      <td>1</td>\n",
       "      <td>0</td>\n",
       "      <td>0</td>\n",
       "    </tr>\n",
       "  </tbody>\n",
       "</table>\n",
       "<p>140700 rows × 29 columns</p>\n",
       "</div>"
      ],
      "text/plain": [
       "        Age  City  Working Professional or Student  Profession  \\\n",
       "0        49     2                                1           0   \n",
       "1        26     2                                1           3   \n",
       "2        33     4                                0           2   \n",
       "3        22     5                                1           3   \n",
       "4        30     2                                1           0   \n",
       "...     ...   ...                              ...         ...   \n",
       "140695   18     5                                1           3   \n",
       "140696   41     4                                1           1   \n",
       "140697   24     1                                1           0   \n",
       "140698   49     3                                1           0   \n",
       "140699   27     1                                0           2   \n",
       "\n",
       "        Academic Pressure  Work Pressure  CGPA  Study Satisfaction  \\\n",
       "0                     3.0            5.0  7.77                 3.0   \n",
       "1                     3.0            4.0  7.77                 3.0   \n",
       "2                     5.0            3.0  8.97                 2.0   \n",
       "3                     3.0            5.0  7.77                 3.0   \n",
       "4                     3.0            1.0  7.77                 3.0   \n",
       "...                   ...            ...   ...                 ...   \n",
       "140695                3.0            5.0  7.77                 3.0   \n",
       "140696                3.0            5.0  7.77                 3.0   \n",
       "140697                3.0            3.0  7.77                 3.0   \n",
       "140698                3.0            5.0  7.77                 3.0   \n",
       "140699                4.0            3.0  9.24                 1.0   \n",
       "\n",
       "        Job Satisfaction  Sleep Duration  Dietary Habits  Degree  \\\n",
       "0                    2.0               3               1       0   \n",
       "1                    3.0               2               3       0   \n",
       "2                    3.0               1               1       3   \n",
       "3                    1.0               2               2       3   \n",
       "4                    1.0               1               3       3   \n",
       "...                  ...             ...             ...     ...   \n",
       "140695               4.0               1               3       3   \n",
       "140696               4.0               0               2       3   \n",
       "140697               1.0               3               2       3   \n",
       "140698               2.0               1               2       0   \n",
       "140699               3.0               2               1       0   \n",
       "\n",
       "        Have you ever had suicidal thoughts ?  Work/Study Hours  \\\n",
       "0                                           0                 1   \n",
       "1                                           1                 7   \n",
       "2                                           1                 3   \n",
       "3                                           1                10   \n",
       "4                                           1                 9   \n",
       "...                                       ...               ...   \n",
       "140695                                      0                 2   \n",
       "140696                                      1                 6   \n",
       "140697                                      0                 4   \n",
       "140698                                      1                10   \n",
       "140699                                      1                 2   \n",
       "\n",
       "        Financial Stress  Family History of Mental Illness  Depression_Label  \\\n",
       "0                    2.0                                 0                 1   \n",
       "1                    3.0                                 0                 0   \n",
       "2                    1.0                                 0                 0   \n",
       "3                    1.0                                 1                 0   \n",
       "4                    4.0                                 1                 1   \n",
       "...                  ...                               ...               ...   \n",
       "140695               4.0                                 1                 0   \n",
       "140696               5.0                                 1                 1   \n",
       "140697               4.0                                 0                 1   \n",
       "140698               1.0                                 0                 1   \n",
       "140699               3.0                                 1                 0   \n",
       "\n",
       "        Academic Pressure_missing  Work Pressure_missing  CGPA_missing  \\\n",
       "0                               1                      0             1   \n",
       "1                               1                      0             1   \n",
       "2                               0                      1             0   \n",
       "3                               1                      0             1   \n",
       "4                               1                      0             1   \n",
       "...                           ...                    ...           ...   \n",
       "140695                          1                      0             1   \n",
       "140696                          1                      0             1   \n",
       "140697                          1                      0             1   \n",
       "140698                          1                      0             1   \n",
       "140699                          0                      1             0   \n",
       "\n",
       "        Study Satisfaction_missing  Job Satisfaction_missing  \\\n",
       "0                                1                         0   \n",
       "1                                1                         0   \n",
       "2                                0                         1   \n",
       "3                                1                         0   \n",
       "4                                1                         0   \n",
       "...                            ...                       ...   \n",
       "140695                           1                         0   \n",
       "140696                           1                         0   \n",
       "140697                           1                         0   \n",
       "140698                           1                         0   \n",
       "140699                           0                         1   \n",
       "\n",
       "        Financial Stress_missing  lifestyle_risk_score  age_profession_combo  \\\n",
       "0                              0                   3.0                     7   \n",
       "1                              0                   6.0                     3   \n",
       "2                              0                   3.0                     2   \n",
       "3                              0                   5.0                     1   \n",
       "4                              0                   5.0                     3   \n",
       "...                          ...                   ...                   ...   \n",
       "140695                         0                   5.0                     1   \n",
       "140696                         0                   3.0                     5   \n",
       "140697                         0                   4.0                     1   \n",
       "140698                         0                   4.0                     7   \n",
       "140699                         0                   4.0                     2   \n",
       "\n",
       "        mental_health_risk_score  Age_Group_26-35  Age_Group_36-45  \\\n",
       "0                            1.7                0                0   \n",
       "1                            2.7                1                0   \n",
       "2                            1.4                1                0   \n",
       "3                            2.4                0                0   \n",
       "4                            2.3                1                0   \n",
       "...                          ...              ...              ...   \n",
       "140695                       2.3                0                0   \n",
       "140696                       1.6                0                1   \n",
       "140697                       2.0                0                0   \n",
       "140698                       2.0                0                0   \n",
       "140699                       1.8                1                0   \n",
       "\n",
       "        Age_Group_46-60  \n",
       "0                     1  \n",
       "1                     0  \n",
       "2                     0  \n",
       "3                     0  \n",
       "4                     0  \n",
       "...                 ...  \n",
       "140695                0  \n",
       "140696                0  \n",
       "140697                0  \n",
       "140698                1  \n",
       "140699                0  \n",
       "\n",
       "[140700 rows x 29 columns]"
      ]
     },
     "execution_count": 77,
     "metadata": {},
     "output_type": "execute_result"
    }
   ],
   "source": [
    "df"
   ]
  },
  {
   "cell_type": "markdown",
   "id": "eeeb0c77",
   "metadata": {},
   "source": [
    "## 4.2.2: Feature Scaling and Normalization "
   ]
  },
  {
   "cell_type": "code",
   "execution_count": 78,
   "id": "0d2a6fee",
   "metadata": {},
   "outputs": [
    {
     "name": "stdout",
     "output_type": "stream",
     "text": [
      " Feature scaling completed and saved as 'scaled_train.csv'\n"
     ]
    }
   ],
   "source": [
    "\n",
    "\n",
    "# Load encoded dataset\n",
    "df = pd.read_csv(\"encoded_train.csv\")\n",
    "\n",
    "# -------------------------------\n",
    "# 1. Separate target and features\n",
    "# -------------------------------\n",
    "target_col = \"Depression_Label\"\n",
    "X = df.drop(columns=[target_col], errors=\"ignore\")\n",
    "y = df[target_col]\n",
    "\n",
    "# -------------------------------\n",
    "# 2. Identify numeric columns\n",
    "# -------------------------------\n",
    "num_cols = X.select_dtypes(include=['int64', 'float64']).columns\n",
    "\n",
    "# -------------------------------\n",
    "# 3. Apply StandardScaler\n",
    "# -------------------------------\n",
    "scaler = StandardScaler()\n",
    "X_scaled = X.copy()\n",
    "X_scaled[num_cols] = scaler.fit_transform(X[num_cols])\n",
    "\n",
    "# -------------------------------\n",
    "# 4. Combine back with target\n",
    "# -------------------------------\n",
    "scaled_df = pd.concat([X_scaled, y], axis=1)\n",
    "\n",
    "# -------------------------------\n",
    "# 5. Save the scaled dataset\n",
    "# -------------------------------\n",
    "scaled_df.to_csv(\"scaled_train.csv\", index=False)\n",
    "print(\" Feature scaling completed and saved as 'scaled_train.csv'\")\n"
   ]
  },
  {
   "cell_type": "markdown",
   "id": "7b170a26",
   "metadata": {},
   "source": [
    "## 4.2.3: Class Imbalance Assessment and Mitigation\n"
   ]
  },
  {
   "cell_type": "code",
   "execution_count": 84,
   "id": "5f228090",
   "metadata": {},
   "outputs": [
    {
     "name": "stdout",
     "output_type": "stream",
     "text": [
      "Before balancing:\n",
      "Counter({1: 115133, 0: 25567})\n",
      "\n",
      " Significant imbalance detected. Applying SMOTE...\n",
      "\n",
      "After balancing:\n",
      "Counter({1: 115133, 0: 115133})\n",
      "\n",
      " Balanced dataset saved as 'balanced_train.csv'\n"
     ]
    }
   ],
   "source": [
    "\n",
    "# Load scaled dataset\n",
    "df = pd.read_csv(\"scaled_train.csv\")\n",
    "\n",
    "# -------------------------------\n",
    "# 1. Separate target and features\n",
    "# -------------------------------\n",
    "target_col = \"Depression_Label\"\n",
    "X = df.drop(columns=[target_col], errors=\"ignore\")\n",
    "y = df[target_col]\n",
    "\n",
    "# -------------------------------\n",
    "# 2. Check class distribution\n",
    "# -------------------------------\n",
    "print(\"Before balancing:\")\n",
    "print(Counter(y))\n",
    "\n",
    "# -------------------------------\n",
    "# 3. Apply SMOTE only if imbalance > 70:30\n",
    "# -------------------------------\n",
    "ratio = y.value_counts(normalize=True)\n",
    "minority_ratio = ratio.min()\n",
    "\n",
    "if minority_ratio < 0.3:\n",
    "    print(\"\\n Significant imbalance detected. Applying SMOTE...\")\n",
    "    smote = SMOTE(random_state=42)\n",
    "    X_res, y_res = smote.fit_resample(X, y)\n",
    "    balanced_df = pd.concat([pd.DataFrame(X_res, columns=X.columns),\n",
    "                             pd.Series(y_res, name=target_col)], axis=1)\n",
    "else:\n",
    "    print(\"\\n Balance is acceptable. Skipping SMOTE.\")\n",
    "    balanced_df = df.copy()\n",
    "\n",
    "# -------------------------------\n",
    "# 4. Check distribution after balancing\n",
    "# -------------------------------\n",
    "print(\"\\nAfter balancing:\")\n",
    "print(Counter(balanced_df[target_col]))\n",
    "\n",
    "# -------------------------------\n",
    "# 5. Save the balanced dataset\n",
    "# -------------------------------\n",
    "balanced_df.to_csv(\"balanced_train.csv\", index=False)\n",
    "print(\"\\n Balanced dataset saved as 'balanced_train.csv'\")"
   ]
  },
  {
   "cell_type": "markdown",
   "id": "4382f2cb",
   "metadata": {},
   "source": [
    "## PYTORCH MODEL DEVELOPMENT CONFIGURATION"
   ]
  },
  {
   "cell_type": "code",
   "execution_count": 15,
   "id": "7ea5f623",
   "metadata": {},
   "outputs": [
    {
     "name": "stdout",
     "output_type": "stream",
     "text": [
      " Feature columns saved successfully!\n",
      "Epoch [5/30], Loss: 0.2355\n",
      "Epoch [10/30], Loss: 0.2166\n",
      "Epoch [15/30], Loss: 0.2105\n",
      "Epoch [20/30], Loss: 0.2594\n",
      "Epoch [25/30], Loss: 0.1585\n",
      "Epoch [30/30], Loss: 0.1801\n",
      "\n",
      " Model Evaluation Metrics:\n",
      "Accuracy : 0.9316\n",
      "Precision: 0.9330\n",
      "Recall   : 0.9300\n",
      "F1 Score : 0.9315\n",
      "\n",
      "Confusion Matrix:\n",
      " [[21489  1538]\n",
      " [ 1611 21416]]\n",
      "\n",
      " Model saved as 'depression_model.pth'\n"
     ]
    }
   ],
   "source": [
    "# -------------------------------\n",
    "# 1. Load the processed dataset\n",
    "# -------------------------------\n",
    "df = pd.read_csv(\"balanced_train.csv\")\n",
    "\n",
    "# Separate features and target\n",
    "target_col = \"Depression_Label\"\n",
    "X = df.drop(columns=[target_col])\n",
    "y = df[target_col]\n",
    "\n",
    "# Save feature column list for deployment use\n",
    "feature_columns = X.columns.tolist()\n",
    "import joblib\n",
    "joblib.dump(feature_columns, \"feature_columns.pkl\")\n",
    "print(\" Feature columns saved successfully!\")\n",
    "\n",
    "# Convert to numpy arrays (after saving columns)\n",
    "X = X.values\n",
    "y = y.values\n",
    "\n",
    "# -------------------------------\n",
    "# 2. Train-test split\n",
    "# -------------------------------\n",
    "X_train, X_test, y_train, y_test = train_test_split(\n",
    "    X, y, test_size=0.2, random_state=42, stratify=y\n",
    ")\n",
    "\n",
    "# Convert to torch tensors (after splitting)\n",
    "X_train = torch.tensor(X_train, dtype=torch.float32)\n",
    "X_test = torch.tensor(X_test, dtype=torch.float32)\n",
    "y_train = torch.tensor(y_train, dtype=torch.float32).view(-1, 1)\n",
    "y_test = torch.tensor(y_test, dtype=torch.float32).view(-1, 1)\n",
    "\n",
    "# -------------------------------\n",
    "# 3. Define the neural network\n",
    "# -------------------------------\n",
    "class DepressionNet(nn.Module):\n",
    "    def __init__(self, input_dim):\n",
    "        super(DepressionNet, self).__init__()\n",
    "        self.model = nn.Sequential(\n",
    "            nn.Linear(input_dim, 128),\n",
    "            nn.ReLU(),\n",
    "            nn.Dropout(0.3),\n",
    "            nn.Linear(128, 64),\n",
    "            nn.ReLU(),\n",
    "            nn.Dropout(0.3),\n",
    "            nn.Linear(64, 1),\n",
    "            nn.Sigmoid()\n",
    "        )\n",
    "        \n",
    "    def forward(self, x):\n",
    "        return self.model(x)\n",
    "\n",
    "# Initialize model\n",
    "input_dim = X_train.shape[1]\n",
    "model = DepressionNet(input_dim)\n",
    "\n",
    "# -------------------------------\n",
    "# 4. Loss & Optimizer\n",
    "# -------------------------------\n",
    "criterion = nn.BCELoss()\n",
    "optimizer = optim.Adam(model.parameters(), lr=0.001)\n",
    "\n",
    "# -------------------------------\n",
    "# 5. Training Loop\n",
    "# -------------------------------\n",
    "epochs = 30\n",
    "batch_size = 256\n",
    "\n",
    "for epoch in range(epochs):\n",
    "    model.train()\n",
    "    permutation = torch.randperm(X_train.size()[0])\n",
    "    \n",
    "    for i in range(0, X_train.size()[0], batch_size):\n",
    "        indices = permutation[i:i+batch_size]\n",
    "        batch_x, batch_y = X_train[indices], y_train[indices]\n",
    "        \n",
    "        optimizer.zero_grad()\n",
    "        outputs = model(batch_x)\n",
    "        loss = criterion(outputs, batch_y)\n",
    "        loss.backward()\n",
    "        optimizer.step()\n",
    "    \n",
    "    if (epoch+1) % 5 == 0:\n",
    "        print(f\"Epoch [{epoch+1}/{epochs}], Loss: {loss.item():.4f}\")\n",
    "\n",
    "# -------------------------------\n",
    "# 6. Evaluation\n",
    "# -------------------------------\n",
    "model.eval()\n",
    "with torch.no_grad():\n",
    "    preds = model(X_test)\n",
    "    preds = (preds >= 0.5).float()\n",
    "    \n",
    "accuracy = accuracy_score(y_test, preds)\n",
    "precision = precision_score(y_test, preds)\n",
    "recall = recall_score(y_test, preds)\n",
    "f1 = f1_score(y_test, preds)\n",
    "cm = confusion_matrix(y_test, preds)\n",
    "\n",
    "print(\"\\n Model Evaluation Metrics:\")\n",
    "print(f\"Accuracy : {accuracy:.4f}\")\n",
    "print(f\"Precision: {precision:.4f}\")\n",
    "print(f\"Recall   : {recall:.4f}\")\n",
    "print(f\"F1 Score : {f1:.4f}\")\n",
    "print(\"\\nConfusion Matrix:\\n\", cm)\n",
    "\n",
    "# -------------------------------\n",
    "# 7. Save the trained model\n",
    "# -------------------------------\n",
    "torch.save(model.state_dict(), \"depression_model.pth\")\n",
    "print(\"\\n Model saved as 'depression_model.pth'\")\n"
   ]
  },
  {
   "cell_type": "code",
   "execution_count": null,
   "id": "dd86622f",
   "metadata": {},
   "outputs": [],
   "source": []
  },
  {
   "cell_type": "code",
   "execution_count": null,
   "id": "77d83ca1",
   "metadata": {},
   "outputs": [],
   "source": []
  },
  {
   "cell_type": "code",
   "execution_count": null,
   "id": "31b782ab",
   "metadata": {},
   "outputs": [],
   "source": []
  },
  {
   "cell_type": "code",
   "execution_count": null,
   "id": "26672147",
   "metadata": {},
   "outputs": [],
   "source": []
  },
  {
   "cell_type": "code",
   "execution_count": null,
   "id": "8b39e9b5",
   "metadata": {},
   "outputs": [],
   "source": []
  },
  {
   "cell_type": "code",
   "execution_count": null,
   "metadata": {},
   "outputs": [],
   "source": []
  },
  {
   "cell_type": "code",
   "execution_count": null,
   "metadata": {},
   "outputs": [],
   "source": []
  }
 ],
 "metadata": {
  "kernelspec": {
   "display_name": "mental_health_env",
   "language": "python",
   "name": "python3"
  },
  "language_info": {
   "codemirror_mode": {
    "name": "ipython",
    "version": 3
   },
   "file_extension": ".py",
   "mimetype": "text/x-python",
   "name": "python",
   "nbconvert_exporter": "python",
   "pygments_lexer": "ipython3",
   "version": "3.9.6"
  }
 },
 "nbformat": 4,
 "nbformat_minor": 5
}
